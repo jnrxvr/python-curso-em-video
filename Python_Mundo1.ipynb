{
  "nbformat": 4,
  "nbformat_minor": 0,
  "metadata": {
    "colab": {
      "provenance": []
    },
    "kernelspec": {
      "name": "python3",
      "display_name": "Python 3"
    },
    "language_info": {
      "name": "python"
    }
  },
  "cells": [
    {
      "cell_type": "markdown",
      "source": [
        "# NOTEBOOK DOS EXERCÍCIOS DO MUNDO 1 DE PYTHON DO CURSO EM VÍDEO"
      ],
      "metadata": {
        "id": "XeLZAThi62ng"
      }
    },
    {
      "cell_type": "markdown",
      "source": [
        "## Exercício Python 2: Faça um programa que leia o nome de uma pessoa e mostre uma mensagem de boas-vindas."
      ],
      "metadata": {
        "id": "xJJm_fIK5RKx"
      }
    },
    {
      "cell_type": "code",
      "source": [
        "nome = input('Digite um nome: ')\n",
        "print(f'Seja muito bem-vindo(a), {nome}!')"
      ],
      "metadata": {
        "id": "rpJdbUbFvprS",
        "colab": {
          "base_uri": "https://localhost:8080/"
        },
        "outputId": "5c897fa7-a31c-4276-c896-4f072bc4396b"
      },
      "execution_count": null,
      "outputs": [
        {
          "output_type": "stream",
          "name": "stdout",
          "text": [
            "Digite um nome: Junior\n",
            "Seja muito bem-vindo, Junior!\n"
          ]
        }
      ]
    },
    {
      "cell_type": "markdown",
      "source": [
        "## Exercício Python 3: Crie um programa que leia dois números e mostre a soma entre eles."
      ],
      "metadata": {
        "id": "050vCpdD5hVJ"
      }
    },
    {
      "cell_type": "code",
      "source": [
        "a = int(input('Digite um valor: '))\n",
        "b = int(input('Digite outro valor: '))\n",
        "print(f'A soma entre {a} e {b} é {a+b}.')"
      ],
      "metadata": {
        "id": "yLgdw_8YvqRZ"
      },
      "execution_count": null,
      "outputs": []
    },
    {
      "cell_type": "markdown",
      "source": [
        "## Exercício Python 4: Faça um programa que leia algo pelo teclado e mostre na tela o seu tipo primitivo e todas as informações possíveis sobre ele."
      ],
      "metadata": {
        "id": "ISsYubsv5pxe"
      }
    },
    {
      "cell_type": "code",
      "source": [
        "a = input('Digite algo: ')\n",
        "print(f'O tipo primitivo dessa variável é: {type(a)}') # A FUNÇÃO INPUT RETORNA SEMPRE UMA STRING MESMO QUE UM NÚMERO SEJA DIGITADO\n",
        "\n",
        "print(f'{a} é alfanumérico? {a.isalnum()}')\n",
        "print(f'{a} é alfabético? {a.isalpha()}')\n",
        "print(f'{a} é numérico? {a.isnumeric()}')\n",
        "print(f'{a} é decimal? {a.isdecimal()}')\n",
        "print(f'{a} está em minúsculas? {a.islower()}')\n",
        "print(f'{a} está em maiúsculas? {a.isupper()}')\n",
        "print(f'{a} é printável? {a.isprintable()}')\n",
        "print(f'{a} está capitalizado? {a.istitle()}')"
      ],
      "metadata": {
        "id": "8eU5dXdYvqqb"
      },
      "execution_count": null,
      "outputs": []
    },
    {
      "cell_type": "markdown",
      "source": [
        "## Exercício Python 5: Faça um programa que leia um número inteiro e mostre na tela o seu sucessor e seu antecessor."
      ],
      "metadata": {
        "id": "ySXAG8hN5x49"
      }
    },
    {
      "cell_type": "code",
      "source": [
        "num = int(input('Digite um número inteiro: '))\n",
        "antecessor = num - 1\n",
        "sucessor = num + 1\n",
        "\n",
        "print(f'O antecessor de {num} é {antecessor}')\n",
        "print(f'O sucessor de {num} é {sucessor}.')"
      ],
      "metadata": {
        "id": "FqwCuT3UvrRh"
      },
      "execution_count": null,
      "outputs": []
    },
    {
      "cell_type": "markdown",
      "source": [
        "## Exercício Python 006: Crie um algoritmo que leia um número e mostre o seu dobro, triplo e raiz quadrada."
      ],
      "metadata": {
        "id": "16WXdTkh52cv"
      }
    },
    {
      "cell_type": "code",
      "source": [
        "num = float(input('Digite um número: '))\n",
        "\n",
        "dobro = num * 2\n",
        "triplo = num * 3\n",
        "raizq = num**(1/2)\n",
        "\n",
        "print(f'Número digitado: {num}. \\nSeu dobro: {dobro} \\nSeu triplo: {triplo} \\nSua raíz quadrada: {raizq}.')"
      ],
      "metadata": {
        "id": "2QdAoNhDvrua"
      },
      "execution_count": null,
      "outputs": []
    },
    {
      "cell_type": "markdown",
      "source": [
        "## Exercício Python 7: Desenvolva um programa que leia as duas notas de um aluno, calcule e mostre a sua média."
      ],
      "metadata": {
        "id": "94BVpwGG572Z"
      }
    },
    {
      "cell_type": "code",
      "source": [
        "n1 = float(input('Digite a primeira nota do(a) aluno(a): '))\n",
        "n2 = float(input('Digite a segunda nota do(a) aluno(a): '))\n",
        "\n",
        "media = (n1 + n2)/2\n",
        "\n",
        "print(f'A média do(a) aluno(a) é de {media} pontos.')"
      ],
      "metadata": {
        "id": "tdOFA30evsPG"
      },
      "execution_count": null,
      "outputs": []
    },
    {
      "cell_type": "markdown",
      "source": [
        "## Exercício Python 8: Escreva um programa que leia um valor em metros e o exiba convertido em centímetros e milímetros."
      ],
      "metadata": {
        "id": "g81qECyY6AhU"
      }
    },
    {
      "cell_type": "code",
      "source": [
        "m = float(input('Digite o valor da medida em metros (m): '))\n",
        "\n",
        "cm = m * 100\n",
        "mm = m * 1000\n",
        "\n",
        "print(f'{m} metro(s) é igual a {cm} centímetro(s) ou {mm} milímetros.')"
      ],
      "metadata": {
        "id": "RGSUZhKSvswz"
      },
      "execution_count": null,
      "outputs": []
    },
    {
      "cell_type": "markdown",
      "source": [
        "## Exercício Python 9: Faça um programa que leia um número Inteiro qualquer e mostre na tela a sua tabuada."
      ],
      "metadata": {
        "id": "I3P3HkeC6Fvu"
      }
    },
    {
      "cell_type": "code",
      "source": [
        "\n",
        "num = int(input('Digite um número inteiro: '))\n",
        "\n",
        "print(f'****************** TABUADA DO {num} ******************')\n",
        "print(f'0 x {num} = {0*num}')\n",
        "print(f'1 x {num} = {1*num}')\n",
        "print(f'2 x {num} = {2*num}')\n",
        "print(f'3 x {num} = {3*num}')\n",
        "print(f'4 x {num} = {4*num}')\n",
        "print(f'5 x {num} = {5*num}')\n",
        "print(f'6 x {num} = {6*num}')\n",
        "print(f'7 x {num} = {7*num}')\n",
        "print(f'8 x {num} = {8*num}')\n",
        "print(f'9 x {num} = {9*num}')\n",
        "print(f'10 x {num} = {10*num}')"
      ],
      "metadata": {
        "id": "N_AyWbEn6Kp-",
        "colab": {
          "base_uri": "https://localhost:8080/"
        },
        "outputId": "7423081a-c673-4d46-acc3-df3fa5332d83"
      },
      "execution_count": null,
      "outputs": [
        {
          "output_type": "stream",
          "name": "stdout",
          "text": [
            "Digite um número para saber sua tabuada: 5\n",
            "5 x 0 = 0\n",
            "5 x 1 = 5\n",
            "5 x 2 = 10\n",
            "5 x 3 = 15\n",
            "5 x 4 = 20\n",
            "5 x 5 = 25\n",
            "5 x 6 = 30\n",
            "5 x 7 = 35\n",
            "5 x 8 = 40\n",
            "5 x 9 = 45\n",
            "5 x 10 = 50\n"
          ]
        }
      ]
    },
    {
      "cell_type": "markdown",
      "source": [
        "## Exercício Python 10: Crie um programa que leia quanto dinheiro uma pessoa tem na carteira e mostre quantos dólares ela pode comprar."
      ],
      "metadata": {
        "id": "LoBJvU8S6LVY"
      }
    },
    {
      "cell_type": "code",
      "source": [
        "# COTAÇÃO DO DÓLAR DIA 08/01 - R$ 4,87\n",
        "\n",
        "grana = float(input('Quanto dinheiro você tem na carteira? R$: '))\n",
        "dolar = 4.87\n",
        "conversao = grana / dolar\n",
        "print(f'Com R$ {grana}, você consegue comprar US$ {conversao:.2f}.') # ':.2f' para arredondar para duas casas decimais"
      ],
      "metadata": {
        "id": "XM-wYg7-6Q8l",
        "colab": {
          "base_uri": "https://localhost:8080/"
        },
        "outputId": "8aaada00-7f17-446a-f09c-a413aa8e0b67"
      },
      "execution_count": null,
      "outputs": [
        {
          "output_type": "stream",
          "name": "stdout",
          "text": [
            "Digite quantos reais você tem na carteira: 75\n",
            "Você pode comprar 14.82213438735178 dólar(es) com o valor de 75.0 real(is).\n"
          ]
        }
      ]
    },
    {
      "cell_type": "markdown",
      "source": [
        "## Exercício Python 11: Faça um programa que leia a largura e a altura de uma parede em metros, calcule a sua área e a quantidade de tinta necessária para pintá-la, sabendo que cada litro de tinta pinta uma área de 2 metros quadrados."
      ],
      "metadata": {
        "id": "_NOZlB2O6VV6"
      }
    },
    {
      "cell_type": "code",
      "source": [
        "altura = float(input('Digite a altura da parede: '))\n",
        "largura = float(input('Digite a largura da parede: '))\n",
        "\n",
        "area = altura * largura\n",
        "\n",
        "qtd_tinta = area / 2\n",
        "\n",
        "print(f'A quantidade de tinta necessária para pintar uma parede de {area} m² é de {qtd_tinta} litros.')"
      ],
      "metadata": {
        "id": "k53WDnIu6WP2",
        "colab": {
          "base_uri": "https://localhost:8080/"
        },
        "outputId": "e4bb4ed5-838c-49d3-d7aa-a82d55641983"
      },
      "execution_count": null,
      "outputs": [
        {
          "output_type": "stream",
          "name": "stdout",
          "text": [
            "Digite a altura (em metros) da parede: 3\n",
            "Digite a largura (em metros) da parede: 5\n",
            "Sua parede de 15.0 m² pode ser completamente pintada gastando 7.5 L de tinta.\n"
          ]
        }
      ]
    },
    {
      "cell_type": "markdown",
      "source": [
        "## Exercício Python 12: Faça um algoritmo que leia o preço de um produto e mostre seu novo preço, com 5% de desconto."
      ],
      "metadata": {
        "id": "7L12sv-46Xre"
      }
    },
    {
      "cell_type": "code",
      "source": [
        "preco_produto = float(input('Digite o preço do produto: '))\n",
        "novo_preco = preco_produto - (preco_produto*0.05)\n",
        "\n",
        "print(f'O preço do produto com 5% de desconto é R$ {novo_preco:.2f}')"
      ],
      "metadata": {
        "id": "Y_KEKf6H6coN",
        "colab": {
          "base_uri": "https://localhost:8080/"
        },
        "outputId": "c3d8ec9f-62d0-4a49-8733-6540ba60e832"
      },
      "execution_count": null,
      "outputs": [
        {
          "output_type": "stream",
          "name": "stdout",
          "text": [
            "Digite o preço do produto: 150\n",
            "O novo preço do produto já aplicado 5% de desconto será 142.5 reais.\n"
          ]
        }
      ]
    },
    {
      "cell_type": "markdown",
      "source": [
        "## Exercício Python 13: Faça um algoritmo que leia o salário de um funcionário e mostre seu novo salário, com 15% de aumento."
      ],
      "metadata": {
        "id": "TtrC726q6iNP"
      }
    },
    {
      "cell_type": "code",
      "source": [
        "salario = float(input(\"Digite o salário do(a) funcionário(a): \"))\n",
        "\n",
        "novo_salario = salario + salario * 0.15\n",
        "\n",
        "print(f'O novo salário do(a) funcionário(a) com os 15% de aumento é: R$ {novo_salario}.')"
      ],
      "metadata": {
        "id": "ynA2hvjt6lBV",
        "colab": {
          "base_uri": "https://localhost:8080/"
        },
        "outputId": "5262b5fb-086b-4529-e77a-9854e0f2ef9c"
      },
      "execution_count": null,
      "outputs": [
        {
          "output_type": "stream",
          "name": "stdout",
          "text": [
            "Digite o salário do funcionário: 1500\n",
            "O novo salário do funcionário já aplicado 15% de aumento será de 1725.0 reais. \n"
          ]
        }
      ]
    },
    {
      "cell_type": "markdown",
      "source": [
        "## Exercício Python 14: Escreva um programa que converta uma temperatura digitando em graus Celsius e converta para graus Fahrenheit."
      ],
      "metadata": {
        "id": "8T1SOH0K6l85"
      }
    },
    {
      "cell_type": "code",
      "source": [
        "celsius = float(input(\"Digite a temperatura em graus Celsius: \"))\n",
        "fahrenheit = ((9/5) * celsius) + 32\n",
        "\n",
        "print(f'A temperatura de {celsius:.1f}°C em Fahrenheit é {fahrenheit:.1f}°F.')"
      ],
      "metadata": {
        "id": "cG6htcpO6pZV",
        "colab": {
          "base_uri": "https://localhost:8080/"
        },
        "outputId": "95c60d6f-ebf4-4c1c-b52d-cba9e8413a72"
      },
      "execution_count": null,
      "outputs": [
        {
          "output_type": "stream",
          "name": "stdout",
          "text": [
            "Digite o valor da temperatura em graus celsius: 38\n",
            "38.0°C equivale a 100.4°F.\n"
          ]
        }
      ]
    },
    {
      "cell_type": "markdown",
      "source": [
        "## Exercício Python 15: Escreva um programa que pergunte a quantidade de Km percorridos por um carro alugado e a quantidade de dias pelos quais ele foi alugado. Calcule o preço a pagar, sabendo que o carro custa 60 reais por dia e 0,15 centavos por Km rodado."
      ],
      "metadata": {
        "id": "crjDp9rS6s5H"
      }
    },
    {
      "cell_type": "code",
      "source": [
        "qtd_KM = float(input('Digite a quantidade de Kms percorridos: '))\n",
        "qtd_DiasAlugados = int(input('Digite a quantidade de dias alugados (número inteiro): '))\n",
        "\n",
        "valorDias = 60 * qtd_DiasAlugados\n",
        "valorKm = 0.15 * qtd_KM\n",
        "\n",
        "valorTotal = valorDias + valorKm\n",
        "\n",
        "print(f'O valor total do aluguel é R$ {valorTotal:.2f}.')"
      ],
      "metadata": {
        "id": "aGaKIRwZ6tzF",
        "colab": {
          "base_uri": "https://localhost:8080/"
        },
        "outputId": "64dce563-6bc7-4293-c7fa-5f025dc9c442"
      },
      "execution_count": null,
      "outputs": [
        {
          "output_type": "stream",
          "name": "stdout",
          "text": [
            "Digite a quantidade de Km percorridos: 843\n",
            "Digite a quantidade de dias em que o carro esteve alugado: 7\n",
            "Você deverá pagar 546.45 reais.\n"
          ]
        }
      ]
    },
    {
      "cell_type": "markdown",
      "source": [
        "## Exercício Python 16: Crie um programa que leia um número Real qualquer pelo teclado e mostre na tela a sua porção Inteira."
      ],
      "metadata": {
        "id": "aZJEluB_EP7V"
      }
    },
    {
      "cell_type": "code",
      "source": [
        "from math import floor\n",
        "\n",
        "numero = float(input('Digite um número real: '))\n",
        "\n",
        "parteInteira = floor(numero) # como foi importado o pacote \"floor\" de forma específica, a biblioteca math não precisa mais ser referenciada (ex.: math.floor)\n",
        "\n",
        "print(f'A parte inteira do número {numero} é igual a {parteInteira}.')"
      ],
      "metadata": {
        "id": "LkHfPPHkEQ40",
        "colab": {
          "base_uri": "https://localhost:8080/"
        },
        "outputId": "8cab2538-a88d-4ca0-d8da-8d5aacdc31af"
      },
      "execution_count": null,
      "outputs": [
        {
          "output_type": "stream",
          "name": "stdout",
          "text": [
            "Digite um número real: 2143.342\n",
            "A parte inteira do número 2143.342 é igual a 2143.\n"
          ]
        }
      ]
    },
    {
      "cell_type": "markdown",
      "source": [
        "## Exercício Python 17: Faça um programa que leia o comprimento do cateto oposto e do cateto adjacente de um triângulo retângulo. Calcule e mostre o comprimento da hipotenusa."
      ],
      "metadata": {
        "id": "DSyMyf_tETGL"
      }
    },
    {
      "cell_type": "code",
      "source": [
        "from math import sqrt, pow\n",
        "\n",
        "co = float(input('Digite o comprimento do cateto oposto (cm): '))\n",
        "ca = float(input('Digite o comprimento do cateto adjacente (cm): '))\n",
        "\n",
        "hip = sqrt(pow(co, 2) + pow(ca, 2))\n",
        "\n",
        "print(f'Para os catetos de comprimento {ca} cm e {co} cm, o comprimento da hipotenusa é: {hip:.2f} cm.')"
      ],
      "metadata": {
        "id": "cq9raps9F6_6",
        "colab": {
          "base_uri": "https://localhost:8080/"
        },
        "outputId": "9186e612-8262-49bb-fbc5-35e3f2d7f042"
      },
      "execution_count": null,
      "outputs": [
        {
          "output_type": "stream",
          "name": "stdout",
          "text": [
            "Digite o valor do cateto oposto: 12.1\n",
            "Digite o valor do cateto adjacente: 6.3\n",
            "\n",
            " Dado o cateto oposto 12.1 e o cateto adjacente 6.3, obtêm-se a hipotenusa 13.641847382227965.\n"
          ]
        }
      ]
    },
    {
      "cell_type": "code",
      "source": [
        "# SEGUNDA FORMA DE SER FEITO O EXERCÍCIO 17\n",
        "\n",
        "from math import hypot\n",
        "\n",
        "co = float(input('Digite o comprimento do cateto oposto (cm): '))\n",
        "ca = float(input('Digite o comprimento do cateto adjacente (cm): '))\n",
        "\n",
        "hip = hypot(co, ca)\n",
        "\n",
        "print(f'Para os catetos de comprimento {co} cm e {ca} cm, o comprimento da hipotenusa é: {hip:.2f} cm.')"
      ],
      "metadata": {
        "id": "d4wkU2Y28uY-"
      },
      "execution_count": null,
      "outputs": []
    },
    {
      "cell_type": "markdown",
      "source": [
        "## Exercício Python 18: Faça um programa que leia um ângulo qualquer e mostre na tela o valor do seno, cosseno e tangente desse ângulo."
      ],
      "metadata": {
        "id": "kcdeW-NEF7ur"
      }
    },
    {
      "cell_type": "code",
      "source": [
        "from math import sin, cos, tan\n",
        "angulo = float(input('Digite o valor de um ângulo: '))\n",
        "\n",
        "print(f'O valor seno, cosseno e tangente para o ângulo de {angulo}° é:'\n",
        "      f'\\nSeno: {sin(angulo):.4f}'\n",
        "      f' \\nCosseno: {cos(angulo):.4f}'\n",
        "      f' \\nTangente: {tan(angulo):.4f}.')"
      ],
      "metadata": {
        "id": "PUeoH0pgF_yy",
        "colab": {
          "base_uri": "https://localhost:8080/"
        },
        "outputId": "26108ab3-12f6-4061-c906-746f193c4b38"
      },
      "execution_count": null,
      "outputs": [
        {
          "output_type": "stream",
          "name": "stdout",
          "text": [
            "Digite o valor de um ângulo: 45\n",
            "O valor seno, cosseno e tangente para o ângulo de 45.0° é:\n",
            "Seno: 0.8509 \n",
            "Cosseno: 0.5253 \n",
            "Tangente: 1.6198.\n"
          ]
        }
      ]
    },
    {
      "cell_type": "markdown",
      "source": [
        "## Exercício Python 19: Um professor quer sortear um dos seus quatro alunos para apagar o quadro. Faça um programa que ajude ele, lendo o nome dos alunos e escrevendo na tela o nome do escolhido."
      ],
      "metadata": {
        "id": "xdUjLm4bGEkW"
      }
    },
    {
      "cell_type": "code",
      "source": [
        "from random import choice\n",
        "nome1 = input('Digite o primeiro nome :')\n",
        "nome2 = input('Digite o segundo nome :')\n",
        "nome3 = input('Digite o terceiro nome :')\n",
        "nome4 = input('Digite o quarto nome :')\n",
        "\n",
        "lista_nome = [nome1, nome2, nome3, nome4]\n",
        "\n",
        "nomeSorteado = choice(lista_nome) # single random element from a sequence\n",
        "\n",
        "print(f'O none sorteado foi: {nomeSorteado}.')"
      ],
      "metadata": {
        "id": "--4n3aP7GFWD",
        "colab": {
          "base_uri": "https://localhost:8080/"
        },
        "outputId": "71bacc49-5108-4036-82b9-f74dbcbf17ad"
      },
      "execution_count": null,
      "outputs": [
        {
          "output_type": "stream",
          "name": "stdout",
          "text": [
            "Primeiro(a) aluno(a): João\n",
            "Segundo(a) aluno(a): Arthur\n",
            "Terceiro(a) aluno(a): Marco\n",
            "Quarto(a) aluno(a): Ana\n",
            "O aluno(a) sorteado(a) foi: João.\n"
          ]
        }
      ]
    },
    {
      "cell_type": "markdown",
      "source": [
        "## Exercício Python 20: O mesmo professor do desafio 19 quer sortear a ordem de apresentação de trabalhos dos alunos. Faça um programa que leia o nome dos quatro alunos e mostre a ordem sorteada."
      ],
      "metadata": {
        "id": "_xvfpd5oGStZ"
      }
    },
    {
      "cell_type": "code",
      "source": [
        "from random import shuffle\n",
        "nome1 = input('Digite o primeiro nome :')\n",
        "nome2 = input('Digite o segundo nome :')\n",
        "nome3 = input('Digite o terceiro nome :')\n",
        "nome4 = input('Digite o quarto nome :')\n",
        "\n",
        "lista_nome = [nome1, nome2, nome3, nome4]\n",
        "shuffle(lista_nome) # shuffle significa embaralhar algo\n",
        "\n",
        "print(f'A ordem de apresentação é: {lista_nome}.')\n",
        "\n",
        "# por algum motivo não funciona colocar o sorteio no próprio print\n"
      ],
      "metadata": {
        "id": "JWPwbWthGVHC",
        "colab": {
          "base_uri": "https://localhost:8080/"
        },
        "outputId": "be0aa70c-cd8c-4670-cb9c-8776a39edee1"
      },
      "execution_count": null,
      "outputs": [
        {
          "output_type": "stream",
          "name": "stdout",
          "text": [
            "Primeiro(a) aluno(a): João\n",
            "Segundo(a) aluno(a): Pedro\n",
            "Terceiro(a) aluno(a): Manoel\n",
            "Quarto(a) aluno(a): ANa\n",
            "O primeiro aluno(a) sorteado(a) foi: João.\n",
            "O segundo aluno(a) sorteado(a) foi: Pedro.\n",
            "O terceiro aluno(a) sorteado(a) foi: ANa.\n",
            "O quarto aluno(a) sorteado(a) foi: Manoel.\n"
          ]
        }
      ]
    },
    {
      "cell_type": "markdown",
      "source": [
        "## Exercício Python 21: Faça um programa em Python que abra e reproduza o áudio de um arquivo MP3."
      ],
      "metadata": {
        "id": "vBzsW1D5GbDS"
      }
    },
    {
      "cell_type": "code",
      "source": [
        "import pygame\n",
        "pygame.init()\n",
        "pygame.mixer.music.load('ex021.mp3') # ex021.mp3 é um exemplo\n",
        "pygame.mixer.music.play()\n",
        "input()\n",
        "pygame.event.wait()"
      ],
      "metadata": {
        "id": "ucDqLiw0Gdpf"
      },
      "execution_count": null,
      "outputs": []
    },
    {
      "cell_type": "markdown",
      "source": [
        "## Exercício Python 22: Crie um programa que leia o nome completo de uma pessoa e mostre:\n",
        "###– O nome com todas as letras maiúsculas e minúsculas.\n",
        "### – Quantas letras ao todo (sem considerar espaços).\n",
        "### – Quantas letras tem o primeiro nome."
      ],
      "metadata": {
        "id": "MDEH4Q_IGkf4"
      }
    },
    {
      "cell_type": "code",
      "source": [
        "\n",
        "nome = input('Digite um nome completo: ')\n",
        "nomeSemEspacos = nome.replace(' ','')\n",
        "pNome = nome.split()[0] # fatiando a string nome e selecionando apenas o primeiro elemento da lista gerada,\n",
        "# lembrando que em python o indice começa em 0 e o método split gera uma lista, nesse caso sera gerada uma lista onde cada palavra do nome será um elemento dessa lista, mas so o primeiro elemento será usado\n",
        "\n",
        "print(f'Nome com todas as letras maiusculas: {nome.upper()}.')\n",
        "\n",
        "print(f'Quantidade de letras do nome completo sem considerar os espaços: {len(nomeSemEspacos)}.')\n",
        "\n",
        "print(f'Quantidade de letras do primeiro nome: {len(pNome)}.')"
      ],
      "metadata": {
        "id": "Hbga3LhKGxR7",
        "colab": {
          "base_uri": "https://localhost:8080/"
        },
        "outputId": "bbde04f8-9293-4daf-a904-c7af9bc2588a"
      },
      "execution_count": null,
      "outputs": [
        {
          "output_type": "stream",
          "name": "stdout",
          "text": [
            "Digite um nome completo: Junior do Nascimento Xavier\n",
            "Nome com todas as letras maiusculas: JUNIOR DO NASCIMENTO XAVIER.\n",
            "Quantidade de letras do nome completo sem considerar os espaços: 24.\n",
            "Quantidade de letras do primeiro nome: 6.\n"
          ]
        }
      ]
    },
    {
      "cell_type": "markdown",
      "source": [
        "## Exercício Python 23: Faça um programa que leia um número de 0 a 9999 e mostre na tela cada um dos dígitos separados."
      ],
      "metadata": {
        "id": "jP4aiIspG8PY"
      }
    },
    {
      "cell_type": "code",
      "source": [
        "num = int(input('Digite um número inteiro: '))\n",
        "\n",
        "milhar = num // 1000\n",
        "resto = num % 1000\n",
        "centena = resto // 100\n",
        "resto = resto % 100\n",
        "dezena = resto // 10\n",
        "resto = resto % 10\n",
        "\n",
        "print(f'Milhar: {milhar}')\n",
        "print(f'Centena: {centena}')\n",
        "print(f'Dezena: {dezena}')\n",
        "print(f'Unidade: {resto}')"
      ],
      "metadata": {
        "id": "e_ozquCiG9L5",
        "colab": {
          "base_uri": "https://localhost:8080/"
        },
        "outputId": "de29a704-af5c-4272-e464-17d0c85f96cd"
      },
      "execution_count": null,
      "outputs": [
        {
          "output_type": "stream",
          "name": "stdout",
          "text": [
            "Digite um número inteiro: 9998\n",
            "Milhar: 9\n",
            "Centena: 9\n",
            "Dezena: 9\n",
            "Unidade: 8\n"
          ]
        }
      ]
    },
    {
      "cell_type": "markdown",
      "source": [
        "## Exercício Python 24: Crie um programa que leia o nome de uma cidade diga se ela começa ou não com o nome “SANTO”."
      ],
      "metadata": {
        "id": "a_Ae54VbG9_S"
      }
    },
    {
      "cell_type": "code",
      "source": [
        "nome_cidade = input('Digite o nome de uma cidade: ').strip().upper()\n",
        "print(nome_cidade[:5] == 'SANTO')\n",
        "\n",
        "# strip() para remover espaços indesejados no início e no final da string\n",
        "# upper() para caso o usuário digitar tudo maiúsculo ou minúsculo o programa ainda retorne verdadeiro se 'SANTO' for digitado, já que o python é case sensitive"
      ],
      "metadata": {
        "id": "_FOVWVJ5HBsJ",
        "colab": {
          "base_uri": "https://localhost:8080/"
        },
        "outputId": "af4e9d19-1629-4d8b-80f9-bfac381e41e4"
      },
      "execution_count": null,
      "outputs": [
        {
          "output_type": "stream",
          "name": "stdout",
          "text": [
            "Digite o nome de uma cidade:   Santo André\n",
            "True\n"
          ]
        }
      ]
    },
    {
      "cell_type": "markdown",
      "source": [
        "## Exercício Python 25: Crie um programa que leia o nome de uma pessoa e diga se ela tem “SILVA” no nome."
      ],
      "metadata": {
        "id": "i4hww-9NHFNx"
      }
    },
    {
      "cell_type": "code",
      "source": [
        "nome = input('Digite um nome completo: ').strip().upper()\n",
        "print('SILVA' in nome)"
      ],
      "metadata": {
        "id": "du1upzxGHGZo",
        "colab": {
          "base_uri": "https://localhost:8080/"
        },
        "outputId": "78c5b118-821b-4673-96e4-946679471ca3"
      },
      "execution_count": null,
      "outputs": [
        {
          "output_type": "stream",
          "name": "stdout",
          "text": [
            "Digite um nome completo: maria SiLvA cardoso\n",
            "True\n"
          ]
        }
      ]
    },
    {
      "cell_type": "markdown",
      "source": [
        "## Exercício Python 26: Faça um programa que leia uma frase pelo teclado e mostre quantas vezes aparece a letra “A”, em que posição ela aparece a primeira vez e em que posição ela aparece a última vez."
      ],
      "metadata": {
        "id": "7dy8NbKvHKAj"
      }
    },
    {
      "cell_type": "code",
      "source": [
        "frase = input('Digite uma frase: ').strip().upper()\n",
        "\n",
        "qtdA = frase.count('A') # count fara a contagem das ocorrências da letra 'A'\n",
        "posicaoPrimeiroA = frase.find('A')\n",
        "posicaoUltimoA = frase.rfind('A') # o rfind fara a varredura da direita para à esquerda\n",
        "\n",
        "print(f'Quantidade de \"A\" na frase: {qtdA}.'\n",
        "      f'\\nPosição do primeiro \"A\" na frase: {posicaoPrimeiroA}.'\n",
        "      f'\\nPosição do último \"A\" na frase: {posicaoUltimoA}.')\n",
        "\n",
        "# João foi comprar batata frita para o lanche."
      ],
      "metadata": {
        "id": "4D9_tsQyHK53",
        "colab": {
          "base_uri": "https://localhost:8080/"
        },
        "outputId": "229388af-4029-46ad-a2af-78d2ce4f9ed7"
      },
      "execution_count": null,
      "outputs": [
        {
          "output_type": "stream",
          "name": "stdout",
          "text": [
            "Digite uma frase: João foi comprar batata frita para o lanche.\n",
            "Quantidade de \"A\" na frase: 8.\n",
            "Posição do primeiro \"A\" na frase: 14.\n",
            "Posição do último \"A\" na frase: 38.\n"
          ]
        }
      ]
    },
    {
      "cell_type": "markdown",
      "source": [
        "## Exercício Python 27: Faça um programa que leia o nome completo de uma pessoa, mostrando em seguida o primeiro e o último nome separadamente."
      ],
      "metadata": {
        "id": "gdwmKCYVHOWc"
      }
    },
    {
      "cell_type": "code",
      "source": [
        "nome = input('Digite um nome completo: ').strip()\n",
        "\n",
        "lista_nome = nome.split(' ') # split() - fará o fatiamento do nome sempre que encontrar o espaço (' '), como indicado no comando\n",
        "#Lembrando que o método split() sempre gerará uma lista com os elementos que foram fatiados\n",
        "\n",
        "primeiroNome = lista_nome[0] # selecionando o primeiro elemento da lista\n",
        "ultimoNome = lista_nome[-1] # para seleciornar o último elemento da lista, pode-se usar o índece negativo -1\n",
        "# poderia ser utilizado o comando lista_nome[len(lista_nome)-1], pois funcionaria também\n",
        "# note que o -1 dentro dos colchetes que indícam o índice, é necessário, pois o método len() contara a quantidade de elementos mas não é equivalente ao índice\n",
        "# exemplo um nome completo com 5 nomes, retornaria tamanho 5 devido ao método do len(), porém o índice do último elemento não é 5, pois o python inicia os índices por 0\n",
        "\n",
        "print(f'Primeiro nome: {primeiroNome}')\n",
        "print(f'Último nome: {ultimoNome}')"
      ],
      "metadata": {
        "id": "ON0cci54HPI4",
        "colab": {
          "base_uri": "https://localhost:8080/"
        },
        "outputId": "7bd30014-f223-4c77-e1f1-4b6ca5381f90"
      },
      "execution_count": null,
      "outputs": [
        {
          "output_type": "stream",
          "name": "stdout",
          "text": [
            "Digite um nome completo: Pedro Paulo Pereira Pinto de Souza\n",
            "Primeiro nome: Pedro\n",
            "Último nome: Souza\n"
          ]
        }
      ]
    },
    {
      "cell_type": "markdown",
      "source": [
        "## Exercício Python 28: Escreva um programa que faça o computador “pensar” em um número inteiro entre 0 e 5 e peça para o usuário tentar descobrir qual foi o número escolhido pelo computador. O programa deverá escrever na tela se o usuário venceu ou perdeu."
      ],
      "metadata": {
        "id": "WCX2dI7FHaAd"
      }
    },
    {
      "cell_type": "code",
      "source": [
        "from random import randint\n",
        "escolhaHumano = int(input('Digite um número entre 0 e 5: '))\n",
        "escolhaPC = randint(0,5)\n",
        "\n",
        "if escolhaHumano == escolhaPC:\n",
        "  print('Parabéns! Você venceu!')\n",
        "else:\n",
        "  print('Você perdeu! Tente novamente.')\n"
      ],
      "metadata": {
        "id": "djnRO0w7Hbz3",
        "colab": {
          "base_uri": "https://localhost:8080/"
        },
        "outputId": "31fdeb7c-09e9-4b7c-fcfc-659fd6e8e5a4"
      },
      "execution_count": null,
      "outputs": [
        {
          "output_type": "stream",
          "name": "stdout",
          "text": [
            "Digite um número entre 0 e 5: 2\n",
            "Parabéns! Você venceu!\n"
          ]
        }
      ]
    },
    {
      "cell_type": "markdown",
      "source": [
        "## Exercício Python 29: Escreva um programa que leia a velocidade de um carro. Se ele ultrapassar 80Km/h, mostre uma mensagem dizendo que ele foi multado. A multa vai custar R$7,00 por cada Km acima do limite."
      ],
      "metadata": {
        "id": "g_09Oj_zHfS7"
      }
    },
    {
      "cell_type": "code",
      "source": [
        "velocidade = float(input('Informe a velocidade do carro: '))\n",
        "kmAcima = velocidade - 80\n",
        "\n",
        "if (velocidade > 80) and (kmAcima >= 1):\n",
        "  multa = (velocidade - 80) * 7\n",
        "  print(f'MULTADO! Você estava acima do limite permitido de 80 km/h! O valor da sua multa é R$ {multa:.2f}.')\n",
        "else:\n",
        "  print('Você está dentro do limite de velocidade permitido. Parabéns!')"
      ],
      "metadata": {
        "id": "WimagszeHf_n",
        "colab": {
          "base_uri": "https://localhost:8080/"
        },
        "outputId": "63746560-46b4-424e-82ba-9261a606bc2b"
      },
      "execution_count": null,
      "outputs": [
        {
          "output_type": "stream",
          "name": "stdout",
          "text": [
            "Informe a velocidade do carro: 110\n",
            "MULTADO! Você estava acima do limite permitido de 80 km/h! O valor da sua multa é R$ 210.00.\n"
          ]
        }
      ]
    },
    {
      "cell_type": "markdown",
      "source": [
        "## Exercício Python 30: Crie um programa que leia um número inteiro e mostre na tela se ele é PAR ou ÍMPAR."
      ],
      "metadata": {
        "id": "q19rGEj6Hj7h"
      }
    },
    {
      "cell_type": "code",
      "source": [
        "num = int(input('Digite um número inteiro: '))\n",
        "\n",
        "if num % 2 == 0:\n",
        "  print(f'O número {num} é PAR!')\n",
        "else:\n",
        "  print(f'O número {num} é ÍMPAR!')\n"
      ],
      "metadata": {
        "id": "CKzNzV1mHkuv",
        "colab": {
          "base_uri": "https://localhost:8080/"
        },
        "outputId": "80d1e1d9-4e20-406f-91c1-b43d25f58d3e"
      },
      "execution_count": null,
      "outputs": [
        {
          "output_type": "stream",
          "name": "stdout",
          "text": [
            "Digite um número inteiro: 8765685\n",
            "O número 8765685 é ÍMPAR!\n"
          ]
        }
      ]
    },
    {
      "cell_type": "markdown",
      "source": [
        "## Exercício Python 31: Desenvolva um programa que pergunte a distância de uma viagem em Km. Calcule o preço da passagem, cobrando 0,50 centavos por Km para viagens de até 200Km e 0,45 centavos para viagens mais longas."
      ],
      "metadata": {
        "id": "NF4NRFm1HpLj"
      }
    },
    {
      "cell_type": "code",
      "source": [
        "distanciaViagem = float(input('Digite a distância da viagem em Km: '))\n",
        "\n",
        "if distanciaViagem <= 200:\n",
        "  precoPassagem = 0.5 * distanciaViagem\n",
        "  print(f'O valor da sua viagem é R$ {precoPassagem}')\n",
        "else:\n",
        "  precoPassagem = 0.45 * distanciaViagem\n",
        "  print(f'O valor da sua viagem é R$ {precoPassagem}')"
      ],
      "metadata": {
        "id": "Yq-DXcUuHqK2",
        "colab": {
          "base_uri": "https://localhost:8080/"
        },
        "outputId": "955869c6-45ec-4243-c0b3-a8bb7ab7655a"
      },
      "execution_count": null,
      "outputs": [
        {
          "output_type": "stream",
          "name": "stdout",
          "text": [
            "Digite a distância da viagem em Km: 201\n",
            "O valor da sua viagem é R$ 90.45\n"
          ]
        }
      ]
    },
    {
      "cell_type": "markdown",
      "source": [
        "## Exercício Python 32: Faça um programa que leia um ano qualquer e mostre se ele é bissexto."
      ],
      "metadata": {
        "id": "1R80tI8lH0FJ"
      }
    },
    {
      "cell_type": "code",
      "source": [
        "ano = int(input('Digite o ano para saber se ele é bissexto: '))\n",
        "\n",
        "if (ano % 4 == 0 and ano % 100 != 0) or (ano % 400 == 0):\n",
        "  print(f'{ano} é bissexto!')\n",
        "else:\n",
        "  print(f'{ano} não é bissexto!')"
      ],
      "metadata": {
        "id": "OvSx3O_AH0-H",
        "colab": {
          "base_uri": "https://localhost:8080/"
        },
        "outputId": "6ac326ef-71f5-4295-fe98-b634b27561cc"
      },
      "execution_count": 11,
      "outputs": [
        {
          "output_type": "stream",
          "name": "stdout",
          "text": [
            "Digite o ano para saber se ele é bissexto: 1500\n",
            "1500 não é bissexto!\n"
          ]
        }
      ]
    },
    {
      "cell_type": "markdown",
      "source": [
        "## Exercício Python 33: Faça um programa que leia três números e mostre qual é o maior e qual é o menor."
      ],
      "metadata": {
        "id": "etFA2cTJH4WM"
      }
    },
    {
      "cell_type": "code",
      "source": [
        "n1 = float(input('Digite o primeiro número: '))\n",
        "n2 = float(input('Digite o segundo número: '))\n",
        "n3 = float(input('Digite o terceiro número: '))\n",
        "\n",
        "if (n1 > n2 and n1 > n3):\n",
        "  maior = n1\n",
        "if (n2 > n1 and n2 > n3):\n",
        "  maior = n2\n",
        "if (n3 > n1 and n3 > n2):\n",
        "  maior = n3\n",
        "\n",
        "if (n1 < n2 and n1 < n3):\n",
        "  menor = n1\n",
        "if (n2 < n1 and n2 < n3):\n",
        "  menor = n2\n",
        "if (n3 < n1 and n3 < n2):\n",
        "  menor = n3\n",
        "\n",
        "print(f'O maior número é {maior} e o menor número é {menor}.')"
      ],
      "metadata": {
        "id": "dc8W4JI6H5PX",
        "colab": {
          "base_uri": "https://localhost:8080/"
        },
        "outputId": "7cc6326e-1812-4880-dcfb-fc07cfbcd1d1"
      },
      "execution_count": 13,
      "outputs": [
        {
          "output_type": "stream",
          "name": "stdout",
          "text": [
            "Digite o primeiro número: 12\n",
            "Digite o segundo número: 35\n",
            "Digite o terceiro número: 7\n",
            "O maior número é 35.0 e o menor número é 7.0.\n"
          ]
        }
      ]
    },
    {
      "cell_type": "markdown",
      "source": [
        "## Exercício Python 34: Escreva um programa que pergunte o salário de um funcionário e calcule o valor do seu aumento. Para salários superiores a R$1250,00, calcule um aumento de 10%. Para os inferiores ou iguais, o aumento é de 15%."
      ],
      "metadata": {
        "id": "uaXlDXqvKxs3"
      }
    },
    {
      "cell_type": "code",
      "source": [
        "salario = float(input('Digite o salário atual do(a) funcionário(a): '))\n",
        "\n",
        "if salario > 1250:\n",
        "  novoSalario = salario + (salario*0.1)\n",
        "  print(f'O novo salário do(a) funcionário(a) é R$ {novoSalario:.2f}.')\n",
        "else:\n",
        "  novoSalario = salario + (salario*0.15)\n",
        "  print(f'O novo salário do(a) funcionário(a) é R$ {novoSalario:.2f}.')\n"
      ],
      "metadata": {
        "id": "e0sz2ZxNKzKx",
        "colab": {
          "base_uri": "https://localhost:8080/"
        },
        "outputId": "267b3488-32d4-418a-fc4a-fa7ed8c2c8a9"
      },
      "execution_count": null,
      "outputs": [
        {
          "output_type": "stream",
          "name": "stdout",
          "text": [
            "Digite o salário atual do(a) funcionário(a): 10000\n",
            "O novo salário do(a) funcionário(a) é R$ 11000.00.\n"
          ]
        }
      ]
    },
    {
      "cell_type": "markdown",
      "source": [
        "## Exercício Python 35: Desenvolva um programa que leia o comprimento de três retas e diga ao usuário se elas podem ou não formar um triângulo."
      ],
      "metadata": {
        "id": "qrVRAsuMK3W5"
      }
    },
    {
      "cell_type": "code",
      "source": [
        "# para que três segmentos de reta formem um triângulo, devemos obdecer a condição de existência que diz que cada segmento de reta deve ser,\n",
        "# obrigatoriamente, menor do que a soma dos outros dois segmentos\n",
        "\n",
        "r1 = float(input('Digite o comprimento da primeira reta: '))\n",
        "r2 = float(input('Digite o comprimento da segunda reta: '))\n",
        "r3 = float(input('Digite o comprimento da terceira reta: '))\n",
        "\n",
        "if (r1 <(r2 + r3)) and (r2 < (r1 + r3)) and (r3 < (r1 + r2)):\n",
        "  print('É possivel formar um triângulo com esses segmentos de reta!')\n",
        "else:\n",
        "  print('NÃO é possivel formar um triângulo com esses segmentos de reta!')"
      ],
      "metadata": {
        "id": "3bVr4OXrK4gi",
        "colab": {
          "base_uri": "https://localhost:8080/"
        },
        "outputId": "09e0f5ce-7107-4344-a3f4-d9768d583d44"
      },
      "execution_count": 2,
      "outputs": [
        {
          "output_type": "stream",
          "name": "stdout",
          "text": [
            "Digite o comprimento da primeira reta: 5\n",
            "Digite o comprimento da segunda reta: 9\n",
            "Digite o comprimento da terceira reta: 10\n",
            "É possivel formar um triângulo com esses segmentos de reta!\n"
          ]
        }
      ]
    }
  ]
}