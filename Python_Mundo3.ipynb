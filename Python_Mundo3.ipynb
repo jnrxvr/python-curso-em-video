{
  "nbformat": 4,
  "nbformat_minor": 0,
  "metadata": {
    "colab": {
      "provenance": [],
      "collapsed_sections": [
        "-8CmwKoj93ys"
      ],
      "authorship_tag": "ABX9TyN3/x9ZYB6lmLEU6oCq6Vxn",
      "include_colab_link": true
    },
    "kernelspec": {
      "name": "python3",
      "display_name": "Python 3"
    },
    "language_info": {
      "name": "python"
    }
  },
  "cells": [
    {
      "cell_type": "markdown",
      "metadata": {
        "id": "view-in-github",
        "colab_type": "text"
      },
      "source": [
        "<a href=\"https://colab.research.google.com/github/jnrxvr/python-curso-em-video/blob/main/Python_Mundo3.ipynb\" target=\"_parent\"><img src=\"https://colab.research.google.com/assets/colab-badge.svg\" alt=\"Open In Colab\"/></a>"
      ]
    },
    {
      "cell_type": "markdown",
      "source": [
        "# NOTEBOOK DOS EXERCÍCIOS DO MUNDO 3 DE PYTHON DO CURSO EM VÍDEO"
      ],
      "metadata": {
        "id": "lhU8N-mHN2In"
      }
    },
    {
      "cell_type": "markdown",
      "source": [
        "# TUPLAS"
      ],
      "metadata": {
        "id": "-8CmwKoj93ys"
      }
    },
    {
      "cell_type": "markdown",
      "source": [
        "## Exercício Python 072: Crie um programa que tenha uma dupla totalmente preenchida com uma contagem por extenso, de zero até vinte. Seu programa deverá ler um número pelo teclado (entre 0 e 20) e mostrá-lo por extenso."
      ],
      "metadata": {
        "id": "5-khfDvBONxn"
      }
    },
    {
      "cell_type": "code",
      "source": [
        "# entrada de dados pelo usuário\n",
        "\n",
        "num = int(input('Digite um número inteiro de 0 a 20 para saber seu nome por extenso: '))\n",
        "\n",
        "# declaração das variáveis\n",
        "\n",
        "tupla = ('zero', 'um', 'dois', 'três', 'quatro', 'cinco', 'seis', 'sete', 'oito', 'nove', 'dez',\n",
        "         'onze', 'doze', 'treze', 'catorze', 'quinze', 'dezesseis', 'dezessete', 'dezoito', 'dezenove', 'vinte')\n",
        "\n",
        "# exibição dos resultado\n",
        "\n",
        "print(f'\\nO número digitado foi: {num}'\n",
        "      f'\\nSeu valor por extenso é : {tupla[num]}')\n",
        "\n"
      ],
      "metadata": {
        "id": "C3aOyFRzOQ0J",
        "colab": {
          "base_uri": "https://localhost:8080/"
        },
        "outputId": "4aaa3146-6487-41db-975d-ce31703862b4"
      },
      "execution_count": null,
      "outputs": [
        {
          "output_type": "stream",
          "name": "stdout",
          "text": [
            "Digite um número inteiro de 0 a 20 para saber seu nome por extenso: 20\n",
            "\n",
            "O número digitado foi: 20\n",
            "Seu valor por extenso é : vinte\n"
          ]
        }
      ]
    },
    {
      "cell_type": "markdown",
      "source": [
        "## Exercício Python 073: Crie uma tupla preenchida com os 20 primeiros colocados da Tabela do Campeonato Brasileiro de Futebol (utilize tabela de 2023), na ordem de colocação. Depois mostre:\n",
        "\n",
        "1. Os 5 primeiros times.\n",
        "2. Os últimos 4 colocados.\n",
        "3. Times em ordem alfabética.\n",
        "4. Em que posição está o time do CRUZEIRO"
      ],
      "metadata": {
        "id": "mCfK5Y5ROTOH"
      }
    },
    {
      "cell_type": "code",
      "source": [
        "\"\"\" note que na tupla abaixo os times estão em ordem de colocação no brasileirão 2023,\n",
        "porém os índices não correspondem com a posição correta, pois não existe posição 0, ou seja não existe um time que ficou em 0º lugar \"\"\"\n",
        "\n",
        "# declaração das variáveis\n",
        "\n",
        "brasileirao = ('PALMEIRAS', 'GRÊMIO', 'ATLÉTICO-MG', 'FLAMENGO', 'BOTAFOGO', 'BRAGANTINO', 'FLUMINENSE', 'ATHLÉTICO-PR', 'INTERNACIONAL', 'FORTALEZA',\n",
        "               'SÃO PAULO', 'CUIABÁ', 'CORINTHIANS', 'CRUZEIRO', 'VASCO DA GAMA', 'BAHIA', 'SANTOS', 'GOIÁS', 'CORITIBA', 'AMÉRICA-MG')\n",
        "\n",
        "print(f'Os 5 primeiros colocados são: {brasileirao[0:5]}')\n",
        "print(f'Os 4 últimos colocados são: {brasileirao[16:]}') # note que o SANTOS ficou em 17º lugar, porém seu índice é 16, pois em python os índices começam em 0\n",
        "print(f'Os times colocados em ordem alfabética: {sorted(brasileirao)}')\n",
        "print(f\"A posição do CRUZEIRO na tabela é: {brasileirao.index('CRUZEIRO')+1}\") # foi somado +1, pois os índices começam em 0 e não refletem as posições corretamente"
      ],
      "metadata": {
        "id": "qlwd7ULdOXfa",
        "colab": {
          "base_uri": "https://localhost:8080/"
        },
        "outputId": "b09fdfa0-2d47-44f2-88a7-3646ddb530e4"
      },
      "execution_count": null,
      "outputs": [
        {
          "output_type": "stream",
          "name": "stdout",
          "text": [
            "Os 5 primeiros colocados são: ('PALMEIRAS', 'GRÊMIO', 'ATLÉTICO-MG', 'FLAMENGO', 'BOTAFOGO')\n",
            "Os 4 últimos colocados são: ('SANTOS', 'GOIÁS', 'CORITIBA', 'AMÉRICA-MG')\n",
            "Os times colocados em ordem alfabética: ['AMÉRICA-MG', 'ATHLÉTICO-PR', 'ATLÉTICO-MG', 'BAHIA', 'BOTAFOGO', 'BRAGANTINO', 'CORINTHIANS', 'CORITIBA', 'CRUZEIRO', 'CUIABÁ', 'FLAMENGO', 'FLUMINENSE', 'FORTALEZA', 'GOIÁS', 'GRÊMIO', 'INTERNACIONAL', 'PALMEIRAS', 'SANTOS', 'SÃO PAULO', 'VASCO DA GAMA']\n",
            "A posição do CRUZEIRO na tabela é: 14\n"
          ]
        }
      ]
    },
    {
      "cell_type": "markdown",
      "source": [
        "## Exercício Python 074: Crie um programa que vai gerar cinco números aleatórios e colocar em uma tupla. Depois disso, mostre a listagem de números gerados e também indique o menor e o maior valor que estão na tupla."
      ],
      "metadata": {
        "id": "y6hdc2dsOa1b"
      }
    },
    {
      "cell_type": "code",
      "source": [
        "# importando a biblioteca random\n",
        "from random import randint\n",
        "\n",
        "# gerando os números pseudoaleatórios\n",
        "\n",
        "n1 = randint(1,10)\n",
        "n2 = randint(1,10)\n",
        "n3 = randint(1,10)\n",
        "n4 = randint(1,10)\n",
        "n5 = randint(1,10)\n",
        "\n",
        "# declarando a tupla com os números gerados\n",
        "tuplaNum = (n1, n2, n3, n4, n5)\n",
        "print(tuplaNum) # exibindo os números sorteados\n",
        "\n",
        "# apresentação dos resultados\n",
        "\n",
        "print(f'O maior valor da tupla é: {max(tuplaNum)}')\n",
        "print(f'O menor valor da tupla é: {min(tuplaNum)}')"
      ],
      "metadata": {
        "id": "s5104WK7Oocr",
        "colab": {
          "base_uri": "https://localhost:8080/"
        },
        "outputId": "113fab89-d31c-40f2-de8e-9c3554fdb821"
      },
      "execution_count": null,
      "outputs": [
        {
          "output_type": "stream",
          "name": "stdout",
          "text": [
            "O maior valor da tupla é: 10\n",
            "O menor valor da tupla é: 2\n"
          ]
        }
      ]
    },
    {
      "cell_type": "code",
      "source": [
        "# SEGUNDA FORMA DE RESOLVER O EXERCÍCIO\n",
        "\n",
        "# importando a biblioteca random\n",
        "from random import randint\n",
        "\n",
        "# declarando a tupla com os números gerados\n",
        "tuplaNum = (randint(1,10), randint(1,10), randint(1,10), randint(1,10), randint(1,10))\n",
        "\n",
        "for n in tuplaNum:\n",
        "    print(f'{n}', end=' ') # exibindo os números sorteados\n",
        "# apresentação dos resultados\n",
        "\n",
        "print(f'\\nO maior valor da tupla é: {max(tuplaNum)}')\n",
        "print(f'O menor valor da tupla é: {min(tuplaNum)}')"
      ],
      "metadata": {
        "colab": {
          "base_uri": "https://localhost:8080/"
        },
        "id": "2tZBKbC_Kr16",
        "outputId": "a58c18d3-57ac-4901-c47e-b27ce3012161"
      },
      "execution_count": null,
      "outputs": [
        {
          "output_type": "stream",
          "name": "stdout",
          "text": [
            "3 7 1 1 8 \n",
            "O maior valor da tupla é: 8\n",
            "O menor valor da tupla é: 1\n"
          ]
        }
      ]
    },
    {
      "cell_type": "markdown",
      "source": [
        "## Exercício Python 075: Desenvolva um programa que leia quatro valores pelo teclado e guarde-os em uma tupla. No final, mostre:\n",
        "\n",
        "1. Quantas vezes apareceu o valor 9.\n",
        "2. Em que posição foi digitado o primeiro valor 3.\n",
        "3. Quais foram os números pares."
      ],
      "metadata": {
        "id": "OyazGA-yOsCv"
      }
    },
    {
      "cell_type": "code",
      "source": [
        "# entrada de dados pelo usuário\n",
        "\n",
        "n1 = float(input('Digite o primeiro valor: '))\n",
        "n2 = float(input('Digite o segundo valor: '))\n",
        "n3 = float(input('Digite o terceiro valor: '))\n",
        "n4 = float(input('Digite o quarto valor: '))\n",
        "\n",
        "# adicionando em uma tupla, os números digitados pelo usuário\n",
        "\n",
        "numeros = (n1, n2, n3, n4)\n",
        "\n",
        "# apresentando os resultados\n",
        "\n",
        "print(f'O número 9 apareceu {numeros.count(9)} vez(es).') # conta quantas vezes um elemento apareceu na tupla\n",
        "\n",
        "\"\"\"quando o python não encontra um valor com o método 'count', ele apresenta uma mensagem de erro (tuple.index(x): x not in tuple),\n",
        "para resolver esse problema, foi utilizado a estrutura if abaixo: \"\"\"\n",
        "\n",
        "if 3 in numeros:\n",
        "    print(f'A posição em que foi digitado o primeiro valor 3 é: {numeros.index(3)}.') # indica o índice da primeira ocorrência do elemento desejado\n",
        "else:\n",
        "   print('O valor 3 não foi digitado em nenhuma posição!')\n",
        "\n",
        "print('Os números pares digitados foram: ', end='')\n",
        "for n in numeros:\n",
        "    if n % 2 == 0:\n",
        "        print(f'{n}', end=' ')\n"
      ],
      "metadata": {
        "id": "JJLcyN2OOs1C",
        "colab": {
          "base_uri": "https://localhost:8080/"
        },
        "outputId": "d19aba7e-ca10-4fe2-f68e-78e504aca7cd"
      },
      "execution_count": null,
      "outputs": [
        {
          "output_type": "stream",
          "name": "stdout",
          "text": [
            "Digite o primeiro valor: 1\n",
            "Digite o segundo valor: 2\n",
            "Digite o terceiro valor: 4\n",
            "Digite o quarto valor: 5\n",
            "O número 9 apareceu 0 vez(es).\n",
            "O valor 3 não foi digitado em nenhuma posição!\n",
            "Os números pares digitados foram: 2.0 4.0 "
          ]
        }
      ]
    },
    {
      "cell_type": "code",
      "source": [
        "# SEGUNDA FORMA DE RESOLVER O PROBLEMA\n",
        "\n",
        "# entrada de dados pelo usuário\n",
        "\n",
        "n1 = float(input('Digite o primeiro valor: '))\n",
        "n2 = float(input('Digite o segundo valor: '))\n",
        "n3 = float(input('Digite o terceiro valor: '))\n",
        "n4 = float(input('Digite o quarto valor: '))\n",
        "\n",
        "# adicionando em uma tupla, os números digitados pelo usuário\n",
        "\n",
        "numeros = (n1, n2, n3, n4)\n",
        "\n",
        "\n",
        "# apresentando os resultados\n",
        "\n",
        "print(f'O número 9 apareceu {numeros.count(9)} vezes.') # conta quantas vezes um elemento apareceu na tupla\n",
        "print(f'O índice da primeira ocorrência do valor 3 é: {numeros.index(3)}.') # indica o índice da primeira ocorrência do elemento desejado\n",
        "print(f'Os números pares digitados foram: {[n for n in numeros if n % 2 == 0]}') # forma reduzida do if, para caber direto no print"
      ],
      "metadata": {
        "colab": {
          "base_uri": "https://localhost:8080/"
        },
        "id": "8CKAn0n-PTRS",
        "outputId": "39e9fc3f-1e42-4fab-c377-69db36690336"
      },
      "execution_count": null,
      "outputs": [
        {
          "output_type": "stream",
          "name": "stdout",
          "text": [
            "Digite o primeiro valor: 2\n",
            "Digite o segundo valor: 4\n",
            "Digite o terceiro valor: 9\n",
            "Digite o quarto valor: 3\n",
            "O número 9 apareceu 1 vezes.\n",
            "O índice da primeira ocorrência do valor 3 é: 3.\n",
            "Os números pares digitados foram: [2.0, 4.0]\n"
          ]
        }
      ]
    },
    {
      "cell_type": "markdown",
      "source": [
        "## Exercício Python 076: Crie um programa que tenha uma tupla única com nomes de produtos e seus respectivos preços, na sequência. No final, mostre uma listagem de preços, organizando os dados em forma tabular."
      ],
      "metadata": {
        "id": "dOfTSkfdOtYo"
      }
    },
    {
      "cell_type": "code",
      "source": [
        "# criando a tupla com os nomes de produtos e seus respectivos preços\n",
        "\n",
        "produtos = ('Arroz', 5.53, 'Feijão', 4.32, 'Macarrão', 3.25, 'Farinha', 6.47, 'Carne', 17.83, 'Frango', 9.67,)\n",
        "\n",
        "\n",
        "# nesse caso, temos que usar o for com range para iterar sobre a tupla\n",
        "\n",
        "print('-------------------------TABELA DE PREÇOS-------------------------')\n",
        "for c in range(0, len(produtos), 2):\n",
        "    print(f'\\n{produtos[c]:.<58} R$ {produtos[c+1]:>}\\n')\n",
        "\n",
        "print('------------------------------------------------------------------')\n",
        "\n",
        "\"\"\"\n",
        "    '<' - serve para alinhar caracteres à esquerda\n",
        "    '>' - serve para alinhar caracteres à direita\n",
        "    '58' - é a quantidade de posições/caracteres\n",
        "    ':.<58' - contando o elemento 'produtos[c]', tudo será alinhado à esquerda e ocupará um o espaço de 58 caracteres, após o elemento 'produtos[c]', o espaço que resta será preenchido com pontos (.)\n",
        "    ':<' - o elemento 'produtos[c+1]' será alinhado a direita\n",
        "\n",
        "    esses comandos são sempre após os elementos que estão dentro das chaves quando se utiliza as f-strings\n",
        "\n",
        "\"\"\""
      ],
      "metadata": {
        "id": "xL69tN_7O0cA",
        "colab": {
          "base_uri": "https://localhost:8080/"
        },
        "outputId": "180cc3bb-e267-4b6e-ab4e-c0f0a70a7aca"
      },
      "execution_count": null,
      "outputs": [
        {
          "output_type": "stream",
          "name": "stdout",
          "text": [
            "-------------------------TABELA DE PREÇOS-------------------------\n",
            "\n",
            "Arroz..................................................... R$ 5.53\n",
            "\n",
            "\n",
            "Feijão.................................................... R$ 4.32\n",
            "\n",
            "\n",
            "Macarrão.................................................. R$ 3.25\n",
            "\n",
            "\n",
            "Farinha................................................... R$ 6.47\n",
            "\n",
            "\n",
            "Carne..................................................... R$ 17.83\n",
            "\n",
            "\n",
            "Frango.................................................... R$ 9.67\n",
            "\n",
            "------------------------------------------------------------------\n"
          ]
        }
      ]
    },
    {
      "cell_type": "code",
      "source": [
        "# SOLUÇÃO DO GUANABARA\n",
        "\n",
        "produtos = ('Arroz', 5.53, 'Feijão', 4.32, 'Macarrão', 3.25, 'Farinha', 6.47, 'Carne', 17.83, 'Frango', 9.67,)\n",
        "\n",
        "print('-' * 40)\n",
        "print(f'{\"LISTAGEM DE PREÇOS\":^40}') # :^40 - colocando \"listagem de preços\" centralizada e em 40 espaços\n",
        "print('-' * 40)\n",
        "\n",
        "\n",
        "for pos in range(0, len(produtos)): # pos = posição | len(produtos) = o tamanho da tupla\n",
        "    if pos % 2 == 0: # serve para printar os produtos que estão nos índices pares, formatados dessa forma\n",
        "        print(f'{produtos[pos]:.<30}', end='')\n",
        "    else: # serve para printar os preços que estão nos índices ímpares, formatados dessa forma\n",
        "        print(f' R$ {produtos[pos]:>5.2f}')\n"
      ],
      "metadata": {
        "colab": {
          "base_uri": "https://localhost:8080/"
        },
        "id": "fgNKUMtQX5Zm",
        "outputId": "5eb41ec4-14c1-4469-9868-8adbbe999d35"
      },
      "execution_count": null,
      "outputs": [
        {
          "output_type": "stream",
          "name": "stdout",
          "text": [
            "----------------------------------------\n",
            "           LISTAGEM DE PREÇOS           \n",
            "----------------------------------------\n",
            "Arroz......................... R$  5.53\n",
            "Feijão........................ R$  4.32\n",
            "Macarrão...................... R$  3.25\n",
            "Farinha....................... R$  6.47\n",
            "Carne......................... R$ 17.83\n",
            "Frango........................ R$  9.67\n"
          ]
        }
      ]
    },
    {
      "cell_type": "markdown",
      "source": [
        "##Exercício Python 077: Crie um programa que tenha uma tupla com várias palavras (não usar acentos). Depois disso, você deve mostrar, para cada palavra, quais são as suas vogais."
      ],
      "metadata": {
        "id": "LqEHfCmVO09i"
      }
    },
    {
      "cell_type": "code",
      "source": [
        "\n",
        "palavras = ('python', 'data', 'science', 'curso', 'video', 'tecnologia', 'dinheiro', 'felicidade') # não acentuar as palavras\n",
        "\n",
        "for palavra in palavras: # esse for serve para iterar em cada palavra da tupla\n",
        "    print(f'\\nNa palavra {palavra.upper()} temos ', end='')\n",
        "    for letra in palavra: # esse for serve para iterar sobre cada letra de acordo com cada palavra que esteja sendo lida pelo primeiro for\n",
        "                          # (lembre que uma string é uma lista, ou seja, cada palavra em si é também uma lista)\n",
        "        if letra.lower() in 'aeiou': # caso quiséssemos acentuar as palavras, teríamos que incluir as letras com acento em 'aeiou'\n",
        "            print(letra, end=' ')\n"
      ],
      "metadata": {
        "id": "tS6gF_aJO_HA",
        "colab": {
          "base_uri": "https://localhost:8080/"
        },
        "outputId": "2e6c4092-44ed-439e-8a04-8747677bf549"
      },
      "execution_count": null,
      "outputs": [
        {
          "output_type": "stream",
          "name": "stdout",
          "text": [
            "\n",
            "Na palavra PYTHON temos o \n",
            "Na palavra DATA temos a a \n",
            "Na palavra SCIENCE temos i e e \n",
            "Na palavra CURSO temos u o \n",
            "Na palavra VIDEO temos i e o \n",
            "Na palavra TECNOLOGIA temos e o o i a \n",
            "Na palavra DINHEIRO temos i e i o \n",
            "Na palavra FELICIDADE temos e i i a e "
          ]
        }
      ]
    },
    {
      "cell_type": "markdown",
      "source": [
        "# LISTAS - PARTE 1\n"
      ],
      "metadata": {
        "id": "4UCt2eBy9yRs"
      }
    },
    {
      "cell_type": "markdown",
      "source": [
        "## Exercício Python 078: Faça um programa que leia 5 valores numéricos e guarde-os em uma lista. No final, mostre qual foi o maior e o menor valor digitado e as suas respectivas posições na lista.\n"
      ],
      "metadata": {
        "id": "gXyKzMxTPCYG"
      }
    },
    {
      "cell_type": "code",
      "source": [
        "# inicializando as variáveis\n",
        "lista_num = []\n",
        "\n",
        "for n in range(1, 6):\n",
        "    num = float(input(f'Digite o {n}º número: '))\n",
        "    lista_num.append(num)\n",
        "\n",
        "# retornando os maior e o menor valor\n",
        "maior = max(lista_num)\n",
        "menor = min(lista_num)\n",
        "\n",
        "# exibindo os resultados\n",
        "print(lista_num)\n",
        "print(f'O maior valor da lista é: {maior} '\n",
        "      f'e sua posição (índice) na lista é: {lista_num.index(maior)}.') # nas listas usa-se a variável como parâmetro do método/função: a opção \"lista_num.max()\" NÃO FUNCIONA!\n",
        "print(f'O menor valor da lista é: {menor} '\n",
        "      f'e sua posição (índice) na lista é: {lista_num.index(menor)}.')"
      ],
      "metadata": {
        "id": "NKTIHzREPGlq",
        "colab": {
          "base_uri": "https://localhost:8080/"
        },
        "outputId": "8d6ce9d2-0984-41ac-f598-d8b55b5ad265"
      },
      "execution_count": null,
      "outputs": [
        {
          "output_type": "stream",
          "name": "stdout",
          "text": [
            "Digite o 1º número: 3\n",
            "Digite o 2º número: 7\n",
            "Digite o 3º número: 3\n",
            "Digite o 4º número: 9\n",
            "Digite o 5º número: 2\n",
            "[3.0, 7.0, 3.0, 9.0, 2.0]\n",
            "O maior valor da lista é: 9.0 e sua posição (índice) na lista é: 3.\n",
            "O menor valor da lista é: 2.0 e sua posição (índice) na lista é: 4.\n"
          ]
        }
      ]
    },
    {
      "cell_type": "markdown",
      "source": [
        "## Exercício Python 079: Crie um programa onde o usuário possa digitar vários valores numéricos e cadastre-os em uma lista. Caso o número já exista lá dentro, ele não será adicionado. No final, serão exibidos todos os valores únicos digitados, em ordem crescente."
      ],
      "metadata": {
        "id": "78IXXWcIPLKG"
      }
    },
    {
      "cell_type": "code",
      "source": [
        "# inicializando as variáveis\n",
        "lista_numeros = []\n",
        "\n",
        "while True:\n",
        "    num = float(input(f'Digite um número: '))\n",
        "    if num not in lista_numeros:\n",
        "        lista_numeros.append(num)\n",
        "    else:\n",
        "        num = float(input(f'Esse número já existe na lista! Digite outro número: '))\n",
        "\n",
        "    resp = ''\n",
        "    resp = input('Deseja continuar [S/N]?'\n",
        "                 '\\nOpção desejada: ').strip().upper()\n",
        "\n",
        "    if resp not in 'SN':\n",
        "        resp = input('Deseja continuar [S/N]?'\n",
        "                     '\\nOpção desejada: ').strip().upper()\n",
        "    elif resp == 'N':\n",
        "        break\n",
        "\n",
        "\"\"\"lista_ordenada = lista_numeros.sort() - NÃO FUNCIONA - O python modifica a lista in-place e retorna None, ou seja, ele ordena a lista diretamente e não retorna uma nova lista ordenada.\n",
        "                                            Assim, quando você faz lista_ordenada = lista_numeros.sort(), lista_ordenada fica com o valor None.\"\"\" # explicação do mano chatGPT\n",
        "\n",
        "# ordenando a lista da forma correta, após o erro\n",
        "\n",
        "lista_numeros.sort()\n",
        "\n",
        "# exibindo os resultados\n",
        "\"\"\" print(lista_numeros.sort()) - pelo mesmo motivo do 'lista_ordenada = lista_numeros.sort()', não é possível executar esse comando,\n",
        "                                pois ele retornará NONE também.\"\"\"\n",
        "\n",
        "print(f'A lista ordenada dos números digitados é: {lista_numeros}')"
      ],
      "metadata": {
        "id": "UrlF18nRPPtB",
        "colab": {
          "base_uri": "https://localhost:8080/"
        },
        "outputId": "52dec546-30ea-42fe-a403-a2597dd6c628"
      },
      "execution_count": null,
      "outputs": [
        {
          "output_type": "stream",
          "name": "stdout",
          "text": [
            "Digite um número: 3\n",
            "Deseja continuar [S/N]?\n",
            "Opção desejada: s\n",
            "Digite um número: 9\n",
            "Deseja continuar [S/N]?\n",
            "Opção desejada: 4\n",
            "Deseja continuar [S/N]?\n",
            "Opção desejada: s\n",
            "Digite um número: 3\n",
            "Esse número já existe na lista! Digite outro número: 5\n",
            "Deseja continuar [S/N]?\n",
            "Opção desejada: s\n",
            "Digite um número: 8\n",
            "Deseja continuar [S/N]?\n",
            "Opção desejada: n\n",
            "A lista ordenada dos números digitados é [3.0, 8.0, 9.0]\n"
          ]
        }
      ]
    },
    {
      "cell_type": "markdown",
      "source": [
        "## Exercício Python 080: Crie um programa onde o usuário possa digitar cinco valores numéricos e cadastre-os em uma lista, já na posição correta de inserção (sem usar o sort()). No final, mostre a lista ordenada na tela."
      ],
      "metadata": {
        "id": "wu0Fy83-PTAe"
      }
    },
    {
      "cell_type": "code",
      "source": [
        "# exercício realizado assistindo ao vídeo de resolução, não consegue fazer sozinho\n",
        "\n",
        "# criando a lista\n",
        "lista = []\n",
        "\n",
        "# lendo os 5 valores\n",
        "\n",
        "\"\"\" para cada número digitado, só há três possibilidade: ou ele é o menor valor e ficará na primeira posição,\n",
        "ou ele é o maior valor e ficará na última posição, ou ele ficará entre os valor do meio da lista\"\"\"\n",
        "\n",
        "for n in range(0, 5):\n",
        "    num = float(input(f'Digite o {n+1}º número: '))\n",
        "    \"\"\"if n == 0:\n",
        "        lista.append(num) # como é o primeiro valor lido, posso usar o método append()\n",
        "    elif num > lista[-1]: # comparando \"num\" com o último elemento da lista, poderia ser usado \"num > lista[len(lista)-1]\", pois também funionaria\n",
        "        lista.append(num) # o método apeend() adiciona valores ao final da lista, como o último valor da lista deverá ser o maior valor, podemos utilizar esse método\"\"\"\n",
        "\n",
        "    # simplificando a lógica acima\n",
        "    if n == 0 or num > lista[-1]:\n",
        "        lista.append(num)\n",
        "        print('Adicionado ao final da lista...')\n",
        "    else: # se não é o primeiro ou o último deverá ficar no meio da lista, portanto, temos que descobrir em qual posição ele ficará\n",
        "        pos = 0 # posição inicial do vetor\n",
        "        while pos < len(lista): # enquanto a posição inicial for menor que a última posição\n",
        "            if num <= lista[pos]: # verificando se o número a ser inserido é menor ou igual ao número na posição \"pos\"\n",
        "            # nesse caso teremos que inserir esse número em uma posição específica, portando, não podemos utilizar o método append(), devemos utilizar o método insert()\n",
        "                lista.insert(pos, num) # inserindo o\n",
        "                print(f'Adicionado na posição {pos} da lista...')\n",
        "                break\n",
        "            pos += 1\n",
        "\n",
        "print('=-'*40)\n",
        "print(f'\\nOs valores digitados em ordem foram: {lista}.')\n"
      ],
      "metadata": {
        "id": "4sLZcfYYPibv",
        "colab": {
          "base_uri": "https://localhost:8080/"
        },
        "outputId": "5776ccf6-839e-40f3-bbfd-e99ac98baf4d"
      },
      "execution_count": null,
      "outputs": [
        {
          "output_type": "stream",
          "name": "stdout",
          "text": [
            "Digite o 1º número: 8\n",
            "Adicionado ao final da lista...\n",
            "Digite o 2º número: 1\n",
            "Adicionado na posição 0 da lista...\n",
            "Digite o 3º número: 7\n",
            "Adicionado na posição 1 da lista...\n",
            "Digite o 4º número: 10\n",
            "Adicionado ao final da lista...\n",
            "Digite o 5º número: 0\n",
            "Adicionado na posição 0 da lista...\n",
            "=-=-=-=-=-=-=-=-=-=-=-=-=-=-=-=-=-=-=-=-=-=-=-=-=-=-=-=-=-=-=-=-=-=-=-=-=-=-=-=-\n",
            "\n",
            "Os valores digitados em ordem foram: [0.0, 1.0, 7.0, 8.0, 10.0].\n"
          ]
        }
      ]
    },
    {
      "cell_type": "markdown",
      "source": [
        "## Exercício Python 081: Crie um programa que vai ler vários números e colocar em uma lista. Depois disso, mostre:\n",
        "\n",
        "1. Quantos números foram digitados.\n",
        "2. A lista de valores, ordenada de forma decrescente.\n",
        "3. Se o valor 5 foi digitado e está ou não na lista."
      ],
      "metadata": {
        "id": "Eqd3HfZEPi5v"
      }
    },
    {
      "cell_type": "code",
      "source": [
        "# inicializando as variáveis\n",
        "lista_numeros2 = []\n",
        "\n",
        "# corpo do código\n",
        "while True:\n",
        "    num = float(input(f'Digite um número: '))\n",
        "    if num not in lista_numeros2:\n",
        "        lista_numeros2.append(num)\n",
        "    else:\n",
        "        num = float(input(f'Esse número já existe na lista! Digite outro número: ')) # eu quis aproveitar o código do exercício 79, para deixar apenas números únicos na lista\n",
        "\n",
        "    resp = ''\n",
        "    resp = input('Deseja continuar [S/N]?'\n",
        "                 '\\nOpção desejada: ').strip().upper()\n",
        "\n",
        "    if resp not in 'SN':\n",
        "        resp = input('Deseja continuar [S/N]?'\n",
        "                     '\\nOpção desejada: ').strip().upper()\n",
        "    elif resp == 'N':\n",
        "        break\n",
        "\n",
        "# ordenando a lista de forma decrescente\n",
        "lista_numeros2.sort(reverse=True)\n",
        "\n",
        "# apresentando os resultados\n",
        "print(f'Foram digitados {len(lista_numeros2)} números.')\n",
        "print(f'Lista ordenada de forma decrescente: {lista_numeros2}.')\n",
        "\n",
        "if 5 in lista_numeros2:\n",
        "    print(f'O número 5 está na lista!')\n",
        "else:\n",
        "    print(f'O número 5 não está na lista!')\n"
      ],
      "metadata": {
        "id": "uIcVPbLMPnJp",
        "colab": {
          "base_uri": "https://localhost:8080/"
        },
        "outputId": "f14f6f11-c8ae-454d-ee69-1cc3df4b4285"
      },
      "execution_count": null,
      "outputs": [
        {
          "output_type": "stream",
          "name": "stdout",
          "text": [
            "Digite um número: 2\n",
            "Deseja continuar [S/N]?\n",
            "Opção desejada: s\n",
            "Digite um número: 4\n",
            "Deseja continuar [S/N]?\n",
            "Opção desejada: s\n",
            "Digite um número: 6\n",
            "Deseja continuar [S/N]?\n",
            "Opção desejada: s\n",
            "Digite um número: 8\n",
            "Deseja continuar [S/N]?\n",
            "Opção desejada: n\n",
            "Foram digitados 4 números.\n",
            "Lista ordenada de forma decrescente: [8.0, 6.0, 4.0, 2.0].\n",
            "O número não está na lista!\n"
          ]
        }
      ]
    },
    {
      "cell_type": "markdown",
      "source": [
        "## Exercício Python 082: Crie um programa que vai ler vários números e coloque em uma lista. Depois disso, crie duas listas extras que vão conter apenas os valores pares e os valores ímpares digitados, respectivamente. Ao final, mostre o conteúdo das três listas geradas."
      ],
      "metadata": {
        "id": "mPwpHAuWPxW9"
      }
    },
    {
      "cell_type": "code",
      "source": [
        "# inicializando as variáveis\n",
        "lista_numeros = []\n",
        "lista_pares = []\n",
        "lista_impares = []\n",
        "\n",
        "while True:\n",
        "    num = float(input(f'Digite um número: '))\n",
        "    if num not in lista_numeros:\n",
        "        lista_numeros.append(num)\n",
        "    else:\n",
        "        num = float(input(f'Esse número já existe na lista! Digite outro número: '))\n",
        "\n",
        "    if num % 2 == 0:\n",
        "        lista_pares.append(num)\n",
        "    else:\n",
        "        lista_impares.append(num)\n",
        "\n",
        "    resp = ''\n",
        "    resp = input('Deseja continuar [S/N]?'\n",
        "                 '\\nOpção desejada: ').strip().upper()\n",
        "\n",
        "    if resp not in 'SN':\n",
        "        resp = input('Deseja continuar [S/N]?'\n",
        "                     '\\nOpção desejada: ').strip().upper()\n",
        "    elif resp == 'N':\n",
        "        break\n",
        "\n",
        "# exibindo os resultados\n",
        "\n",
        "print(f'A lista digitada foi: {lista_numeros}.')\n",
        "print(f'Com base na lista original, a lista dos números pares é: {lista_pares}.')\n",
        "print(f'Com base na lista original, a lista dos números ímpares é: {lista_impares}.')"
      ],
      "metadata": {
        "id": "B6_eE0lCPyx4",
        "colab": {
          "base_uri": "https://localhost:8080/"
        },
        "outputId": "94ed2504-d3cc-4538-b710-d20305580720"
      },
      "execution_count": null,
      "outputs": [
        {
          "output_type": "stream",
          "name": "stdout",
          "text": [
            "Digite um número: 2\n",
            "Deseja continuar [S/N]?\n",
            "Opção desejada: s\n",
            "Digite um número: 3\n",
            "Deseja continuar [S/N]?\n",
            "Opção desejada: s\n",
            "Digite um número: 4\n",
            "Deseja continuar [S/N]?\n",
            "Opção desejada: s\n",
            "Digite um número: 5\n",
            "Deseja continuar [S/N]?\n",
            "Opção desejada: 6\n",
            "Deseja continuar [S/N]?\n",
            "Opção desejada: s\n",
            "Digite um número: 7\n",
            "Deseja continuar [S/N]?\n",
            "Opção desejada: n\n",
            "A lista digitada foi: [2.0, 3.0, 4.0, 5.0, 7.0].\n",
            "Com base na lista original, a lista dos números pares é: [2.0, 4.0].\n",
            "Com base na lista original, a lista dos números ímpares é: [3.0, 5.0, 7.0].\n"
          ]
        }
      ]
    },
    {
      "cell_type": "markdown",
      "source": [
        "## Exercício Python 083: Crie um programa onde o usuário digite uma expressão qualquer que use parênteses. Seu aplicativo deverá analisar se a expressão passada está com os parênteses abertos e fechados na ordem correta."
      ],
      "metadata": {
        "id": "qucbBVEokHKs"
      }
    },
    {
      "cell_type": "code",
      "source": [
        "expr = str(input('Digite a expressão: '))\n",
        "pilha = []\n",
        "\n",
        "# verificando os símbolos\n",
        "for simb in expr:\n",
        "    if simb == '(':\n",
        "        pilha.append('(') # sempre que encontrar '(', ou seja, um parênteses aberto, o programa adicionará esse parênteses à pilha\n",
        "    elif simb == ')':\n",
        "        if len(pilha) > 0:\n",
        "            \"\"\" sempre que encontrar ')', ou seja, um parênteses aberto, ele verificará se a pilha contém um parênteses aberto '(',\n",
        "            se contiver, ele removerá o parêntes aberto da pilha, pois ele terá seu parênteses fechado, formando o par '()'.    \"\"\"\n",
        "            pilha.pop()\n",
        "        else:\n",
        "            pilha.append(')')\n",
        "            break\n",
        "\n",
        "if len(pilha) == 0:\n",
        "    print('Sua expressão é válida!')\n",
        "else:\n",
        "    print('Sua expressão é inválida!')"
      ],
      "metadata": {
        "id": "gHd6Ux7skHiH",
        "colab": {
          "base_uri": "https://localhost:8080/"
        },
        "outputId": "1ef097aa-98e5-4dce-fc0a-1b39a98fb36f"
      },
      "execution_count": null,
      "outputs": [
        {
          "output_type": "stream",
          "name": "stdout",
          "text": [
            "Digite a expressão: (a+b)(a*(c+n))+((3-4)/3\n",
            "Sua expressão é inválida!\n"
          ]
        }
      ]
    },
    {
      "cell_type": "markdown",
      "source": [
        "# LISTAS - PARTE 2"
      ],
      "metadata": {
        "id": "vHa4VAUS-16A"
      }
    },
    {
      "cell_type": "markdown",
      "source": [
        "## Exercício Python 084: Faça um programa que leia nome e peso de várias pessoas, guardando tudo em uma lista. No final, mostre:\n",
        "\n",
        "1. Quantas pessoas foram cadastradas.\n",
        "2. Uma listagem com as pessoas mais pesadas.\n",
        "3. Uma listagem com as pessoas mais leves."
      ],
      "metadata": {
        "id": "7HsN9GtxkJPZ"
      }
    },
    {
      "cell_type": "code",
      "source": [
        "# criando as listas\n",
        "pessoas = list()\n",
        "individuo = list()\n",
        "totPessoas = 0\n",
        "maisPesadas = list()\n",
        "maisLeves = list()\n",
        "\n",
        "\n",
        "while True:\n",
        "    # entrada de dados\n",
        "    individuo.append(str(input('Digite o nome da pessoa: ')))\n",
        "    individuo.append(float(input(f'Digite o peso do(a) {individuo[0]}: ')))\n",
        "    pessoas.append(individuo[:]) # lembre-se que ao utilizar \"individuo[:]\" significa que será uma cópia da lista individuo\n",
        "    individuo.clear()\n",
        "    totPessoas += 1\n",
        "\n",
        "    resposta = ''\n",
        "    resposta = input('Deseja continuar [S/N]?'\n",
        "                 '\\nOpção desejada: ').strip().upper()\n",
        "\n",
        "    # verificando se o usuário deseja continuar cadastrando, caso não, o loop será interrompido\n",
        "    if resposta not in 'SN':\n",
        "        resposta = input('Deseja continuar [S/N]?'\n",
        "                     '\\nOpção desejada: ').strip().upper()\n",
        "    elif resposta == 'N':\n",
        "        break\n",
        "\n",
        "# verificando os mais pesados\n",
        "for p in pessoas: # para cada pessoa na lista\n",
        "    if p[1] >= 90: # verificando apenas a idade de cada pessoa na lista\n",
        "        maisPesadas.append(p[0]) # printando o nome dessa pessoa com o peso maior ou igual a 90 kg\n",
        "\n",
        "    # verificando os mais leves\n",
        "for p in pessoas: # para cada pessoa na lista\n",
        "    if p[1] <= 65: # verificando apenas a idade de cada pessoa na lista\n",
        "        maisLeves.append(p[0]) # printando o nome dessa pessoa com o peso maior ou igual a 90 kg\n",
        "\n",
        "\n",
        "print(pessoas)\n",
        "print(f'Foram cadastradas {totPessoas} pessoas.')\n",
        "print(f'As pessoas mais leves são: {maisLeves}.')\n",
        "print(f'As pessoas mais pesadas são: {maisPesadas}.')"
      ],
      "metadata": {
        "id": "bC6sysAWkNr5",
        "colab": {
          "base_uri": "https://localhost:8080/"
        },
        "outputId": "b25a1a78-a6d7-481f-c22d-0bb873e365a6"
      },
      "execution_count": 10,
      "outputs": [
        {
          "output_type": "stream",
          "name": "stdout",
          "text": [
            "Digite o nome da pessoa: Pedro\n",
            "Digite o peso do(a) Pedro: 110\n",
            "Deseja continuar [S/N]?\n",
            "Opção desejada: s\n",
            "Digite o nome da pessoa: João\n",
            "Digite o peso do(a) João: 80\n",
            "Deseja continuar [S/N]?\n",
            "Opção desejada: s\n",
            "Digite o nome da pessoa: Márcia\n",
            "Digite o peso do(a) Márcia: 55\n",
            "Deseja continuar [S/N]?\n",
            "Opção desejada: s\n",
            "Digite o nome da pessoa: Joana\n",
            "Digite o peso do(a) Joana: 75\n",
            "Deseja continuar [S/N]?\n",
            "Opção desejada: s\n",
            "Digite o nome da pessoa: Cleiton\n",
            "Digite o peso do(a) Cleiton: 90\n",
            "Deseja continuar [S/N]?\n",
            "Opção desejada: s\n",
            "Digite o nome da pessoa: Cláudia\n",
            "Digite o peso do(a) Cláudia: 60\n",
            "Deseja continuar [S/N]?\n",
            "Opção desejada: Milena\n",
            "Deseja continuar [S/N]?\n",
            "Opção desejada: s\n",
            "Digite o nome da pessoa: Milena\n",
            "Digite o peso do(a) Milena: 85\n",
            "Deseja continuar [S/N]?\n",
            "Opção desejada: n\n",
            "[['Pedro', 110.0], ['João', 80.0], ['Márcia', 55.0], ['Joana', 75.0], ['Cleiton', 90.0], ['Cláudia', 60.0], ['Milena', 85.0]]\n",
            "Foram cadastradas 7 pessoas.\n",
            "As pessoas mais leves são: ['Márcia', 'Cláudia'].\n",
            "As pessoas mais pesadas são: ['Pedro', 'Cleiton'].\n"
          ]
        }
      ]
    },
    {
      "cell_type": "markdown",
      "source": [
        "## Exercício Python 085: Crie um programa onde o usuário possa digitar sete valores numéricos e cadastre-os em uma lista única que mantenha separados os valores pares e ímpares. No final, mostre os valores pares e ímpares em ordem crescente."
      ],
      "metadata": {
        "id": "coTzlZxakOUr"
      }
    },
    {
      "cell_type": "code",
      "source": [
        "# declarando as variáveis\n",
        "numeros = list()\n",
        "pares = list()\n",
        "impares = list()\n",
        "\n",
        "for n in range(1,8):\n",
        "    num = int(input(f'Digite o {n}º número: '))\n",
        "\n",
        "    # verificando se é par ou ímpar\n",
        "    if num % 2 == 0:\n",
        "        pares.append(num)\n",
        "    else:\n",
        "        impares.append(num)\n",
        "\n",
        "pares.sort()\n",
        "impares.sort()\n",
        "numeros.append(pares)\n",
        "numeros.append(impares)\n",
        "print(numeros)\n",
        "print(pares)\n",
        "print(impares)\n",
        ""
      ],
      "metadata": {
        "id": "fEN1qffrkSe4",
        "colab": {
          "base_uri": "https://localhost:8080/"
        },
        "outputId": "c8acf42b-94b1-4f4f-dc0c-458be46584cc"
      },
      "execution_count": 22,
      "outputs": [
        {
          "output_type": "stream",
          "name": "stdout",
          "text": [
            "Digite o 1º número: 5\n",
            "Digite o 2º número: 2\n",
            "Digite o 3º número: 6\n",
            "Digite o 4º número: 3\n",
            "Digite o 5º número: 9\n",
            "Digite o 6º número: 4\n",
            "Digite o 7º número: 7\n",
            "[[2, 4, 6], [3, 5, 7, 9]]\n",
            "[2, 4, 6]\n",
            "[3, 5, 7, 9]\n"
          ]
        }
      ]
    },
    {
      "cell_type": "markdown",
      "source": [
        "## Exercício Python 086: Crie um programa que declare uma matriz de dimensão 3x3 e preencha com valores lidos pelo teclado. No final, mostre a matriz na tela, com a formatação correta."
      ],
      "metadata": {
        "id": "r28QVLpOkTFX"
      }
    },
    {
      "cell_type": "code",
      "source": [
        "# declarando as variáveis\n",
        "matriz = list()\n",
        "pLinha = list()\n",
        "sLinha = list()\n",
        "tLinha = list()\n",
        "\n",
        "for n in range(1,10):\n",
        "    num = int(input(f'Digite o {n}º elemento: '))\n",
        "\n",
        "    if n < 4:\n",
        "        pLinha.append(num)\n",
        "    elif n < 7:\n",
        "        sLinha.append(num)\n",
        "    elif n < 10:\n",
        "        tLinha.append(num)\n",
        "\n",
        "matriz.append(pLinha)\n",
        "matriz.append(sLinha)\n",
        "matriz.append(tLinha)\n",
        "\n",
        "for l in matriz:\n",
        "    print(l, end='\\n')"
      ],
      "metadata": {
        "id": "l_U6_FyWkXHx",
        "colab": {
          "base_uri": "https://localhost:8080/"
        },
        "outputId": "2f32a73f-9c49-4b03-8c64-2471d84b0d28"
      },
      "execution_count": 28,
      "outputs": [
        {
          "output_type": "stream",
          "name": "stdout",
          "text": [
            "Digite o 1º elemento: 1\n",
            "Digite o 2º elemento: 2\n",
            "Digite o 3º elemento: 3\n",
            "Digite o 4º elemento: 4\n",
            "Digite o 5º elemento: 5\n",
            "Digite o 6º elemento: 6\n",
            "Digite o 7º elemento: 7\n",
            "Digite o 8º elemento: 8\n",
            "Digite o 9º elemento: 9\n",
            "[1, 2, 3]\n",
            "[4, 5, 6]\n",
            "[7, 8, 9]\n"
          ]
        }
      ]
    },
    {
      "cell_type": "markdown",
      "source": [
        "## Exercício Python 087: Aprimore o desafio anterior, mostrando no final:\n",
        "\n",
        "1. A soma de todos os valores pares digitados.\n",
        "2. A soma dos valores da terceira coluna.\n",
        "3. O maior valor da segunda linha."
      ],
      "metadata": {
        "id": "3KM6c_6jkXrf"
      }
    },
    {
      "cell_type": "code",
      "source": [
        "# declarando as variáveis\n",
        "matriz = list()\n",
        "pLinha = list()\n",
        "sLinha = list()\n",
        "tLinha = list()\n",
        "somaPar = 0\n",
        "somaTer = 0\n",
        "\n",
        "\n",
        "for n in range(1,10):\n",
        "    num = int(input(f'Digite o {n}º elemento: '))\n",
        "\n",
        "    if n < 4:\n",
        "        pLinha.append(num)\n",
        "    elif n < 7:\n",
        "        sLinha.append(num)\n",
        "    elif n < 10:\n",
        "        tLinha.append(num)\n",
        "\n",
        "matriz.append(pLinha)\n",
        "matriz.append(sLinha)\n",
        "matriz.append(tLinha)\n",
        "\n",
        "print('\\n---------- FORMA MATRICIAL ----------')\n",
        "for linha in matriz:\n",
        "    print(linha, end='\\n')\n",
        "\n",
        "print('\\n------------ RESULTADOS -------------')\n",
        "# somando os elementos pares da matriz:\n",
        "for linha in matriz:\n",
        "    for numero in linha:\n",
        "        if numero % 2 == 0:\n",
        "            somaPar += numero\n",
        "print(f'A soma dos elementos pares da matriz é: {somaPar}.')\n",
        "\n",
        "# somando os elementos que se encontram na terceira coluna, ou seja, os elementos de índice [2] de cada lista que corresponde a linha\n",
        "for linha in matriz:\n",
        "        somaTer += linha[:][2]\n",
        "print(f'A soma dos terceiros elementos da matriz é: {somaTer}.')\n",
        "\n",
        "# maior valor da segunda linha\n",
        "maior = max(matriz[1])\n",
        "print(f'O maior valor da segunda linha da matriz é: {maior}.')"
      ],
      "metadata": {
        "id": "gzBoSpEKka9g",
        "colab": {
          "base_uri": "https://localhost:8080/"
        },
        "outputId": "7abc3f17-c6fd-4cb6-aa0d-acfec29ac115"
      },
      "execution_count": 45,
      "outputs": [
        {
          "output_type": "stream",
          "name": "stdout",
          "text": [
            "Digite o 1º elemento: 1\n",
            "Digite o 2º elemento: 2\n",
            "Digite o 3º elemento: 3\n",
            "Digite o 4º elemento: 4\n",
            "Digite o 5º elemento: 5\n",
            "Digite o 6º elemento: 6\n",
            "Digite o 7º elemento: 7\n",
            "Digite o 8º elemento: 8\n",
            "Digite o 9º elemento: 9\n",
            "\n",
            "---------- FORMA MATRICIAL ----------\n",
            "[1, 2, 3]\n",
            "[4, 5, 6]\n",
            "[7, 8, 9]\n",
            "\n",
            "------------ RESULTADOS -------------\n",
            "A soma dos elementos pares da matriz é: 20.\n",
            "A soma dos terceiros elementos da matriz é: 18.\n",
            "O maior valor da segunda linha da matriz é: 6.\n"
          ]
        }
      ]
    },
    {
      "cell_type": "markdown",
      "source": [
        "## Exercício Python 088: Faça um programa que ajude um jogador da MEGA SENA a criar palpites.O programa vai perguntar quantos jogos serão gerados e vai sortear 6 números entre 1 e 60 para cada jogo, cadastrando tudo em uma lista composta."
      ],
      "metadata": {
        "id": "H-KJMUB1kb66"
      }
    },
    {
      "cell_type": "code",
      "source": [],
      "metadata": {
        "id": "6tdToq_XkhwP"
      },
      "execution_count": null,
      "outputs": []
    },
    {
      "cell_type": "markdown",
      "source": [
        "## Exercício Python 089: Crie um programa que leia nome e duas notas de vários alunos e guarde tudo em uma lista composta. No final, mostre um boletim contendo a média de cada um e permita que o usuário possa mostrar as notas de cada aluno individualmente."
      ],
      "metadata": {
        "id": "6KyZ7XDgkiaw"
      }
    },
    {
      "cell_type": "code",
      "source": [
        "# criando as listas\n",
        "alunos = list()\n",
        "aluno = list()\n",
        "media = 0\n",
        "\n",
        "while True:\n",
        "    # entrada de dados\n",
        "    aluno.append(str(input('Digite o nome do(a) aluno(a): ')))\n",
        "    aluno.append(float(input(f'Digite a 1ª nota do(a) {aluno[0]}: ')))\n",
        "    aluno.append(float(input(f'Digite a 2ª nota do(a) {aluno[0]}: ')))\n",
        "    alunos.append(aluno[:]) # lembre-se que ao utilizar \"aluno[:]\" significa que será uma cópia da lista aluno\n",
        "    aluno.clear()\n",
        "\n",
        "    resposta = ''\n",
        "    resposta = input('Deseja continuar [S/N]?'\n",
        "                 '\\nOpção desejada: ').strip().upper()\n",
        "\n",
        "    # verificando se o usuário deseja continuar cadastrando, caso não, o loop será interrompido\n",
        "    if resposta not in 'SN':\n",
        "        resposta = input('Deseja continuar [S/N]?'\n",
        "                     '\\nOpção desejada: ').strip().upper()\n",
        "    elif resposta == 'N':\n",
        "        break\n",
        "\n",
        "print(alunos, end='\\n')\n",
        "\n",
        "for i in alunos:\n",
        "    media = (i[1] + i[2])/2\n",
        "    print(f'A média do(a) aluno {i[0]} é: {media}.')\n"
      ],
      "metadata": {
        "id": "7uwOtPWSkoN4",
        "colab": {
          "base_uri": "https://localhost:8080/"
        },
        "outputId": "d70a3d73-81e9-4c95-c633-4f36273088e2"
      },
      "execution_count": 53,
      "outputs": [
        {
          "output_type": "stream",
          "name": "stdout",
          "text": [
            "Digite o nome do(a) aluno(a): joao\n",
            "Digite a 1ª nota do(a) joao: 5\n",
            "Digite a 2ª nota do(a) joao: 7\n",
            "Deseja continuar [S/N]?\n",
            "Opção desejada: s\n",
            "Digite o nome do(a) aluno(a): julia\n",
            "Digite a 1ª nota do(a) julia: 7\n",
            "Digite a 2ª nota do(a) julia: 8\n",
            "Deseja continuar [S/N]?\n",
            "Opção desejada: n\n",
            "[['joao', 5.0, 7.0], ['julia', 7.0, 8.0]]\n",
            "A média do(a) aluno joao é: 6.0.\n",
            "A média do(a) aluno julia é: 7.5.\n"
          ]
        }
      ]
    },
    {
      "cell_type": "markdown",
      "source": [
        "# DICIONÁRIOS"
      ],
      "metadata": {
        "id": "oCxc8THS_e2z"
      }
    },
    {
      "cell_type": "markdown",
      "source": [
        "## Exercício Python 090: Faça um programa que leia nome e média de um aluno, guardando também a situação em um dicionário. No final, mostre o conteúdo da estrutura na tela."
      ],
      "metadata": {
        "id": "w-MSrmIWkryZ"
      }
    },
    {
      "cell_type": "code",
      "source": [],
      "metadata": {
        "id": "VutW3Dkrks2A"
      },
      "execution_count": null,
      "outputs": []
    },
    {
      "cell_type": "markdown",
      "source": [
        "## Exercício Python 091: Crie um programa onde 4 jogadores joguem um dado e tenham resultados aleatórios. Guarde esses resultados em um dicionário em Python. No final, coloque esse dicionário em ordem, sabendo que o vencedor tirou o maior número no dado."
      ],
      "metadata": {
        "id": "0q0ds1ghkwaS"
      }
    },
    {
      "cell_type": "code",
      "source": [],
      "metadata": {
        "id": "rYUkiJJUkxMA"
      },
      "execution_count": null,
      "outputs": []
    },
    {
      "cell_type": "markdown",
      "source": [
        "## Exercício Python 092: Crie um programa que leia nome, ano de nascimento e carteira de trabalho e cadastre-o (com idade) em um dicionário. Se por acaso a CTPS for diferente de ZERO, o dicionário receberá também o ano de contratação e o salário. Calcule e acrescente, além da idade, com quantos anos a pessoa vai se aposentar."
      ],
      "metadata": {
        "id": "Q4dLRI2KkxrS"
      }
    },
    {
      "cell_type": "code",
      "source": [],
      "metadata": {
        "id": "8oE5twm5kzrQ"
      },
      "execution_count": null,
      "outputs": []
    },
    {
      "cell_type": "markdown",
      "source": [
        "## Exercício Python 093: Crie um programa que gerencie o aproveitamento de um jogador de futebol. O programa vai ler o nome do jogador e quantas partidas ele jogou. Depois vai ler a quantidade de gols feitos em cada partida. No final, tudo isso será guardado em um dicionário, incluindo o total de gols feitos durante o campeonato."
      ],
      "metadata": {
        "id": "mmOwK9IDk0TE"
      }
    },
    {
      "cell_type": "code",
      "source": [],
      "metadata": {
        "id": "cQG58Ab2pUMa"
      },
      "execution_count": null,
      "outputs": []
    },
    {
      "cell_type": "markdown",
      "source": [
        "## Exercício Python 094: Crie um programa que leia nome, sexo e idade de várias pessoas, guardando os dados de cada pessoa em um dicionário e todos os dicionários em uma lista. No final, mostre:\n",
        "\n",
        "1. Quantas pessoas foram cadastradas\n",
        "2. A média de idade\n",
        "3. Uma lista com as mulheres\n",
        "4. Uma lista de pessoas com idade acima da média"
      ],
      "metadata": {
        "id": "R25myKKqpVSp"
      }
    },
    {
      "cell_type": "code",
      "source": [],
      "metadata": {
        "id": "odRdR1UepYJR"
      },
      "execution_count": null,
      "outputs": []
    },
    {
      "cell_type": "markdown",
      "source": [
        "## Exercício Python 095: Aprimore o desafio 93 para que ele funcione com vários jogadores, incluindo um sistema de visualização de detalhes do aproveitamento de cada jogador."
      ],
      "metadata": {
        "id": "tm1X7zQZpbMO"
      }
    },
    {
      "cell_type": "code",
      "source": [],
      "metadata": {
        "id": "-Cf7wifQplJK"
      },
      "execution_count": null,
      "outputs": []
    },
    {
      "cell_type": "markdown",
      "source": [
        "# FUNÇÕES - PARTE 1"
      ],
      "metadata": {
        "id": "9I46Ni9DAE8H"
      }
    },
    {
      "cell_type": "markdown",
      "source": [
        "## Exercício Python 096: Faça um programa que tenha uma função chamada área(), que receba as dimensões de um terreno retangular (largura e comprimento) e mostre a área do terreno."
      ],
      "metadata": {
        "id": "wPPegKwbpoCo"
      }
    },
    {
      "cell_type": "code",
      "source": [],
      "metadata": {
        "id": "UHFBwzg-psGg"
      },
      "execution_count": null,
      "outputs": []
    },
    {
      "cell_type": "markdown",
      "source": [
        "## Exercício Python 097: Faça um programa que tenha uma função chamada escreva(), que receba um texto qualquer como parâmetro e mostre uma mensagem com tamanho adaptável.\n",
        "\n",
        "#### Ex:\n",
        "#### escreva('Olá, Mundo!')\n",
        "#### Saída:\n",
        "#### Olá, Mundo!\n"
      ],
      "metadata": {
        "id": "ING4BlkBpsuc"
      }
    },
    {
      "cell_type": "code",
      "source": [],
      "metadata": {
        "id": "Ge0S635spxLn"
      },
      "execution_count": null,
      "outputs": []
    },
    {
      "cell_type": "markdown",
      "source": [
        "## Exercício Python 098: Faça um programa que tenha uma função chamada contador(), que receba três parâmetros: início, fim e passo. Seu programa tem que realizar três contagens através da função criada:\n",
        "\n",
        "1. de 1 até 10, de 1 em 1\n",
        "2. de 10 até 0, de 2 em 2\n",
        "3. uma contagem personalizada"
      ],
      "metadata": {
        "id": "qYII2zImp3EZ"
      }
    },
    {
      "cell_type": "code",
      "source": [],
      "metadata": {
        "id": "aQ6X7Bh7p6WH"
      },
      "execution_count": null,
      "outputs": []
    },
    {
      "cell_type": "markdown",
      "source": [
        "## Exercício Python 099: Faça um programa que tenha uma função chamada maior(), que receba vários parâmetros com valores inteiros. Seu programa tem que analisar todos os valores e dizer qual deles é o maior."
      ],
      "metadata": {
        "id": "nUQmQ-Mcp8YX"
      }
    },
    {
      "cell_type": "code",
      "source": [],
      "metadata": {
        "id": "cNtGpOj1p9SA"
      },
      "execution_count": null,
      "outputs": []
    },
    {
      "cell_type": "markdown",
      "source": [
        "## Exercício Python 100: Faça um programa que tenha uma lista chamada números e duas funções chamadas sorteia() e somaPar(). A primeira função vai sortear 5 números e vai colocá-los dentro da lista e a segunda função vai mostrar a soma entre todos os valores pares sorteados pela função anterior."
      ],
      "metadata": {
        "id": "O1GK-vhHqBcH"
      }
    },
    {
      "cell_type": "code",
      "source": [],
      "metadata": {
        "id": "FHHtf1zQqCdn"
      },
      "execution_count": null,
      "outputs": []
    },
    {
      "cell_type": "markdown",
      "source": [
        "# FUNÇÕES - PARTE 2"
      ],
      "metadata": {
        "id": "CL3t9cRFA7dt"
      }
    },
    {
      "cell_type": "markdown",
      "source": [
        "## Exercício Python 101: Crie um programa que tenha uma função chamada voto() que vai receber como parâmetro o ano de nascimento de uma pessoa, retornando um valor literal indicando se uma pessoa tem voto NEGADO, OPCIONAL e OBRIGATÓRIO nas eleições."
      ],
      "metadata": {
        "id": "7EOf6oPdqFvv"
      }
    },
    {
      "cell_type": "code",
      "source": [],
      "metadata": {
        "id": "tYrpeLzWqHU3"
      },
      "execution_count": null,
      "outputs": []
    },
    {
      "cell_type": "markdown",
      "source": [
        "## Exercício Python 102: Crie um programa que tenha uma função fatorial() que receba dois parâmetros: o primeiro que indique o número a calcular e outro chamado show, que será um valor lógico (opcional) indicando se será mostrado ou não na tela o processo de cálculo do fatorial."
      ],
      "metadata": {
        "id": "navZ5muCqNYF"
      }
    },
    {
      "cell_type": "code",
      "source": [],
      "metadata": {
        "id": "_EejVw2oqNxF"
      },
      "execution_count": null,
      "outputs": []
    },
    {
      "cell_type": "markdown",
      "source": [
        "## Exercício Python 103: Faça um programa que tenha uma função chamada ficha(), que receba dois parâmetros opcionais: o nome de um jogador e quantos gols ele marcou. O programa deverá ser capaz de mostrar a ficha do jogador, mesmo que algum dado não tenha sido informado corretamente."
      ],
      "metadata": {
        "id": "4w0HFg0XqOLN"
      }
    },
    {
      "cell_type": "code",
      "source": [],
      "metadata": {
        "id": "kiqkMqboqR0o"
      },
      "execution_count": null,
      "outputs": []
    },
    {
      "cell_type": "markdown",
      "source": [
        "## Exercício Python 104: Crie um programa que tenha a função leiaInt(), que vai funcionar de forma semelhante 'a função input() do Python, só que fazendo a validação para aceitar apenas um valor numérico.\n",
        "\n",
        "> Ex: n = leiaInt('Digite um n: ')\n",
        "\n"
      ],
      "metadata": {
        "id": "PJNJW-A7qSbL"
      }
    },
    {
      "cell_type": "code",
      "source": [],
      "metadata": {
        "id": "vSWlPQ8wqUdQ"
      },
      "execution_count": null,
      "outputs": []
    },
    {
      "cell_type": "markdown",
      "source": [
        "## Exercício Python 105: Faça um programa que tenha uma função notas() que pode receber várias notas de alunos e vai retornar um dicionário com as seguintes informações:\n",
        "\n",
        "1. Quantidade de notas\n",
        "2. A maior nota\n",
        "3. A menor nota\n",
        "4. A média da turma\n",
        "5. A situação (opcional)\n",
        "\n",
        "> Adicione também as docstrings dessa função para consulta pelo desenvolvedor.\n",
        "\n"
      ],
      "metadata": {
        "id": "5s2vjMUoqVAv"
      }
    },
    {
      "cell_type": "code",
      "source": [],
      "metadata": {
        "id": "CUUSs2yUqcoc"
      },
      "execution_count": null,
      "outputs": []
    },
    {
      "cell_type": "markdown",
      "source": [
        "## Exercício Python 106: Faça um mini-sistema que utilize o Interactive Help do Python. O usuário vai digitar o comando e o manual vai aparecer. Quando o usuário digitar a palavra 'FIM', o programa se encerrará. Importante: use cores."
      ],
      "metadata": {
        "id": "3SmI9GSuqiew"
      }
    },
    {
      "cell_type": "code",
      "source": [],
      "metadata": {
        "id": "FujhrBNhqoGl"
      },
      "execution_count": null,
      "outputs": []
    },
    {
      "cell_type": "markdown",
      "source": [
        "# MÓDULOS E PACOTES"
      ],
      "metadata": {
        "id": "2opgL4VQB475"
      }
    },
    {
      "cell_type": "markdown",
      "source": [
        "## Exercício Python 107: Crie um módulo chamado moeda.py que tenha as funções incorporadas aumentar(), diminuir(), dobro() e metade(). Faça também um programa que importe esse módulo e use algumas dessas funções."
      ],
      "metadata": {
        "id": "nMjrmZ_GB48A"
      }
    },
    {
      "cell_type": "code",
      "source": [],
      "metadata": {
        "id": "wDYRjHlxB48A"
      },
      "execution_count": null,
      "outputs": []
    },
    {
      "cell_type": "markdown",
      "source": [
        "## Exercício Python 108: Adapte o código do desafio 107, criando uma função adicional chamada moeda() que consiga mostrar os números como um valor monetário formatado."
      ],
      "metadata": {
        "id": "0uesAMjEB48A"
      }
    },
    {
      "cell_type": "code",
      "source": [],
      "metadata": {
        "id": "4GhVcO6iB48A"
      },
      "execution_count": null,
      "outputs": []
    },
    {
      "cell_type": "markdown",
      "source": [
        "## Exercício Python 109: Modifique as funções que form criadas no desafio 107 para que elas aceitem um parâmetro a mais, informando se o valor retornado por elas vai ser ou não formatado pela função moeda(), desenvolvida no desafio 108."
      ],
      "metadata": {
        "id": "WyEHjL9TB48A"
      }
    },
    {
      "cell_type": "code",
      "source": [],
      "metadata": {
        "id": "rcwzkdIsB48A"
      },
      "execution_count": null,
      "outputs": []
    },
    {
      "cell_type": "markdown",
      "source": [
        "## Exercício 110 – Reduzindo ainda mais seu programa\n"
      ],
      "metadata": {
        "id": "UxhZ8N4gB48A"
      }
    },
    {
      "cell_type": "code",
      "source": [],
      "metadata": {
        "id": "ZAGhDULzB48A"
      },
      "execution_count": null,
      "outputs": []
    },
    {
      "cell_type": "markdown",
      "source": [
        "## Exercício Python 111: Crie um pacote chamado utilidadesCeV que tenha dois módulos internos chamados moeda e dado. Transfira todas as funções utilizadas nos desafios 107, 108 e 109 para o primeiro pacote e mantenha tudo funcionando."
      ],
      "metadata": {
        "id": "Wn8ikCz0B48B"
      }
    },
    {
      "cell_type": "code",
      "source": [],
      "metadata": {
        "id": "lWcYwuNSB48B"
      },
      "execution_count": null,
      "outputs": []
    },
    {
      "cell_type": "markdown",
      "source": [
        "## Exercício Python 112: Dentro do pacote utilidadesCeV que criamos no desafio 111, temos um módulo chamado dado. Crie uma função chamada leiaDinheiro() que seja capaz de funcionar como a função imputa(), mas com uma validação de dados para aceitar apenas valores que seja monetários."
      ],
      "metadata": {
        "id": "aq7uCHBIB48B"
      }
    },
    {
      "cell_type": "code",
      "source": [],
      "metadata": {
        "id": "kVKVuPdLB48B"
      },
      "execution_count": null,
      "outputs": []
    },
    {
      "cell_type": "markdown",
      "source": [
        "# TRATAMENTO DE ERROS E EXCEÇÕES"
      ],
      "metadata": {
        "id": "0QseSY2Mqoiu"
      }
    },
    {
      "cell_type": "markdown",
      "source": [
        "## Exercício Python 113: Reescreva a função leiaInt() que fizemos no desafio 104, incluindo agora a possibilidade da digitação de um número de tipo inválido. Aproveite e crie também uma função leiaFloat() com a mesma funcionalidade."
      ],
      "metadata": {
        "id": "sArVjTlNC9HX"
      }
    },
    {
      "cell_type": "code",
      "source": [],
      "metadata": {
        "id": "B8KmKVQMqxlN"
      },
      "execution_count": null,
      "outputs": []
    },
    {
      "cell_type": "markdown",
      "source": [
        "## Exercício Python 114: Crie um código em Python que teste se o site pudim está acessível pelo computador usado."
      ],
      "metadata": {
        "id": "Kr7xDasrDFdv"
      }
    },
    {
      "cell_type": "code",
      "source": [],
      "metadata": {
        "id": "Nr4chJN1DGLD"
      },
      "execution_count": null,
      "outputs": []
    }
  ]
}