{
  "cells": [
    {
      "cell_type": "markdown",
      "metadata": {
        "id": "view-in-github",
        "colab_type": "text"
      },
      "source": [
        "<a href=\"https://colab.research.google.com/github/jnrxvr/python-curso-em-video/blob/main/Python_Mundo2.ipynb\" target=\"_parent\"><img src=\"https://colab.research.google.com/assets/colab-badge.svg\" alt=\"Open In Colab\"/></a>"
      ]
    },
    {
      "cell_type": "markdown",
      "metadata": {
        "id": "lhU8N-mHN2In"
      },
      "source": [
        "# NOTEBOOK DOS EXERCÍCIOS DO MUNDO 2 DE PYTHON DO CURSO EM VÍDEO"
      ]
    },
    {
      "cell_type": "markdown",
      "metadata": {
        "id": "5-khfDvBONxn"
      },
      "source": [
        "## Exercício Python 36: Escreva um programa para aprovar o empréstimo bancário para a compra de uma casa. Pergunte o valor da casa, o salário do comprador e em quantos anos ele vai pagar. A prestação mensal não pode exceder 30% do salário ou então o empréstimo será negado."
      ]
    },
    {
      "cell_type": "code",
      "execution_count": null,
      "metadata": {
        "colab": {
          "base_uri": "https://localhost:8080/"
        },
        "id": "C3aOyFRzOQ0J",
        "outputId": "b6afdf65-1d6c-41f4-e1a4-9f34df160558"
      },
      "outputs": [
        {
          "name": "stdout",
          "output_type": "stream",
          "text": [
            "Digite o valor da casa: 60000\n",
            "Digite o salário: 5000\n",
            "Digite o total de anos a pagar: 3\n",
            "Lamento! Seu empréstimo não foi aprovado dessa vez. Tente novamente no futuro!\n"
          ]
        }
      ],
      "source": [
        "valor_da_casa = float(input('Digite o valor da casa: '))\n",
        "salario = float(input('Digite o salário: '))\n",
        "anos = float(input('Digite o total de anos a pagar: '))\n",
        "\n",
        "parcelas = valor_da_casa / (anos * 12)\n",
        "\n",
        "if parcelas <= (salario * 0.30):\n",
        "  print('Parabéns! Seu empréstimo foi aprovado!')\n",
        "else:\n",
        "  print('Lamento! Seu empréstimo não foi aprovado dessa vez. Tente novamente no futuro!')"
      ]
    },
    {
      "cell_type": "markdown",
      "metadata": {
        "id": "mCfK5Y5ROTOH"
      },
      "source": [
        "## Exercício Python 37: Escreva um programa em Python que leia um número inteiro qualquer e peça para o usuário escolher qual será a base de conversão: 1 para binário, 2 para octal e 3 para hexadecimal."
      ]
    },
    {
      "cell_type": "code",
      "execution_count": null,
      "metadata": {
        "colab": {
          "base_uri": "https://localhost:8080/"
        },
        "id": "qlwd7ULdOXfa",
        "outputId": "375727fb-e8bb-4811-a85d-ae3818c25dcb"
      },
      "outputs": [
        {
          "name": "stdout",
          "output_type": "stream",
          "text": [
            "Digite um número inteiro: 10\n",
            "0b1010\n",
            "0o12\n",
            "0xa\n"
          ]
        }
      ],
      "source": [
        "num = int(input('Digite um número inteiro: '))\n",
        "\n",
        "print(bin(num))\n",
        "print(oct(num))\n",
        "print(hex(num))"
      ]
    },
    {
      "cell_type": "markdown",
      "metadata": {
        "id": "y6hdc2dsOa1b"
      },
      "source": [
        "##Exercício Python 038: Escreva um programa que leia dois números inteiros e compare-os. mostrando na tela uma mensagem:\n",
        "\n",
        "###– O primeiro valor é maior\n",
        "###– O segundo valor é maior\n",
        "###– Não existe valor maior, os dois são iguais"
      ]
    },
    {
      "cell_type": "code",
      "execution_count": null,
      "metadata": {
        "colab": {
          "base_uri": "https://localhost:8080/"
        },
        "id": "s5104WK7Oocr",
        "outputId": "1cd229e9-571c-44af-9fd7-11348375ea21"
      },
      "outputs": [
        {
          "name": "stdout",
          "output_type": "stream",
          "text": [
            "Digite o primeiro número inteiro: 10\n",
            "Digite o segundo número inteiro: 10\n",
            "Não existe valor maior, ambos são iguais.\n"
          ]
        }
      ],
      "source": [
        "num1 = int(input('Digite o primeiro número inteiro: '))\n",
        "num2 = int(input('Digite o segundo número inteiro: '))\n",
        "\n",
        "if num1 > num2:\n",
        "  print(f'O primeiro número {num1} é o maior.')\n",
        "elif num2 > num1:\n",
        "  print(f'O segundo número {num2} é o maior.')\n",
        "else:\n",
        "  print('Não existe valor maior, ambos são iguais.')"
      ]
    },
    {
      "cell_type": "markdown",
      "metadata": {
        "id": "OyazGA-yOsCv"
      },
      "source": [
        "## Exercício Python 39: Faça um programa que leia o ano de nascimento de um jovem e informe, de acordo com a sua idade, se ele ainda vai se alistar ao serviço militar, se é a hora exata de se alistar ou se já passou do tempo do alistamento. Seu programa também deverá mostrar o tempo que falta ou que passou do prazo."
      ]
    },
    {
      "cell_type": "code",
      "execution_count": null,
      "metadata": {
        "colab": {
          "base_uri": "https://localhost:8080/"
        },
        "id": "JJLcyN2OOs1C",
        "outputId": "5c794d52-d441-4c1f-e22b-23ed1ac62abf"
      },
      "outputs": [
        {
          "name": "stdout",
          "output_type": "stream",
          "text": [
            "Informe o seu ano de nascimento: 2008\n",
            "\n",
            "Você tem 16 anos. Faltam 2 anos para você se alistar!\n"
          ]
        }
      ],
      "source": [
        "from datetime import date\n",
        "anoAtual = date.today().year # para se extrair o ano da data autal, não se utiliza os parênteses ao final do year\n",
        "anoNascimento = int(input('Informe o seu ano de nascimento: '))\n",
        "\n",
        "idade = anoAtual - anoNascimento\n",
        "dif = 18 - idade\n",
        "if idade < 18:\n",
        "  if dif <= 1:\n",
        "    print(f'\\nVocê tem {idade} anos. Falta {dif} ano para você se alistar!')\n",
        "  else:\n",
        "    print(f'\\nVocê tem {idade} anos. Faltam {dif} anos para você se alistar!')\n",
        "elif idade == 18:\n",
        "  print(f'Você tem {idade} anos. Está na hora de se alistar!')\n",
        "else:\n",
        "  if abs(dif) == 1:\n",
        "    print(f'\\nVocê tem {idade} anos. Já passou {abs(dif)} ano da idade do seu alistamento!')\n",
        "  else:\n",
        "    print(f'\\nVocê tem {idade} anos. Já passaram {abs(dif)} anos da idade do seu alistamento!')\n"
      ]
    },
    {
      "cell_type": "markdown",
      "metadata": {
        "id": "dOfTSkfdOtYo"
      },
      "source": [
        "## Exercício Python 040: Crie um programa que leia duas notas de um aluno e calcule sua média, mostrando uma mensagem no final, de acordo com a média atingida:\n",
        "\n",
        "###– Média abaixo de 5.0: REPROVADO\n",
        "###– Média entre 5.0 e 6.9: RECUPERAÇÃO\n",
        "###– Média 7.0 ou superior: APROVADO"
      ]
    },
    {
      "cell_type": "code",
      "execution_count": null,
      "metadata": {
        "colab": {
          "base_uri": "https://localhost:8080/",
          "height": 390
        },
        "id": "xL69tN_7O0cA",
        "outputId": "fdac57b0-e431-4fd4-d5ac-31baa1c67cd7"
      },
      "outputs": [
        {
          "ename": "KeyboardInterrupt",
          "evalue": "Interrupted by user",
          "output_type": "error",
          "traceback": [
            "\u001b[0;31m---------------------------------------------------------------------------\u001b[0m",
            "\u001b[0;31mKeyboardInterrupt\u001b[0m                         Traceback (most recent call last)",
            "\u001b[0;32m<ipython-input-53-d000c5c62654>\u001b[0m in \u001b[0;36m<cell line: 1>\u001b[0;34m()\u001b[0m\n\u001b[0;32m----> 1\u001b[0;31m \u001b[0mnota1\u001b[0m \u001b[0;34m=\u001b[0m \u001b[0mfloat\u001b[0m\u001b[0;34m(\u001b[0m\u001b[0minput\u001b[0m\u001b[0;34m(\u001b[0m\u001b[0;34m'Digite a primeira nota do(a) aluno(a): '\u001b[0m\u001b[0;34m)\u001b[0m\u001b[0;34m)\u001b[0m\u001b[0;34m\u001b[0m\u001b[0;34m\u001b[0m\u001b[0m\n\u001b[0m\u001b[1;32m      2\u001b[0m \u001b[0mnota2\u001b[0m \u001b[0;34m=\u001b[0m \u001b[0mfloat\u001b[0m\u001b[0;34m(\u001b[0m\u001b[0minput\u001b[0m\u001b[0;34m(\u001b[0m\u001b[0;34m'Digite a segunda nota do(a) aluno(a): '\u001b[0m\u001b[0;34m)\u001b[0m\u001b[0;34m)\u001b[0m\u001b[0;34m\u001b[0m\u001b[0;34m\u001b[0m\u001b[0m\n\u001b[1;32m      3\u001b[0m \u001b[0;34m\u001b[0m\u001b[0m\n\u001b[1;32m      4\u001b[0m \u001b[0mmedia\u001b[0m \u001b[0;34m=\u001b[0m \u001b[0;34m(\u001b[0m\u001b[0mnota1\u001b[0m \u001b[0;34m+\u001b[0m \u001b[0mnota2\u001b[0m\u001b[0;34m)\u001b[0m\u001b[0;34m/\u001b[0m\u001b[0;36m2\u001b[0m\u001b[0;34m\u001b[0m\u001b[0;34m\u001b[0m\u001b[0m\n\u001b[1;32m      5\u001b[0m \u001b[0;34m\u001b[0m\u001b[0m\n",
            "\u001b[0;32m/usr/local/lib/python3.10/dist-packages/ipykernel/kernelbase.py\u001b[0m in \u001b[0;36mraw_input\u001b[0;34m(self, prompt)\u001b[0m\n\u001b[1;32m    849\u001b[0m                 \u001b[0;34m\"raw_input was called, but this frontend does not support input requests.\"\u001b[0m\u001b[0;34m\u001b[0m\u001b[0;34m\u001b[0m\u001b[0m\n\u001b[1;32m    850\u001b[0m             )\n\u001b[0;32m--> 851\u001b[0;31m         return self._input_request(str(prompt),\n\u001b[0m\u001b[1;32m    852\u001b[0m             \u001b[0mself\u001b[0m\u001b[0;34m.\u001b[0m\u001b[0m_parent_ident\u001b[0m\u001b[0;34m,\u001b[0m\u001b[0;34m\u001b[0m\u001b[0;34m\u001b[0m\u001b[0m\n\u001b[1;32m    853\u001b[0m             \u001b[0mself\u001b[0m\u001b[0;34m.\u001b[0m\u001b[0m_parent_header\u001b[0m\u001b[0;34m,\u001b[0m\u001b[0;34m\u001b[0m\u001b[0;34m\u001b[0m\u001b[0m\n",
            "\u001b[0;32m/usr/local/lib/python3.10/dist-packages/ipykernel/kernelbase.py\u001b[0m in \u001b[0;36m_input_request\u001b[0;34m(self, prompt, ident, parent, password)\u001b[0m\n\u001b[1;32m    893\u001b[0m             \u001b[0;32mexcept\u001b[0m \u001b[0mKeyboardInterrupt\u001b[0m\u001b[0;34m:\u001b[0m\u001b[0;34m\u001b[0m\u001b[0;34m\u001b[0m\u001b[0m\n\u001b[1;32m    894\u001b[0m                 \u001b[0;31m# re-raise KeyboardInterrupt, to truncate traceback\u001b[0m\u001b[0;34m\u001b[0m\u001b[0;34m\u001b[0m\u001b[0m\n\u001b[0;32m--> 895\u001b[0;31m                 \u001b[0;32mraise\u001b[0m \u001b[0mKeyboardInterrupt\u001b[0m\u001b[0;34m(\u001b[0m\u001b[0;34m\"Interrupted by user\"\u001b[0m\u001b[0;34m)\u001b[0m \u001b[0;32mfrom\u001b[0m \u001b[0;32mNone\u001b[0m\u001b[0;34m\u001b[0m\u001b[0;34m\u001b[0m\u001b[0m\n\u001b[0m\u001b[1;32m    896\u001b[0m             \u001b[0;32mexcept\u001b[0m \u001b[0mException\u001b[0m \u001b[0;32mas\u001b[0m \u001b[0me\u001b[0m\u001b[0;34m:\u001b[0m\u001b[0;34m\u001b[0m\u001b[0;34m\u001b[0m\u001b[0m\n\u001b[1;32m    897\u001b[0m                 \u001b[0mself\u001b[0m\u001b[0;34m.\u001b[0m\u001b[0mlog\u001b[0m\u001b[0;34m.\u001b[0m\u001b[0mwarning\u001b[0m\u001b[0;34m(\u001b[0m\u001b[0;34m\"Invalid Message:\"\u001b[0m\u001b[0;34m,\u001b[0m \u001b[0mexc_info\u001b[0m\u001b[0;34m=\u001b[0m\u001b[0;32mTrue\u001b[0m\u001b[0;34m)\u001b[0m\u001b[0;34m\u001b[0m\u001b[0;34m\u001b[0m\u001b[0m\n",
            "\u001b[0;31mKeyboardInterrupt\u001b[0m: Interrupted by user"
          ]
        }
      ],
      "source": [
        "nota1 = float(input('Digite a primeira nota do(a) aluno(a): '))\n",
        "nota2 = float(input('Digite a segunda nota do(a) aluno(a): '))\n",
        "\n",
        "media = (nota1 + nota2)/2\n",
        "\n",
        "if media >= 7:\n",
        "  print(f'A média do(a) aluno(a) foi {media} e ele(a) está APROVADO(A)!')\n",
        "elif media >= 5 and media < 7:\n",
        "  print(f'A média do(a) aluno(a) foi {media} e ele(a) está de RECUPERAÇÃO!')\n",
        "else:\n",
        "  print(f'A média do(a) aluno(a) foi {media} e ele(a) está REPROVADO(A)!')"
      ]
    },
    {
      "cell_type": "markdown",
      "metadata": {
        "id": "LqEHfCmVO09i"
      },
      "source": [
        "##Exercício Python 041: A Confederação Nacional de Natação precisa de um programa que leia o ano de nascimento de um atleta e mostre sua categoria, de acordo com a idade:\n",
        "\n",
        "###– Até 9 anos: MIRIM\n",
        "###– Até 14 anos: INFANTIL\n",
        "###– Até 19 anos: JÚNIOR\n",
        "###– Até 25 anos: SÊNIOR\n",
        "###– Acima de 25 anos: MASTER"
      ]
    },
    {
      "cell_type": "code",
      "execution_count": null,
      "metadata": {
        "colab": {
          "base_uri": "https://localhost:8080/"
        },
        "id": "tS6gF_aJO_HA",
        "outputId": "21c358fb-ef36-4203-cbeb-0dbb3b26d8d4"
      },
      "outputs": [
        {
          "name": "stdout",
          "output_type": "stream",
          "text": [
            "Digite a idade do(a) atleta: 56\n",
            "CATEGORIA: MASTER\n"
          ]
        }
      ],
      "source": [
        "idade = int(input('Digite a idade do(a) atleta: '))\n",
        "\n",
        "if idade <= 9:\n",
        "  print('CATEGORIA: MIRIM')\n",
        "elif idade <= 14:\n",
        "  print('CATEGORIA: INFANTIL')\n",
        "elif idade <= 19:\n",
        "  print('CATEGORIA: JÚNIOR')\n",
        "elif idade <= 25:\n",
        "  print('CATEGORIA: SÊNIOR')\n",
        "else:\n",
        "  print('CATEGORIA: MASTER')"
      ]
    },
    {
      "cell_type": "markdown",
      "metadata": {
        "id": "gXyKzMxTPCYG"
      },
      "source": [
        "## Exercício Python 42: Refaça o DESAFIO 35 dos triângulos, acrescentando o recurso de mostrar que tipo de triângulo será formado:\n",
        "\n",
        "### – EQUILÁTERO: todos os lados iguais\n",
        "### – ISÓSCELES: dois lados iguais, um diferente\n",
        "### – ESCALENO: todos os lados diferentes"
      ]
    },
    {
      "cell_type": "code",
      "execution_count": null,
      "metadata": {
        "colab": {
          "base_uri": "https://localhost:8080/"
        },
        "id": "NKTIHzREPGlq",
        "outputId": "b03cfa2c-0ddb-492d-c247-54af5e1304d2"
      },
      "outputs": [
        {
          "name": "stdout",
          "output_type": "stream",
          "text": [
            "Digite o comprimento da primeira reta: 6\n",
            "Digite o comprimento da segunda reta: 7\n",
            "Digite o comprimento da terceira reta: 8\n",
            "É possivel formar um triângulo com esses segmentos de reta!\n",
            "Esses comprimentos de reta formam um triângulo escaleno!\n"
          ]
        }
      ],
      "source": [
        "r1 = float(input('Digite o comprimento da primeira reta: '))\n",
        "r2 = float(input('Digite o comprimento da segunda reta: '))\n",
        "r3 = float(input('Digite o comprimento da terceira reta: '))\n",
        "\n",
        "if (r1 <(r2 + r3)) and (r2 < (r1 + r3)) and (r3 < (r1 + r2)): # testando se as três retas podem formar um triângulo\n",
        "  print('É possivel formar um triângulo com esses segmentos de reta!')\n",
        "  if r1 == r2 and r1 == r3: # verificando o tipo de triângulo de acordo com seus lados\n",
        "    print('Esses comprimentos de reta formam um triângulo equilátero!')\n",
        "  elif r1 == r2 and r1 != r3:\n",
        "    print('Esses comprimentos de reta formam um triângulo isósceles!')\n",
        "  else:\n",
        "    print('Esses comprimentos de reta formam um triângulo escaleno!')\n",
        "else:\n",
        "  print('NÃO é possivel formar um triângulo com esses segmentos de reta!')"
      ]
    },
    {
      "cell_type": "markdown",
      "metadata": {
        "id": "78IXXWcIPLKG"
      },
      "source": [
        "## Exercício Python 43: Desenvolva uma lógica que leia o peso e a altura de uma pessoa, calcule seu Índice de Massa Corporal (IMC) e mostre seu status, de acordo com a tabela abaixo:\n",
        "\n",
        "### – IMC abaixo de 18,5: Abaixo do Peso\n",
        "### – Entre 18,5 e 25: Peso Ideal\n",
        "### – 25 até 30: Sobrepeso\n",
        "### – 30 até 40: Obesidade\n",
        "### – Acima de 40: Obesidade Mórbida"
      ]
    },
    {
      "cell_type": "code",
      "execution_count": null,
      "metadata": {
        "colab": {
          "base_uri": "https://localhost:8080/"
        },
        "id": "UrlF18nRPPtB",
        "outputId": "4139d923-5986-49e7-8999-83b36e8cabf2"
      },
      "outputs": [
        {
          "name": "stdout",
          "output_type": "stream",
          "text": [
            "Digite o peso da pessoa (em kilos): 56.65\n",
            "Digite a altura da pessoa (em metros): 1.75\n",
            "IMC 18.50: abaixo do peso\n"
          ]
        }
      ],
      "source": [
        "from math import pow\n",
        "\n",
        "peso = float(input('Digite o peso da pessoa (em kilos): '))\n",
        "altura = float(input('Digite a altura da pessoa (em metros): '))\n",
        "\n",
        "imc = peso/(pow(altura, 2))\n",
        "\n",
        "if imc < 18.5: # utilizando o arredondamento {imc:.2f} o resultado diverge do resultado correto, pois ele arrendonda números próximos a 18.5 como 18.50 e acaba considerando 18.50 como abaixo do peso\n",
        "  print(f'IMC {imc}: abaixo do peso')\n",
        "elif imc <= 25:\n",
        "  print(f'IMC {imc}: peso ideal')\n",
        "elif imc <= 30:\n",
        "  print(f'IMC {imc}: sobrepeso')\n",
        "elif imc <= 40:\n",
        "  print(f'IMC {imc}: obesidade')\n",
        "else:\n",
        "  print(f'IMC {imc}: obesidade mórbida')"
      ]
    },
    {
      "cell_type": "markdown",
      "metadata": {
        "id": "wu0Fy83-PTAe"
      },
      "source": [
        "## Exercício Python 44: Elabore um programa que calcule o valor a ser pago por um produto, considerando o seu preço normal e condição de pagamento:\n",
        "\n",
        "### – à vista dinheiro/cheque: 10% de desconto\n",
        "### – à vista no cartão: 5% de desconto\n",
        "### – em até 2x no cartão: preço formal\n",
        "### – 3x ou mais no cartão: 20% de juros"
      ]
    },
    {
      "cell_type": "code",
      "execution_count": null,
      "metadata": {
        "colab": {
          "base_uri": "https://localhost:8080/"
        },
        "id": "4sLZcfYYPibv",
        "outputId": "3f2dc15d-9348-4664-c4c3-10ab94d97f06"
      },
      "outputs": [
        {
          "name": "stdout",
          "output_type": "stream",
          "text": [
            "Informe o valor do produto: 100\n",
            "Informe a condição de pagamento: \n",
            " [1] - À vista dinheiro ou pix (10% de desconto)\n",
            " [2] - À vista no cartão (5% de desconto)\n",
            " [3] - Até 2x s/ juros no cartão\n",
            " [4] - 3x ou mais no cartão (20% de juros)\n",
            " Opção desejada: 4\n",
            "**************************************************\n",
            "Opção escolhida: 4.\n",
            "3x ou mais no cartão (20% de juros): \n",
            "\n",
            "Valor final com juros de 20%: R$ 120.0.\n"
          ]
        }
      ],
      "source": [
        "preco = float(input('Informe o valor do produto: '))\n",
        "formaPagamento = int(input('Informe a condição de pagamento: '\n",
        "                            '\\n [1] - À vista dinheiro ou pix (10% de desconto)'\n",
        "                            '\\n [2] - À vista no cartão (5% de desconto)'\n",
        "                            '\\n [3] - Até 2x s/ juros no cartão'\n",
        "                            '\\n [4] - 3x ou mais no cartão (20% de juros)'\n",
        "                            '\\n Opção desejada: '))\n",
        "print('*'*50)\n",
        "\n",
        "if formaPagamento == 1:\n",
        "  print(f'Opção escolhida: {formaPagamento}.')\n",
        "  print('À vista dinheiro ou pix (10% de desconto): \\n')\n",
        "  print(f'Valor final com 10% de desconto: R$ {preco*0.9}.')\n",
        "elif formaPagamento == 2:\n",
        "  print(f'Opção escolhida: {formaPagamento}.')\n",
        "  print('À vista no cartão (5% de desconto): \\n')\n",
        "  print(f'Valor final com 5% de desconto: R$ {preco*0.95}.')\n",
        "elif formaPagamento == 3:\n",
        "  print(f'Opção escolhida: {formaPagamento}.')\n",
        "  print('Até 2x s/ juros no cartão: \\n')\n",
        "  print(f'Valor final: R$ {preco}.')\n",
        "elif formaPagamento == 4:\n",
        "  print(f'Opção escolhida: {formaPagamento}.')\n",
        "  print('3x ou mais no cartão (20% de juros): \\n')\n",
        "  print(f'Valor final com juros de 20%: R$ {preco*1.2}.')\n",
        "else:\n",
        "  print('Opção inválida! Tente novamente.')"
      ]
    },
    {
      "cell_type": "markdown",
      "metadata": {
        "id": "Eqd3HfZEPi5v"
      },
      "source": [
        "## Exercício Python 45: Crie um programa que faça o computador jogar \"Pedra, Papel e Tesoura\" com você"
      ]
    },
    {
      "cell_type": "code",
      "execution_count": null,
      "metadata": {
        "colab": {
          "base_uri": "https://localhost:8080/",
          "height": 390
        },
        "id": "uIcVPbLMPnJp",
        "outputId": "dd09608a-ca36-4c59-a82c-f19aee2cbc53"
      },
      "outputs": [
        {
          "ename": "KeyboardInterrupt",
          "evalue": "Interrupted by user",
          "output_type": "error",
          "traceback": [
            "\u001b[0;31m---------------------------------------------------------------------------\u001b[0m",
            "\u001b[0;31mKeyboardInterrupt\u001b[0m                         Traceback (most recent call last)",
            "\u001b[0;32m<ipython-input-33-e494824d1248>\u001b[0m in \u001b[0;36m<cell line: 3>\u001b[0;34m()\u001b[0m\n\u001b[1;32m      1\u001b[0m \u001b[0;32mfrom\u001b[0m \u001b[0mrandom\u001b[0m \u001b[0;32mimport\u001b[0m \u001b[0mchoice\u001b[0m\u001b[0;34m\u001b[0m\u001b[0;34m\u001b[0m\u001b[0m\n\u001b[1;32m      2\u001b[0m \u001b[0;34m\u001b[0m\u001b[0m\n\u001b[0;32m----> 3\u001b[0;31m \u001b[0mhumano\u001b[0m \u001b[0;34m=\u001b[0m \u001b[0minput\u001b[0m\u001b[0;34m(\u001b[0m\u001b[0;34m'Digite Pedra, Papel ou Tesoura: '\u001b[0m\u001b[0;34m)\u001b[0m\u001b[0;34m.\u001b[0m\u001b[0mstrip\u001b[0m\u001b[0;34m(\u001b[0m\u001b[0;34m)\u001b[0m\u001b[0;34m.\u001b[0m\u001b[0mupper\u001b[0m\u001b[0;34m(\u001b[0m\u001b[0;34m)\u001b[0m\u001b[0;34m\u001b[0m\u001b[0;34m\u001b[0m\u001b[0m\n\u001b[0m\u001b[1;32m      4\u001b[0m \u001b[0mcomputador\u001b[0m \u001b[0;34m=\u001b[0m \u001b[0;34m[\u001b[0m\u001b[0;34m'PEDRA'\u001b[0m\u001b[0;34m,\u001b[0m \u001b[0;34m'PAPEL'\u001b[0m\u001b[0;34m,\u001b[0m \u001b[0;34m'TESOURA'\u001b[0m\u001b[0;34m]\u001b[0m\u001b[0;34m\u001b[0m\u001b[0;34m\u001b[0m\u001b[0m\n\u001b[1;32m      5\u001b[0m \u001b[0mescolhaPC\u001b[0m \u001b[0;34m=\u001b[0m \u001b[0mchoice\u001b[0m\u001b[0;34m(\u001b[0m\u001b[0mcomputador\u001b[0m\u001b[0;34m)\u001b[0m\u001b[0;34m\u001b[0m\u001b[0;34m\u001b[0m\u001b[0m\n",
            "\u001b[0;32m/usr/local/lib/python3.10/dist-packages/ipykernel/kernelbase.py\u001b[0m in \u001b[0;36mraw_input\u001b[0;34m(self, prompt)\u001b[0m\n\u001b[1;32m    849\u001b[0m                 \u001b[0;34m\"raw_input was called, but this frontend does not support input requests.\"\u001b[0m\u001b[0;34m\u001b[0m\u001b[0;34m\u001b[0m\u001b[0m\n\u001b[1;32m    850\u001b[0m             )\n\u001b[0;32m--> 851\u001b[0;31m         return self._input_request(str(prompt),\n\u001b[0m\u001b[1;32m    852\u001b[0m             \u001b[0mself\u001b[0m\u001b[0;34m.\u001b[0m\u001b[0m_parent_ident\u001b[0m\u001b[0;34m,\u001b[0m\u001b[0;34m\u001b[0m\u001b[0;34m\u001b[0m\u001b[0m\n\u001b[1;32m    853\u001b[0m             \u001b[0mself\u001b[0m\u001b[0;34m.\u001b[0m\u001b[0m_parent_header\u001b[0m\u001b[0;34m,\u001b[0m\u001b[0;34m\u001b[0m\u001b[0;34m\u001b[0m\u001b[0m\n",
            "\u001b[0;32m/usr/local/lib/python3.10/dist-packages/ipykernel/kernelbase.py\u001b[0m in \u001b[0;36m_input_request\u001b[0;34m(self, prompt, ident, parent, password)\u001b[0m\n\u001b[1;32m    893\u001b[0m             \u001b[0;32mexcept\u001b[0m \u001b[0mKeyboardInterrupt\u001b[0m\u001b[0;34m:\u001b[0m\u001b[0;34m\u001b[0m\u001b[0;34m\u001b[0m\u001b[0m\n\u001b[1;32m    894\u001b[0m                 \u001b[0;31m# re-raise KeyboardInterrupt, to truncate traceback\u001b[0m\u001b[0;34m\u001b[0m\u001b[0;34m\u001b[0m\u001b[0m\n\u001b[0;32m--> 895\u001b[0;31m                 \u001b[0;32mraise\u001b[0m \u001b[0mKeyboardInterrupt\u001b[0m\u001b[0;34m(\u001b[0m\u001b[0;34m\"Interrupted by user\"\u001b[0m\u001b[0;34m)\u001b[0m \u001b[0;32mfrom\u001b[0m \u001b[0;32mNone\u001b[0m\u001b[0;34m\u001b[0m\u001b[0;34m\u001b[0m\u001b[0m\n\u001b[0m\u001b[1;32m    896\u001b[0m             \u001b[0;32mexcept\u001b[0m \u001b[0mException\u001b[0m \u001b[0;32mas\u001b[0m \u001b[0me\u001b[0m\u001b[0;34m:\u001b[0m\u001b[0;34m\u001b[0m\u001b[0;34m\u001b[0m\u001b[0m\n\u001b[1;32m    897\u001b[0m                 \u001b[0mself\u001b[0m\u001b[0;34m.\u001b[0m\u001b[0mlog\u001b[0m\u001b[0;34m.\u001b[0m\u001b[0mwarning\u001b[0m\u001b[0;34m(\u001b[0m\u001b[0;34m\"Invalid Message:\"\u001b[0m\u001b[0;34m,\u001b[0m \u001b[0mexc_info\u001b[0m\u001b[0;34m=\u001b[0m\u001b[0;32mTrue\u001b[0m\u001b[0;34m)\u001b[0m\u001b[0;34m\u001b[0m\u001b[0;34m\u001b[0m\u001b[0m\n",
            "\u001b[0;31mKeyboardInterrupt\u001b[0m: Interrupted by user"
          ]
        }
      ],
      "source": [
        "from random import choice\n",
        "\n",
        "humano = input('Digite Pedra, Papel ou Tesoura: ').strip().upper()\n",
        "computador = ['PEDRA', 'PAPEL', 'TESOURA']\n",
        "escolhaPC = choice(computador)\n",
        "\n",
        "if humano == 'PEDRA':\n",
        "  if escolhaPC == 'TESOURA':\n",
        "    print(f'Escolha humano: {humano}.')\n",
        "    print(f'Minha escolha: {escolhaPC}.')\n",
        "    print(f'VOCÊ VENCEU! PARABÉNS!')\n",
        "  elif escolhaPC == 'PAPEL':\n",
        "    print(f'Escolha humano: {humano}.')\n",
        "    print(f'Minha escolha: {escolhaPC}.')\n",
        "    print(f'MUAHAHAHA EU VENCI!')\n",
        "  else:\n",
        "    print(f'Escolha humano: {humano}.')\n",
        "    print(f'Minha escolha: {escolhaPC}.')\n",
        "    print(f'EMPATAMOS!')\n",
        "elif humano == 'TESOURA':\n",
        "  if escolhaPC == 'PAPEL':\n",
        "    print(f'Escolha humano: {humano}.')\n",
        "    print(f'Minha escolha: {escolhaPC}.')\n",
        "    print(f'VOCÊ VENCEU! PARABÉNS!')\n",
        "  elif escolhaPC == 'PEDRA':\n",
        "    print(f'Escolha humano: {humano}.')\n",
        "    print(f'Minha escolha: {escolhaPC}.')\n",
        "    print(f'MUAHAHAHA EU VENCI!')\n",
        "  else:\n",
        "    print(f'Escolha humano: {humano}.')\n",
        "    print(f'Minha escolha: {escolhaPC}.')\n",
        "    print(f'EMPATAMOS!')\n",
        "else:\n",
        "  if escolhaPC == 'PEDRA':\n",
        "    print(f'Escolha humano: {humano}.')\n",
        "    print(f'Minha escolha: {escolhaPC}.')\n",
        "    print(f'VOCÊ VENCEU! PARABÉNS!')\n",
        "  elif escolhaPC == 'TESOURA':\n",
        "    print(f'Escolha humano: {humano}.')\n",
        "    print(f'Minha escolha: {escolhaPC}.')\n",
        "    print(f'MUAHAHAHA EU VENCI!')\n",
        "  else:\n",
        "    print(f'Escolha humano: {humano}.')\n",
        "    print(f'Minha escolha: {escolhaPC}.')\n",
        "    print(f'EMPATAMOS!')"
      ]
    },
    {
      "cell_type": "markdown",
      "metadata": {
        "id": "mPwpHAuWPxW9"
      },
      "source": [
        "## Exercício Python 46: Faça um programa que mostre na tela uma contagem regressiva para o estouro de fogos de artifício, indo de 10 até 0, com uma pausa de 1 segundo entre eles."
      ]
    },
    {
      "cell_type": "code",
      "execution_count": null,
      "metadata": {
        "colab": {
          "base_uri": "https://localhost:8080/"
        },
        "id": "B6_eE0lCPyx4",
        "outputId": "61ce8f4d-f441-487a-fecc-f33fc85ccffb"
      },
      "outputs": [
        {
          "output_type": "stream",
          "name": "stdout",
          "text": [
            "10\n",
            "9\n",
            "8\n",
            "7\n",
            "6\n",
            "5\n",
            "4\n",
            "3\n",
            "2\n",
            "1\n",
            "0\n",
            "FELIZ ANO NOVO!\n"
          ]
        }
      ],
      "source": [
        "# aula 13\n",
        "import time\n",
        "\n",
        "for c in range(10, -1, -1):\n",
        "  print(c)\n",
        "  time.sleep(1)\n",
        "print('FELIZ ANO NOVO!')"
      ]
    },
    {
      "cell_type": "markdown",
      "metadata": {
        "id": "qucbBVEokHKs"
      },
      "source": [
        "## Exercício Python 47: Crie um programa que mostre na tela todos os números pares que estão no intervalo entre 1 e 50."
      ]
    },
    {
      "cell_type": "code",
      "execution_count": null,
      "metadata": {
        "colab": {
          "base_uri": "https://localhost:8080/"
        },
        "id": "gHd6Ux7skHiH",
        "outputId": "4b208d00-9819-4391-892d-168581f3feaa"
      },
      "outputs": [
        {
          "output_type": "stream",
          "name": "stdout",
          "text": [
            "2\n",
            "4\n",
            "6\n",
            "8\n",
            "10\n",
            "12\n",
            "14\n",
            "16\n",
            "18\n",
            "20\n",
            "22\n",
            "24\n",
            "26\n",
            "28\n",
            "30\n",
            "32\n",
            "34\n",
            "36\n",
            "38\n",
            "40\n",
            "42\n",
            "44\n",
            "46\n",
            "48\n",
            "50\n"
          ]
        }
      ],
      "source": [
        "for num in range(2, 51, 2):\n",
        "  print(num)"
      ]
    },
    {
      "cell_type": "markdown",
      "metadata": {
        "id": "7HsN9GtxkJPZ"
      },
      "source": [
        "## Exercício Python 48: Faça um programa que calcule a soma entre todos os números que são múltiplos de três e que se encontram no intervalo de 1 até 500."
      ]
    },
    {
      "cell_type": "code",
      "execution_count": null,
      "metadata": {
        "id": "bC6sysAWkNr5",
        "colab": {
          "base_uri": "https://localhost:8080/"
        },
        "outputId": "77deb634-38fe-42d2-ba0f-1ecb2940005d"
      },
      "outputs": [
        {
          "output_type": "stream",
          "name": "stdout",
          "text": [
            "41583\n"
          ]
        }
      ],
      "source": [
        "soma = 0\n",
        "for num in range(3, 500, 3):\n",
        "    # print(num) - apenas para verificar se estava exibindo os valores certos\n",
        "    soma = soma + num\n",
        "print(soma)"
      ]
    },
    {
      "cell_type": "markdown",
      "metadata": {
        "id": "flAyeodeU8qA"
      },
      "source": [
        "Exercício Python 48.1: Faça um programa que calcule a soma entre todos os números ímpares que são múltiplos de três e que se encontram no intervalo de 1 até 500."
      ]
    },
    {
      "cell_type": "code",
      "execution_count": null,
      "metadata": {
        "colab": {
          "base_uri": "https://localhost:8080/"
        },
        "outputId": "6c075563-86c4-4fa1-b48f-2cd23c7075f3",
        "id": "3Nt5yGf4U8qH"
      },
      "outputs": [
        {
          "output_type": "stream",
          "name": "stdout",
          "text": [
            "20667\n"
          ]
        }
      ],
      "source": [
        "soma = 0\n",
        "for num in range(1, 501, 2): # começa em 1 então basta pular de 2 em 2 para ser ímpar\n",
        "    if num % 3 == 0: # serve para chegar o número é múltiplo de 3, para isso basta dividí-lo por 3\n",
        "     # print(num) - apenas para mostrar se o código estava calculando os valores corretos\n",
        "      soma = soma + num\n",
        "print(soma)"
      ]
    },
    {
      "cell_type": "code",
      "execution_count": null,
      "metadata": {
        "id": "fEN1qffrkSe4"
      },
      "outputs": [],
      "source": []
    },
    {
      "cell_type": "markdown",
      "metadata": {
        "id": "coTzlZxakOUr"
      },
      "source": [
        "## Exercício Python 49: Refaça o DESAFIO 9, mostrando a tabuada de um número que o usuário escolher, só que agora utilizando um laço for."
      ]
    },
    {
      "cell_type": "code",
      "source": [
        "num = int(input('Digite um número para saber sua tabuada: '))\n",
        "\n",
        "for c in range(1, 11):\n",
        "  print(f'{num} x {c} = {num*c}')"
      ],
      "metadata": {
        "id": "REKXW1rxWUGy",
        "colab": {
          "base_uri": "https://localhost:8080/"
        },
        "outputId": "bf4e13e5-3ccc-497b-f98f-208daa42a4df"
      },
      "execution_count": null,
      "outputs": [
        {
          "output_type": "stream",
          "name": "stdout",
          "text": [
            "Digite um número para saber sua tabuada: 5\n",
            "5 x 1 = 5\n",
            "5 x 2 = 10\n",
            "5 x 3 = 15\n",
            "5 x 4 = 20\n",
            "5 x 5 = 25\n",
            "5 x 6 = 30\n",
            "5 x 7 = 35\n",
            "5 x 8 = 40\n",
            "5 x 9 = 45\n",
            "5 x 10 = 50\n"
          ]
        }
      ]
    },
    {
      "cell_type": "markdown",
      "metadata": {
        "id": "r28QVLpOkTFX"
      },
      "source": [
        "## Exercício Python 50: Desenvolva um programa que leia seis números inteiros e mostre a soma apenas daqueles que forem pares. Se o valor digitado for ímpar, desconsidere-o."
      ]
    },
    {
      "cell_type": "code",
      "execution_count": null,
      "metadata": {
        "id": "l_U6_FyWkXHx",
        "colab": {
          "base_uri": "https://localhost:8080/"
        },
        "outputId": "fbbad009-70f3-4538-cee8-7d67898681aa"
      },
      "outputs": [
        {
          "output_type": "stream",
          "name": "stdout",
          "text": [
            "Digite o 1º número: 13\n",
            "Digite o 2º número: 2\n",
            "Digite o 3º número: 45\n",
            "Digite o 4º número: 4536\n",
            "Digite o 5º número: 54\n",
            "Digite o 6º número: 5\n",
            "4592\n"
          ]
        }
      ],
      "source": [
        "soma = 0\n",
        "for c in range(1, 7): # começa em 1 então basta pular de 2 em 2 para ser ímpar\n",
        "      num = int(input(f'Digite o {c}º número: '))\n",
        "      if num % 2 == 0:\n",
        "        soma = soma + num\n",
        "print(soma)"
      ]
    },
    {
      "cell_type": "markdown",
      "metadata": {
        "id": "3KM6c_6jkXrf"
      },
      "source": [
        "## Exercício Python 51: Desenvolva um programa que leia o primeiro termo e a razão de uma PA. No final, mostre os 10 primeiros termos dessa progressão."
      ]
    },
    {
      "cell_type": "code",
      "execution_count": null,
      "metadata": {
        "id": "gzBoSpEKka9g"
      },
      "outputs": [],
      "source": [
        "pTermo = int(input('Digite o primeiro termo da P.A.: '))\n",
        "razao = int(input('Digite a razão da P.A.: '))\n",
        "\n",
        "soma = pTermo\n",
        "print(f'1º termo: {pTermo}')\n",
        "for c in range(2, 11): # nesse caso, sabemos a quantidade máxima de termos\n",
        "  soma = soma + razao\n",
        "  print(f'{c}º termo: {soma}')"
      ]
    },
    {
      "cell_type": "markdown",
      "source": [
        "Exercício Python 51.1: Desenvolva um programa que leia o primeiro termo e a razão de uma PA. No final, mostre quantos termos o usuário desejar:"
      ],
      "metadata": {
        "id": "t5rM9CbvCUD5"
      }
    },
    {
      "cell_type": "code",
      "source": [
        "pTermo = int(input('Digite o primeiro termo da P.A.: '))\n",
        "razao = int(input('Digite a razão da P.A.: '))\n",
        "qtdTermos = int(input('Digite a quantidade de termos da P.A.: '))\n",
        "\n",
        "soma = pTermo\n",
        "print(f'1º termo: {pTermo}')\n",
        "for c in range(2, qtdTermos + 1):\n",
        "  soma = soma + razao\n",
        "  print(f'{c}º termo: {soma}')"
      ],
      "metadata": {
        "id": "ElHZtr0sCk71"
      },
      "execution_count": null,
      "outputs": []
    },
    {
      "cell_type": "markdown",
      "metadata": {
        "id": "H-KJMUB1kb66"
      },
      "source": [
        "## Exercício Python 52: Faça um programa que leia um número inteiro e mostre, de acordo com seus divisores, se ele é primo ou não!"
      ]
    },
    {
      "cell_type": "code",
      "execution_count": null,
      "metadata": {
        "id": "6tdToq_XkhwP",
        "colab": {
          "base_uri": "https://localhost:8080/"
        },
        "outputId": "9f06efd2-3dd3-40ff-e09f-1916bc2c4196"
      },
      "outputs": [
        {
          "output_type": "stream",
          "name": "stdout",
          "text": [
            "Digite um número: 12\n",
            "\u001b[33m1 \u001b[33m2 \u001b[33m3 \u001b[33m4 \u001b[31m5 \u001b[33m6 \u001b[31m7 \u001b[31m8 \u001b[31m9 \u001b[31m10 \u001b[31m11 \u001b[33m12 "
          ]
        }
      ],
      "source": [
        "num = int(input('Digite um número: '))\n",
        "for n in range(1, num+1):\n",
        "  if num % n == 0:\n",
        "    print(f'\\33[33m', end='') # printará de amarelo se o número for divisor de núm\n",
        "  else:\n",
        "    print(f'\\33[31m', end='') # printará de amarelo se o número NÃO for divisor de núm\n",
        "  print(f'{n}', end=' ')"
      ]
    },
    {
      "cell_type": "markdown",
      "metadata": {
        "id": "6KyZ7XDgkiaw"
      },
      "source": [
        "## Exercício Python 53: Crie um programa que leia uma frase qualquer e diga se ela é um palíndromo, desconsiderando os espaços. Exemplos de palíndromos:\n",
        "\n",
        "#### APOS A SOPA, A SACADA DA CASA, A TORRE DA DERROTA, O LOBO AMA O BOLO, ANOTARAM A DATA DA MARATONA."
      ]
    },
    {
      "cell_type": "code",
      "execution_count": null,
      "metadata": {
        "id": "7uwOtPWSkoN4",
        "colab": {
          "base_uri": "https://localhost:8080/"
        },
        "outputId": "ed9ed81f-1497-4e47-b2e8-e0dd74d24e6b"
      },
      "outputs": [
        {
          "output_type": "stream",
          "name": "stdout",
          "text": [
            "Digite uma frase: APOS A SOPA\n",
            "Temos um palíndromo!\n"
          ]
        }
      ],
      "source": [
        "# resolução da vídeo-aula\n",
        "\n",
        "frase = input('Digite uma frase: ').strip().lower()\n",
        "palavras = frase.split() # separando a frase em um vetor/lista através do separado espaço (' ')\n",
        "junto = ''.join(palavras) # unindo todas as palavras em uma string só\n",
        "inverso = ''\n",
        "for letra in range((len(junto)-1), -1, -1): # para cada letra lida de trás para frente, a variável \"inverso\" receberá a 'letra\" lida\n",
        "  inverso += junto[letra]\n",
        "if inverso == junto:\n",
        "  print('Temos um palíndromo!')\n",
        "else:\n",
        "  print('A frase digitada não é um palíndromo!')"
      ]
    },
    {
      "cell_type": "code",
      "source": [
        "# minha resolução inicial\n",
        "\n",
        "frase = input('Digite uma frase: ').strip().lower()\n",
        "fraseSemEspaco = frase.replace(' ', '')\n",
        "print(fraseSemEspaco)\n",
        "fraseInvertida = frase[::-1].replace(' ','').strip()\n",
        "print(fraseInvertida)\n",
        "\n",
        "if fraseSemEspaco == fraseInvertida:\n",
        "  print('Temos um palíndromo!')\n",
        "else:\n",
        "  print('A frase digitada não é um palíndromo!')"
      ],
      "metadata": {
        "colab": {
          "base_uri": "https://localhost:8080/"
        },
        "id": "-UciU-N7jkuv",
        "outputId": "186b105a-78b5-4c5d-a255-ac8883a44f3b"
      },
      "execution_count": null,
      "outputs": [
        {
          "output_type": "stream",
          "name": "stdout",
          "text": [
            "Digite uma frase: O LOBO AMA O BOLO\n",
            "oloboamaobolo\n",
            "oloboamaobolo\n",
            "Temos um palíndromo!\n"
          ]
        }
      ]
    },
    {
      "cell_type": "code",
      "source": [
        "# resolução mais simples da video-aula\n",
        "\n",
        "frase = input('Digite uma frase: ').strip().lower()\n",
        "fraseSemEspaco = frase.replace(' ', '')\n",
        "fraseInvertida = fraseSemEspaco[::-1]\n",
        "\n",
        "if fraseSemEspaco == fraseInvertida:\n",
        "  print('Temos um palíndromo!')\n",
        "else:\n",
        "  print('A frase digitada não é um palíndromo!')"
      ],
      "metadata": {
        "colab": {
          "base_uri": "https://localhost:8080/"
        },
        "id": "GZsulCepkdxj",
        "outputId": "26a20532-9c74-4a36-b985-b231c29d8dbe"
      },
      "execution_count": null,
      "outputs": [
        {
          "output_type": "stream",
          "name": "stdout",
          "text": [
            "Digite uma frase: O LOBO AMA O BOLO\n",
            "Temos um palíndromo!\n"
          ]
        }
      ]
    },
    {
      "cell_type": "markdown",
      "metadata": {
        "id": "w-MSrmIWkryZ"
      },
      "source": [
        "## Exercício Python 54: Crie um programa que leia o ano de nascimento de sete pessoas. No final, mostre quantas pessoas ainda não atingiram a maioridade e quantas já são maiores (use a biblioteca datetime para comparar com a data atual)"
      ]
    },
    {
      "cell_type": "code",
      "execution_count": null,
      "metadata": {
        "id": "VutW3Dkrks2A",
        "colab": {
          "base_uri": "https://localhost:8080/",
          "height": 391
        },
        "outputId": "f43fbb7c-6485-459b-e407-e506bd8220f8"
      },
      "outputs": [
        {
          "output_type": "stream",
          "name": "stdout",
          "text": [
            "2024\n"
          ]
        },
        {
          "output_type": "error",
          "ename": "KeyboardInterrupt",
          "evalue": "Interrupted by user",
          "traceback": [
            "\u001b[0;31m---------------------------------------------------------------------------\u001b[0m",
            "\u001b[0;31mKeyboardInterrupt\u001b[0m                         Traceback (most recent call last)",
            "\u001b[0;32m<ipython-input-48-ded874003c18>\u001b[0m in \u001b[0;36m<cell line: 9>\u001b[0;34m()\u001b[0m\n\u001b[1;32m      8\u001b[0m \u001b[0;34m\u001b[0m\u001b[0m\n\u001b[1;32m      9\u001b[0m \u001b[0;32mfor\u001b[0m \u001b[0mi\u001b[0m \u001b[0;32min\u001b[0m \u001b[0mrange\u001b[0m\u001b[0;34m(\u001b[0m\u001b[0;36m1\u001b[0m\u001b[0;34m,\u001b[0m \u001b[0;36m8\u001b[0m\u001b[0;34m)\u001b[0m\u001b[0;34m:\u001b[0m\u001b[0;34m\u001b[0m\u001b[0;34m\u001b[0m\u001b[0m\n\u001b[0;32m---> 10\u001b[0;31m   \u001b[0manoNasc\u001b[0m \u001b[0;34m=\u001b[0m \u001b[0mint\u001b[0m\u001b[0;34m(\u001b[0m\u001b[0minput\u001b[0m\u001b[0;34m(\u001b[0m\u001b[0;34mf'Digite o ano de nascimento da {i}ª pessoa: '\u001b[0m\u001b[0;34m)\u001b[0m\u001b[0;34m)\u001b[0m\u001b[0;34m\u001b[0m\u001b[0;34m\u001b[0m\u001b[0m\n\u001b[0m\u001b[1;32m     11\u001b[0m  \u001b[0;31m# print(idade)\u001b[0m\u001b[0;34m\u001b[0m\u001b[0;34m\u001b[0m\u001b[0m\n\u001b[1;32m     12\u001b[0m   \u001b[0;32mif\u001b[0m \u001b[0;34m(\u001b[0m\u001b[0manoAtual\u001b[0m \u001b[0;34m-\u001b[0m \u001b[0manoNasc\u001b[0m\u001b[0;34m)\u001b[0m \u001b[0;34m>=\u001b[0m \u001b[0;36m21\u001b[0m\u001b[0;34m:\u001b[0m\u001b[0;34m\u001b[0m\u001b[0;34m\u001b[0m\u001b[0m\n",
            "\u001b[0;32m/usr/local/lib/python3.10/dist-packages/ipykernel/kernelbase.py\u001b[0m in \u001b[0;36mraw_input\u001b[0;34m(self, prompt)\u001b[0m\n\u001b[1;32m    849\u001b[0m                 \u001b[0;34m\"raw_input was called, but this frontend does not support input requests.\"\u001b[0m\u001b[0;34m\u001b[0m\u001b[0;34m\u001b[0m\u001b[0m\n\u001b[1;32m    850\u001b[0m             )\n\u001b[0;32m--> 851\u001b[0;31m         return self._input_request(str(prompt),\n\u001b[0m\u001b[1;32m    852\u001b[0m             \u001b[0mself\u001b[0m\u001b[0;34m.\u001b[0m\u001b[0m_parent_ident\u001b[0m\u001b[0;34m,\u001b[0m\u001b[0;34m\u001b[0m\u001b[0;34m\u001b[0m\u001b[0m\n\u001b[1;32m    853\u001b[0m             \u001b[0mself\u001b[0m\u001b[0;34m.\u001b[0m\u001b[0m_parent_header\u001b[0m\u001b[0;34m,\u001b[0m\u001b[0;34m\u001b[0m\u001b[0;34m\u001b[0m\u001b[0m\n",
            "\u001b[0;32m/usr/local/lib/python3.10/dist-packages/ipykernel/kernelbase.py\u001b[0m in \u001b[0;36m_input_request\u001b[0;34m(self, prompt, ident, parent, password)\u001b[0m\n\u001b[1;32m    893\u001b[0m             \u001b[0;32mexcept\u001b[0m \u001b[0mKeyboardInterrupt\u001b[0m\u001b[0;34m:\u001b[0m\u001b[0;34m\u001b[0m\u001b[0;34m\u001b[0m\u001b[0m\n\u001b[1;32m    894\u001b[0m                 \u001b[0;31m# re-raise KeyboardInterrupt, to truncate traceback\u001b[0m\u001b[0;34m\u001b[0m\u001b[0;34m\u001b[0m\u001b[0m\n\u001b[0;32m--> 895\u001b[0;31m                 \u001b[0;32mraise\u001b[0m \u001b[0mKeyboardInterrupt\u001b[0m\u001b[0;34m(\u001b[0m\u001b[0;34m\"Interrupted by user\"\u001b[0m\u001b[0;34m)\u001b[0m \u001b[0;32mfrom\u001b[0m \u001b[0;32mNone\u001b[0m\u001b[0;34m\u001b[0m\u001b[0;34m\u001b[0m\u001b[0m\n\u001b[0m\u001b[1;32m    896\u001b[0m             \u001b[0;32mexcept\u001b[0m \u001b[0mException\u001b[0m \u001b[0;32mas\u001b[0m \u001b[0me\u001b[0m\u001b[0;34m:\u001b[0m\u001b[0;34m\u001b[0m\u001b[0;34m\u001b[0m\u001b[0m\n\u001b[1;32m    897\u001b[0m                 \u001b[0mself\u001b[0m\u001b[0;34m.\u001b[0m\u001b[0mlog\u001b[0m\u001b[0;34m.\u001b[0m\u001b[0mwarning\u001b[0m\u001b[0;34m(\u001b[0m\u001b[0;34m\"Invalid Message:\"\u001b[0m\u001b[0;34m,\u001b[0m \u001b[0mexc_info\u001b[0m\u001b[0;34m=\u001b[0m\u001b[0;32mTrue\u001b[0m\u001b[0;34m)\u001b[0m\u001b[0;34m\u001b[0m\u001b[0;34m\u001b[0m\u001b[0m\n",
            "\u001b[0;31mKeyboardInterrupt\u001b[0m: Interrupted by user"
          ]
        }
      ],
      "source": [
        "from datetime import date\n",
        "\n",
        "anoAtual = date.today().year\n",
        "print(anoAtual)\n",
        "\n",
        "qtdMaiorIdade = 0\n",
        "qtdMenorIdade = 0\n",
        "\n",
        "for i in range(1, 8):\n",
        "  anoNasc = int(input(f'Digite o ano de nascimento da {i}ª pessoa: '))\n",
        " # print(idade)\n",
        "  if (anoAtual - anoNasc) >= 18:\n",
        "    qtdMaiorIdade += 1\n",
        "  else:\n",
        "    qtdMenorIdade += 1\n",
        "print(f'A quantidade de pessoas maiores de idade é: {qtdMaiorIdade}.')\n",
        "print(f'A quantidade de pessoas menores de idade é: {qtdMenorIdade}.')"
      ]
    },
    {
      "cell_type": "markdown",
      "metadata": {
        "id": "0q0ds1ghkwaS"
      },
      "source": [
        "## Exercício Python 55: Faça um programa que leia o peso de cinco pessoas. No final, mostre qual foi o maior e o menor peso lidos."
      ]
    },
    {
      "cell_type": "code",
      "execution_count": null,
      "metadata": {
        "id": "rYUkiJJUkxMA",
        "colab": {
          "base_uri": "https://localhost:8080/"
        },
        "outputId": "05d67b2e-5974-403f-ef0f-0a75bfcb7a38"
      },
      "outputs": [
        {
          "output_type": "stream",
          "name": "stdout",
          "text": [
            "Digite o peso (em kg) da 1ª pessoa: 90\n",
            "Digite o peso (em kg) da 2ª pessoa: 120\n",
            "Digite o peso (em kg) da 3ª pessoa: 45\n",
            "Digite o peso (em kg) da 4ª pessoa: 69\n",
            "Digite o peso (em kg) da 5ª pessoa: 75\n",
            "O menor peso é: 45.0 kg. \n",
            "O maior peso é: 120.0 kg.\n"
          ]
        }
      ],
      "source": [
        "pMaior = 0\n",
        "pMenor = 0\n",
        "\n",
        "for p in range(1,6):\n",
        "  peso = float(input(f'Digite o peso (em kg) da {p}ª pessoa: '))\n",
        "  if p == 1:\n",
        "    pMaior = peso  # como é a primeira iteração/ocorrência/laço tanto peso maior e peso menor terão o mesmo valor\n",
        "    pMenor = peso  # como é a primeira iteração tanto peso maior e peso menor terão o mesmo valor\n",
        "  else:\n",
        "    if peso >= pMaior:\n",
        "      pMaior = peso\n",
        "    elif peso < pMenor: # aqui tanto faz ser um \"if\" ou \"elif\"\n",
        "      pMenor = peso\n",
        "\n",
        "print(f'O menor peso é: {pMenor} kg. ')\n",
        "print(f'O maior peso é: {pMaior} kg.')"
      ]
    },
    {
      "cell_type": "markdown",
      "metadata": {
        "id": "Q4dLRI2KkxrS"
      },
      "source": [
        "## Exercício Python 56: Desenvolva um programa que leia o nome, idade e sexo de 4 pessoas. No final do programa, mostre: a média de idade do grupo, qual é o nome do homem mais velho e quantas mulheres têm menos de 20 anos."
      ]
    },
    {
      "cell_type": "code",
      "execution_count": null,
      "metadata": {
        "id": "8oE5twm5kzrQ",
        "colab": {
          "base_uri": "https://localhost:8080/"
        },
        "outputId": "627d8e92-88ce-4011-9b99-951ca22eb886"
      },
      "outputs": [
        {
          "output_type": "stream",
          "name": "stdout",
          "text": [
            "Digite o nome da 1ª pessoa: joao\n",
            "Digite a idade da 1ª pessoa: 34\n",
            "Digite o sexo (M ou F) da 1ª pessoa: m\n",
            "Digite o nome da 2ª pessoa: ana\n",
            "Digite a idade da 2ª pessoa: 20\n",
            "Digite o sexo (M ou F) da 2ª pessoa: f\n",
            "Digite o nome da 3ª pessoa: maria\n",
            "Digite a idade da 3ª pessoa: 21\n",
            "Digite o sexo (M ou F) da 3ª pessoa: f\n",
            "Digite o nome da 4ª pessoa: pedro\n",
            "Digite a idade da 4ª pessoa: 20\n",
            "Digite o sexo (M ou F) da 4ª pessoa: m\n",
            "****************************************\n",
            "\n",
            "A média de idade de todas as pessoas é: 23.75 anos.\n",
            "\n",
            "O nome do homem mais velho é: JOAO.\n",
            "\n",
            "A quantidade de mulheres com menos de 20 anos é: 0.\n"
          ]
        }
      ],
      "source": [
        "somaIdade = 0\n",
        "maisVelho = 0\n",
        "nomeMaisVelho = ''\n",
        "qtdMenosVinte = 0\n",
        "media = 0\n",
        "\n",
        "for pessoas in range(1, 5):\n",
        "  nome = input(f'Digite o nome da {pessoas}ª pessoa: ').strip().upper()\n",
        "  idade = int(input(f'Digite a idade da {pessoas}ª pessoa: '))\n",
        "  sexo = input(f'Digite o sexo (M ou F) da {pessoas}ª pessoa: ').strip().upper()\n",
        "\n",
        "  # calculando a média de idade de todas as pessoas\n",
        "  somaIdade += idade\n",
        "  media = somaIdade / 4\n",
        "\n",
        "  # definindo o homem mais velho\n",
        "  if sexo == 'M':\n",
        "    if pessoas == 0:\n",
        "      maisVelho = idade\n",
        "      nomeMaisVelho = nome\n",
        "    else:\n",
        "      if idade >= maisVelho:\n",
        "        maisVelho = idade\n",
        "        nomeMaisVelho = nome\n",
        "\n",
        "  # definindo quantas mulheres têm menos de 20 anos\n",
        "  if sexo == 'F':\n",
        "    if idade < 20:\n",
        "      qtdMenosVinte += 1\n",
        "\n",
        "print('*'*40)\n",
        "print(f'\\nA média de idade de todas as pessoas é: {media} anos.')\n",
        "print(f'\\nO nome do homem mais velho é: {nomeMaisVelho}.')\n",
        "print(f'\\nA quantidade de mulheres com menos de 20 anos é: {qtdMenosVinte}.')\n"
      ]
    },
    {
      "cell_type": "markdown",
      "metadata": {
        "id": "mmOwK9IDk0TE"
      },
      "source": [
        "## Exercício Python 57: Faça um programa que leia o sexo de uma pessoa, mas só aceite os valores ‘M’ ou ‘F’. Caso esteja errado, peça a digitação novamente até ter um valor correto."
      ]
    },
    {
      "cell_type": "code",
      "execution_count": null,
      "metadata": {
        "id": "cQG58Ab2pUMa",
        "colab": {
          "base_uri": "https://localhost:8080/"
        },
        "outputId": "836e465e-bd54-45d1-a7b1-f14f2e93f262"
      },
      "outputs": [
        {
          "output_type": "stream",
          "name": "stdout",
          "text": [
            "Digite o sexo da pessoa [M/F]:m\n",
            "Opção inválida! Responda M ou F. \n",
            "Digite o sexo da pessoa [M/F]: m\n",
            "Opção inválida! Responda M ou F. \n",
            "Digite o sexo da pessoa [M/F]: M\n",
            "Muito bem!\n"
          ]
        }
      ],
      "source": [
        "sexo1 = input('Digite o sexo da pessoa [M/F]:')\n",
        "while sexo1 not in 'MF':\n",
        "  sexo1 = input('Opção inválida! Responda M ou F. \\nDigite o sexo da pessoa [M/F]: ')\n",
        "print('Muito bem!')"
      ]
    },
    {
      "cell_type": "markdown",
      "metadata": {
        "id": "R25myKKqpVSp"
      },
      "source": [
        "## Exercício Python 58: Melhore o jogo do DESAFIO 28 onde o computador vai “pensar” em um número entre 0 e 10. Só que agora o jogador vai tentar adivinhar até acertar, mostrando no final quantos palpites foram necessários para vencer."
      ]
    },
    {
      "cell_type": "code",
      "execution_count": null,
      "metadata": {
        "id": "odRdR1UepYJR",
        "colab": {
          "base_uri": "https://localhost:8080/"
        },
        "outputId": "d9f57d67-abaf-473c-b9ea-b48bd708766c"
      },
      "outputs": [
        {
          "output_type": "stream",
          "name": "stdout",
          "text": [
            "Digite um número inteiro de 1 a 10: 1\n",
            "Digite um número inteiro de 1 a 10: 2\n",
            "Digite um número inteiro de 1 a 10: 3\n",
            "Digite um número inteiro de 1 a 10: 4\n",
            "\n",
            "PARABÉNS! Você adivinhou o número que eu estava pensando.\n",
            "Você levou 4 tentativas para acertar.\n"
          ]
        }
      ],
      "source": [
        "from random import randint\n",
        "\n",
        "contChances = 0\n",
        "escolhaPC = randint(1, 10)\n",
        "escolhaHumano = 0\n",
        "\n",
        "while escolhaPC != escolhaHumano:\n",
        "    print\n",
        "    escolhaHumano = int(input('Digite um número inteiro de 1 a 10: '))\n",
        "    contChances += 1\n",
        "\n",
        "print('\\nPARABÉNS! Você adivinhou o número que eu estava pensando.')\n",
        "print(f'Você levou {contChances} tentativas para acertar.')"
      ]
    },
    {
      "cell_type": "markdown",
      "metadata": {
        "id": "tm1X7zQZpbMO"
      },
      "source": [
        "## Exercício Python 059: Crie um programa que leia dois valores e mostre um menu na tela:\n",
        "\n",
        "###[ 1 ] somar\n",
        "###[ 2 ] multiplicar\n",
        "###[ 3 ] maior\n",
        "###[ 4 ] novos números\n",
        "###[ 5 ] sair do programa\n",
        "\n",
        "### Seu programa deverá realizar a operação solicitada em cada caso."
      ]
    },
    {
      "cell_type": "code",
      "execution_count": null,
      "metadata": {
        "id": "-Cf7wifQplJK",
        "colab": {
          "base_uri": "https://localhost:8080/"
        },
        "outputId": "c76ef474-6d42-4e52-9da9-ddd011889c78"
      },
      "outputs": [
        {
          "output_type": "stream",
          "name": "stdout",
          "text": [
            "Digite o primeiro valor: 1\n",
            "Digite o segundo valor: 2\n",
            "Digite a opção para realizar a operação:\n",
            "[1] - somar\n",
            "[2] - multiplicar\n",
            "[3] - maior\n",
            "[4] - novos números\n",
            "[5] - sair do programa\n",
            "Opção desejada: 2\n",
            "A multiplicação entre 1.0 e 2.0 é igual a 2.0.\n",
            "Digite a opção para realizar a operação:\n",
            "[1] - somar\n",
            "[2] - multiplicar\n",
            "[3] - maior\n",
            "[4] - novos números\n",
            "[5] - sair do programa\n",
            "Opção desejada: 1\n",
            "A soma de 1.0 e 2.0 é igual a 3.0.\n",
            "Digite a opção para realizar a operação:\n",
            "[1] - somar\n",
            "[2] - multiplicar\n",
            "[3] - maior\n",
            "[4] - novos números\n",
            "[5] - sair do programa\n",
            "Opção desejada: 3\n",
            "O segundo valor 2.0 é maior que o primeiro valor 1.0.\n",
            "Digite a opção para realizar a operação:\n",
            "[1] - somar\n",
            "[2] - multiplicar\n",
            "[3] - maior\n",
            "[4] - novos números\n",
            "[5] - sair do programa\n",
            "Opção desejada: 4\n",
            "Digite o primeiro valor: 2\n",
            "Digite o segundo valor: 5\n",
            "Digite a opção para realizar a operação:\n",
            "[1] - somar\n",
            "[2] - multiplicar\n",
            "[3] - maior\n",
            "[4] - novos números\n",
            "[5] - sair do programa\n",
            "Opção desejada: 2\n",
            "A multiplicação entre 2.0 e 5.0 é igual a 10.0.\n",
            "Digite a opção para realizar a operação:\n",
            "[1] - somar\n",
            "[2] - multiplicar\n",
            "[3] - maior\n",
            "[4] - novos números\n",
            "[5] - sair do programa\n",
            "Opção desejada: 1\n",
            "A soma de 2.0 e 5.0 é igual a 7.0.\n",
            "Digite a opção para realizar a operação:\n",
            "[1] - somar\n",
            "[2] - multiplicar\n",
            "[3] - maior\n",
            "[4] - novos números\n",
            "[5] - sair do programa\n",
            "Opção desejada: 3\n",
            "O segundo valor 5.0 é maior que o primeiro valor 2.0.\n",
            "Digite a opção para realizar a operação:\n",
            "[1] - somar\n",
            "[2] - multiplicar\n",
            "[3] - maior\n",
            "[4] - novos números\n",
            "[5] - sair do programa\n",
            "Opção desejada: 4\n",
            "Digite o primeiro valor: 3\n",
            "Digite o segundo valor: 3\n",
            "Digite a opção para realizar a operação:\n",
            "[1] - somar\n",
            "[2] - multiplicar\n",
            "[3] - maior\n",
            "[4] - novos números\n",
            "[5] - sair do programa\n",
            "Opção desejada: 1\n",
            "A soma de 3.0 e 3.0 é igual a 6.0.\n",
            "Digite a opção para realizar a operação:\n",
            "[1] - somar\n",
            "[2] - multiplicar\n",
            "[3] - maior\n",
            "[4] - novos números\n",
            "[5] - sair do programa\n",
            "Opção desejada: 2\n",
            "A multiplicação entre 3.0 e 3.0 é igual a 9.0.\n",
            "Digite a opção para realizar a operação:\n",
            "[1] - somar\n",
            "[2] - multiplicar\n",
            "[3] - maior\n",
            "[4] - novos números\n",
            "[5] - sair do programa\n",
            "Opção desejada: 3\n",
            "O primeiro valor 3.0 é igual ao segundo valor 3.0.\n",
            "Digite a opção para realizar a operação:\n",
            "[1] - somar\n",
            "[2] - multiplicar\n",
            "[3] - maior\n",
            "[4] - novos números\n",
            "[5] - sair do programa\n",
            "Opção desejada: 4\n",
            "Digite o primeiro valor: 56\n",
            "Digite o segundo valor: 2\n",
            "Digite a opção para realizar a operação:\n",
            "[1] - somar\n",
            "[2] - multiplicar\n",
            "[3] - maior\n",
            "[4] - novos números\n",
            "[5] - sair do programa\n",
            "Opção desejada: 1\n",
            "A soma de 56.0 e 2.0 é igual a 58.0.\n",
            "Digite a opção para realizar a operação:\n",
            "[1] - somar\n",
            "[2] - multiplicar\n",
            "[3] - maior\n",
            "[4] - novos números\n",
            "[5] - sair do programa\n",
            "Opção desejada: 2\n",
            "A multiplicação entre 56.0 e 2.0 é igual a 112.0.\n",
            "Digite a opção para realizar a operação:\n",
            "[1] - somar\n",
            "[2] - multiplicar\n",
            "[3] - maior\n",
            "[4] - novos números\n",
            "[5] - sair do programa\n",
            "Opção desejada: 3\n",
            "O primeiro valor 56.0 é maior que o segundo valor 2.0.\n",
            "Digite a opção para realizar a operação:\n",
            "[1] - somar\n",
            "[2] - multiplicar\n",
            "[3] - maior\n",
            "[4] - novos números\n",
            "[5] - sair do programa\n",
            "Opção desejada: 5\n",
            "Programa finalizado! Até a próxima.\n"
          ]
        }
      ],
      "source": [
        "num1 = float(input('Digite o primeiro valor: '))\n",
        "num2 = float(input('Digite o segundo valor: '))\n",
        "opcao = 0\n",
        "\n",
        "while opcao != 5:\n",
        "    opcao = int(input('Digite a opção para realizar a operação:'\n",
        "                  '\\n[1] - somar'\n",
        "                  '\\n[2] - multiplicar'\n",
        "                  '\\n[3] - maior'\n",
        "                  '\\n[4] - novos números'\n",
        "                  '\\n[5] - sair do programa'\n",
        "                  '\\nOpção desejada: '))\n",
        "\n",
        "    if opcao == 1:\n",
        "        soma = num1 + num2\n",
        "        print(f'A soma de {num1} e {num2} é igual a {soma}.')\n",
        "    elif opcao == 2:\n",
        "        mult = num1 * num2\n",
        "        print(f'A multiplicação entre {num1} e {num2} é igual a {mult}.')\n",
        "    elif opcao == 3:\n",
        "        if num1 > num2:\n",
        "            maior = num1\n",
        "            print(f'O primeiro valor {num1} é maior que o segundo valor {num2}.')\n",
        "        elif num2 > num1:\n",
        "            maior = num2\n",
        "            print(f'O segundo valor {num2} é maior que o primeiro valor {num1}.')\n",
        "        else:\n",
        "            print(f'O primeiro valor {num1} é igual ao segundo valor {num2}.')\n",
        "    elif opcao == 4:\n",
        "        num1 = float(input('Digite o primeiro valor: '))\n",
        "        num2 = float(input('Digite o segundo valor: '))\n",
        "    else:\n",
        "        print('Programa finalizado! Até a próxima.')\n"
      ]
    },
    {
      "cell_type": "markdown",
      "metadata": {
        "id": "wPPegKwbpoCo"
      },
      "source": [
        "## Exercício Python 060: Faça um programa que leia um número qualquer e mostre o seu fatorial. Exemplo:\n",
        "\n",
        "### 5! = 5 x 4 x 3 x 2 x 1 = 120"
      ]
    },
    {
      "cell_type": "code",
      "execution_count": null,
      "metadata": {
        "id": "UHFBwzg-psGg",
        "colab": {
          "base_uri": "https://localhost:8080/"
        },
        "outputId": "0e481d5a-4f12-4802-9f90-151b6e581ec5"
      },
      "outputs": [
        {
          "output_type": "stream",
          "name": "stdout",
          "text": [
            "Digite um número inteiro para calcular o seu fatorial: 5\n",
            "Calculando 5! 5x4x3x2x1 = 120\n"
          ]
        }
      ],
      "source": [
        "# minha solução (nada elegante)\n",
        "\n",
        "num = int(input('Digite um número inteiro para calcular o seu fatorial: '))\n",
        "print(f'Calculando {num}! {num}x', end='')\n",
        "mult = 1\n",
        "\n",
        "while num != 1:\n",
        "    mult *= num # o acumulador deve ficar antes da subtração do contador\n",
        "    num -= 1\n",
        "    if num > 1:\n",
        "        print(f'{num}', end='x')\n",
        "print(1, f'= {mult}')\n"
      ]
    },
    {
      "cell_type": "code",
      "source": [
        "# solução do Guanabara\n",
        "\n",
        "n = int(input('Digite um número para calcular seu fatorial: '))\n",
        "cont = n\n",
        "result = 1\n",
        "while cont > 0:\n",
        "    print(f'{cont}', end='')\n",
        "    print(' x ' if cont > 1 else f' = {result}', end='') # ele usa o format, mas eu não gosto kkkkk\n",
        "    result *= cont # o acumulador deve ficar antes da subtração do contador\n",
        "    cont -= 1"
      ],
      "metadata": {
        "colab": {
          "base_uri": "https://localhost:8080/"
        },
        "id": "aMnWiZ-1wPPT",
        "outputId": "b666ef4b-9e4b-4a7e-b14a-e5a2f6b2c356"
      },
      "execution_count": null,
      "outputs": [
        {
          "output_type": "stream",
          "name": "stdout",
          "text": [
            "Digite um número para calcular seu fatorial: 5\n",
            "5 x 4 x 3 x 2 x 1 = 120"
          ]
        }
      ]
    },
    {
      "cell_type": "markdown",
      "metadata": {
        "id": "ING4BlkBpsuc"
      },
      "source": [
        "## Exercício Python 61: Refaça o DESAFIO 51, lendo o primeiro termo e a razão de uma PA, mostrando os 10 primeiros termos da progressão usando a estrutura while."
      ]
    },
    {
      "cell_type": "code",
      "execution_count": null,
      "metadata": {
        "id": "Ge0S635spxLn",
        "colab": {
          "base_uri": "https://localhost:8080/"
        },
        "outputId": "9b13494f-dc3a-4e6d-d350-4f9fe2f9eca1"
      },
      "outputs": [
        {
          "output_type": "stream",
          "name": "stdout",
          "text": [
            "Digite o primeiro termo da P.A.: 3\n",
            "Digite a razão da P.A.: 3\n",
            "1º termo: 3\n",
            "2º termo: 6\n",
            "3º termo: 9\n",
            "4º termo: 12\n",
            "5º termo: 15\n",
            "6º termo: 18\n",
            "7º termo: 21\n",
            "8º termo: 24\n",
            "9º termo: 27\n",
            "10º termo: 30\n"
          ]
        }
      ],
      "source": [
        "pTermo = int(input('Digite o primeiro termo da P.A.: '))\n",
        "razao = int(input('Digite a razão da P.A.: '))\n",
        "soma = pTermo\n",
        "c = 1\n",
        "print(f'1º termo: {pTermo}')\n",
        "while c < 10: # esse laço será executado apenas 9 vezes, pois queremos 10 termos e já temos 1, o primeiro termo\n",
        "  soma += razao\n",
        "  print(f'{c + 1}º termo: {soma}') # {c + 1}, pois eu já tenho o primeiro termo definido\n",
        "  c += 1"
      ]
    },
    {
      "cell_type": "markdown",
      "metadata": {
        "id": "qYII2zImp3EZ"
      },
      "source": [
        "## Exercício Python 62: Melhore o DESAFIO 61, perguntando para o usuário se ele quer mostrar mais alguns termos. O programa encerrará quando ele disser que quer mostrar 0 termos."
      ]
    },
    {
      "cell_type": "code",
      "execution_count": null,
      "metadata": {
        "id": "aQ6X7Bh7p6WH",
        "colab": {
          "base_uri": "https://localhost:8080/"
        },
        "outputId": "f76b86cb-a258-4c1e-c436-3e3d847df39d"
      },
      "outputs": [
        {
          "output_type": "stream",
          "name": "stdout",
          "text": [
            "Digite o primeiro termo da P.A.: 5\n",
            "Digite a razão da P.A.: 5\n",
            "1º termo: 5\n",
            "2º termo: 10\n",
            "3º termo: 15\n",
            "4º termo: 20\n",
            "5º termo: 25\n",
            "6º termo: 30\n",
            "7º termo: 35\n",
            "8º termo: 40\n",
            "9º termo: 45\n",
            "10º termo: 50\n",
            "Deseja mostrar mais quantos termos?\n",
            "Digite 0 para sair.\n",
            "Qtd. desejada: 5\n",
            "11º termo: 55\n",
            "12º termo: 60\n",
            "13º termo: 65\n",
            "14º termo: 70\n",
            "15º termo: 75\n"
          ]
        }
      ],
      "source": [
        "pTermo = int(input('Digite o primeiro termo da P.A.: '))\n",
        "razao = int(input('Digite a razão da P.A.: '))\n",
        "soma = pTermo\n",
        "qtd_termos = 10\n",
        "c = 1\n",
        "print(f'1º termo: {pTermo}')\n",
        "while c < qtd_termos: # esse laço será executado apenas 9 vezes, pois queremos 10 termos e já temos 1, o primeiro termo\n",
        "  soma += razao\n",
        "  print(f'{c + 1}º termo: {soma}') # {c + 1}, pois eu já tenho o primeiro termo definido\n",
        "  c += 1\n",
        "\n",
        "maisTermos = int(input('Deseja mostrar mais quantos termos?'\n",
        "                       '\\nDigite 0 para sair.'\n",
        "                       '\\nQtd. desejada: '))\n",
        "\n",
        "if maisTermos == 0:\n",
        "    print('Programa finalizado!')\n",
        "else:\n",
        "    while c < (qtd_termos + maisTermos): # esse laço será executado após a execução do primeiro while, levando em consideração o valor que já consta em \"c\" devido ao primeiro laço\n",
        "      soma += razao\n",
        "      print(f'{c + 1}º termo: {soma}')\n",
        "      c += 1"
      ]
    },
    {
      "cell_type": "markdown",
      "metadata": {
        "id": "nUQmQ-Mcp8YX"
      },
      "source": [
        "## Exercício Python 63: Escreva um programa que leia um número N inteiro qualquer e mostre na tela os N primeiros elementos de uma Sequência de Fibonacci. Exemplo:\n",
        "\n",
        "### 0 – 1 – 1 – 2 – 3 – 5 – 8"
      ]
    },
    {
      "cell_type": "code",
      "execution_count": null,
      "metadata": {
        "id": "cNtGpOj1p9SA",
        "colab": {
          "base_uri": "https://localhost:8080/"
        },
        "outputId": "5c9f8fb8-e6f7-44be-fce6-c9da83382e12"
      },
      "outputs": [
        {
          "output_type": "stream",
          "name": "stdout",
          "text": [
            "*** SEQUÊNCIA DE FIBONACCI ***\n",
            "Digite o números de termos da sequência de Fibonacci: 7\n",
            "0 1 1 2 3 5 8\n",
            "----- FIM -----\n"
          ]
        }
      ],
      "source": [
        "print('*** SEQUÊNCIA DE FIBONACCI ***')\n",
        "termos = int(input('Digite o números de termos da sequência de Fibonacci: '))\n",
        "cont = 3        # já mostrei os dois primeiros termos, portanto começa do terceiro\n",
        "t1 = 0\n",
        "t2 = 1\n",
        "prox = 0\n",
        "\n",
        "print(f'{t1} {t2}', end='')\n",
        "\n",
        "while cont <= termos:\n",
        "    t3 = t1 + t2\n",
        "    print(' {}'. format(t3), end='')\n",
        "    t1 = t2\n",
        "    t2 = t3\n",
        "    cont += 1\n",
        "print('\\n----- FIM -----')"
      ]
    },
    {
      "cell_type": "markdown",
      "metadata": {
        "id": "O1GK-vhHqBcH"
      },
      "source": [
        "## Exercício Python 64: Crie um programa que leia vários números inteiros pelo teclado. O programa só vai parar quando o usuário digitar o valor 999, que é a condição de parada. No final, mostre quantos números foram digitados e qual foi a soma entre eles (desconsiderando o flag)."
      ]
    },
    {
      "cell_type": "code",
      "execution_count": null,
      "metadata": {
        "id": "FHHtf1zQqCdn",
        "colab": {
          "base_uri": "https://localhost:8080/"
        },
        "outputId": "0edaade7-7a76-4142-c191-ef2d3a002219"
      },
      "outputs": [
        {
          "output_type": "stream",
          "name": "stdout",
          "text": [
            "Digite um número inteiro (digite 999 p/ finalizar o programa): 10\n",
            "Digite um número inteiro (digite 999 p/ finalizar o programa): 20\n",
            "Digite um número inteiro (digite 999 p/ finalizar o programa): 60\n",
            "Digite um número inteiro (digite 999 p/ finalizar o programa): 999\n",
            "A soma de todos os valores digitados é: 1089.\n"
          ]
        }
      ],
      "source": [
        "num = 0\n",
        "soma = 0\n",
        "\n",
        "while num != 999:\n",
        "    soma += num\n",
        "    num = int(input('Digite um número inteiro (digite 999 p/ finalizar o programa): '))\n",
        "\n",
        "print(f'A soma de todos os valores digitados é: {soma}.')"
      ]
    },
    {
      "cell_type": "markdown",
      "metadata": {
        "id": "7EOf6oPdqFvv"
      },
      "source": [
        "## Exercício Python 65: Crie um programa que leia vários números inteiros pelo teclado. No final da execução, mostre a média entre todos os valores e qual foi o maior e o menor valores lidos. O programa deve perguntar ao usuário se ele quer ou não continuar a digitar valores."
      ]
    },
    {
      "cell_type": "code",
      "execution_count": null,
      "metadata": {
        "id": "tYrpeLzWqHU3",
        "colab": {
          "base_uri": "https://localhost:8080/"
        },
        "outputId": "8c1cd096-12f1-48a4-d6eb-67ddbe2b0192"
      },
      "outputs": [
        {
          "output_type": "stream",
          "name": "stdout",
          "text": [
            "Digite um número inteiro: 5\n",
            "\n",
            "Deseja digitar mais números? [Sim/Não]\n",
            "Opção desejada: s\n",
            "Digite um número inteiro: 6\n",
            "\n",
            "Deseja digitar mais números? [Sim/Não]\n",
            "Opção desejada: n\n",
            "A média do(s) 2 número(s) digitado(s) é de: 5.50.\n",
            "O maior número digitado dentre o(s) 2 número(s) digitado(s) é de: 6.\n",
            "O menor número digitado dentre o(s) 2 número(s) digitado(s) é de: 5.\n"
          ]
        }
      ],
      "source": [
        "# declaração das variáveis\n",
        "\n",
        "maior = 0\n",
        "menor = 0\n",
        "somaNum = 0\n",
        "resp = ''\n",
        "contNum = 0\n",
        "num = 0\n",
        "\n",
        "# utilizando o laço while para resolver o problema\n",
        "\n",
        "while resp != 'N':\n",
        "    num = int(input('Digite um número inteiro: '))\n",
        "    resp = input('\\nDeseja digitar mais números? [Sim/Não]'\n",
        "                 '\\nOpção desejada: ').strip().upper()[0] # [0] serve para selecionar apenas a primeira letra da string \"Sim\" ou \"Não\", assim fica mais intuitivo\n",
        "    while resp not in 'SN': # como eu indiquei apenas o primeiro caractere [0] da string, não há problema desse teste lógico ser feito dessa maneira\n",
        "        print('\\nOpção inválida!')\n",
        "        resp = input('\\nDeseja digitar mais números? [Sim/Não]'\n",
        "                     '\\nOpção desejada: ').strip().upper()[0]\n",
        "\n",
        "    # calculando a soma de todos os números digitados\n",
        "    somaNum += num\n",
        "    contNum += 1\n",
        "\n",
        "    # definindo o maior e o menor número\n",
        "    if contNum == 1:\n",
        "        maior = num\n",
        "        menor = num\n",
        "    elif num > maior:\n",
        "        maior = num\n",
        "    elif num < menor:\n",
        "        menor = num\n",
        "\n",
        "# calculando a média dos números digitados\n",
        "media = somaNum / contNum\n",
        "\n",
        "# exibição dos resultados\n",
        "\n",
        "print(f'A média do(s) {contNum} número(s) digitado(s) é de: {media:.2f}.')\n",
        "print(f'O maior número digitado dentre o(s) {contNum} número(s) digitado(s) é de: {maior}.')\n",
        "print(f'O menor número digitado dentre o(s) {contNum} número(s) digitado(s) é de: {menor}.')"
      ]
    },
    {
      "cell_type": "markdown",
      "metadata": {
        "id": "navZ5muCqNYF"
      },
      "source": [
        "## Exercício Python 66: Crie um programa que leia números inteiros pelo teclado. O programa só vai parar quando o usuário digitar o valor 999, que é a condição de parada. No final, mostre quantos números foram digitados e qual foi a soma entre elas (desconsiderando o flag)."
      ]
    },
    {
      "cell_type": "code",
      "execution_count": null,
      "metadata": {
        "id": "_EejVw2oqNxF",
        "colab": {
          "base_uri": "https://localhost:8080/"
        },
        "outputId": "353eeba9-95c4-478a-ef09-5f2e94632108"
      },
      "outputs": [
        {
          "output_type": "stream",
          "name": "stdout",
          "text": [
            "Digite um número inteiro: 5\n",
            "Digite um número inteiro: 7\n",
            "Digite um número inteiro: 3\n",
            "Digite um número inteiro: 8\n",
            "Digite um número inteiro: 57\n",
            "Digite um número inteiro: 46\n",
            "Digite um número inteiro: 999\n",
            "A soma dos números digitados é: 126.\n",
            "A quantidade de números digitados é: 6.\n"
          ]
        }
      ],
      "source": [
        "# declaração das variáveis\n",
        "num = 0\n",
        "soma = 0\n",
        "qtdNum = 0\n",
        "\n",
        "# resolução do problema\n",
        "\n",
        "while True:\n",
        "    num = int(input('Digite um número inteiro: '))\n",
        "    if num == 999:\n",
        "        break\n",
        "    soma += num\n",
        "    qtdNum += 1\n",
        "\n",
        "print(f'A soma dos números digitados é: {soma}.')\n",
        "print(f'A quantidade de números digitados é: {qtdNum}.')\n",
        "\n",
        "# exibição dos resultados"
      ]
    },
    {
      "cell_type": "markdown",
      "metadata": {
        "id": "4w0HFg0XqOLN"
      },
      "source": [
        "## Exercício Python 67: Faça um programa que mostre a tabuada de vários números, um de cada vez, para cada valor digitado pelo usuário. O programa será interrompido quando o número solicitado for negativo."
      ]
    },
    {
      "cell_type": "code",
      "execution_count": null,
      "metadata": {
        "id": "kiqkMqboqR0o",
        "colab": {
          "base_uri": "https://localhost:8080/"
        },
        "outputId": "7c9599e3-b03d-4c3e-f831-3d50fa73b5d6"
      },
      "outputs": [
        {
          "output_type": "stream",
          "name": "stdout",
          "text": [
            "\n",
            "Digite um número para saber sua tabuada: 3\n",
            "3 x 1 = 3\n",
            "3 x 2 = 6\n",
            "3 x 3 = 9\n",
            "3 x 4 = 12\n",
            "3 x 5 = 15\n",
            "3 x 6 = 18\n",
            "3 x 7 = 21\n",
            "3 x 8 = 24\n",
            "3 x 9 = 27\n",
            "3 x 10 = 30\n",
            "\n",
            "Digite um número para saber sua tabuada: 5\n",
            "5 x 1 = 5\n",
            "5 x 2 = 10\n",
            "5 x 3 = 15\n",
            "5 x 4 = 20\n",
            "5 x 5 = 25\n",
            "5 x 6 = 30\n",
            "5 x 7 = 35\n",
            "5 x 8 = 40\n",
            "5 x 9 = 45\n",
            "5 x 10 = 50\n",
            "\n",
            "Digite um número para saber sua tabuada: 7\n",
            "7 x 1 = 7\n",
            "7 x 2 = 14\n",
            "7 x 3 = 21\n",
            "7 x 4 = 28\n",
            "7 x 5 = 35\n",
            "7 x 6 = 42\n",
            "7 x 7 = 49\n",
            "7 x 8 = 56\n",
            "7 x 9 = 63\n",
            "7 x 10 = 70\n",
            "\n",
            "Digite um número para saber sua tabuada: 2\n",
            "2 x 1 = 2\n",
            "2 x 2 = 4\n",
            "2 x 3 = 6\n",
            "2 x 4 = 8\n",
            "2 x 5 = 10\n",
            "2 x 6 = 12\n",
            "2 x 7 = 14\n",
            "2 x 8 = 16\n",
            "2 x 9 = 18\n",
            "2 x 10 = 20\n",
            "\n",
            "Digite um número para saber sua tabuada: -2\n",
            "Me desculpe mas não posso calcular a tabuada de um número negativo!\n"
          ]
        }
      ],
      "source": [
        "# declaração das variáveis\n",
        "num = 0\n",
        "\n",
        "# resolução do problema\n",
        "while True:\n",
        "    num = int(input('\\nDigite um número para saber sua tabuada: '))\n",
        "    if num < 0:\n",
        "        print('Me desculpe mas não posso calcular a tabuada de um número negativo!')\n",
        "        break\n",
        "    for c in range(1, 11):\n",
        "        print(f'{num} x {c} = {num*c}')"
      ]
    },
    {
      "cell_type": "markdown",
      "metadata": {
        "id": "PJNJW-A7qSbL"
      },
      "source": [
        "## Exercício Python 68: Faça um programa que jogue par ou ímpar com o computador. O jogo só será interrompido quando o jogador perder, mostrando o total de vitórias consecutivas que ele conquistou no final do jogo."
      ]
    },
    {
      "cell_type": "code",
      "execution_count": null,
      "metadata": {
        "id": "vSWlPQ8wqUdQ",
        "colab": {
          "base_uri": "https://localhost:8080/"
        },
        "outputId": "cddca6d9-85e1-40ab-b197-d35eba1f8755"
      },
      "outputs": [
        {
          "output_type": "stream",
          "name": "stdout",
          "text": [
            "Você quer PAR ou IMPAR?\n",
            "Opção desejada: par\n",
            "PC: Então eu quero IMPAR!\n",
            "Digite um número de 1 a 10: 3\n",
            "Dessa vez você me venceu, humano!\n",
            "Eu te venci, humano! Muahahahaha!\n",
            "Você me venceu 1 vez(es).\n",
            "Escolha humano: PAR\n",
            "Número humano: 3\n",
            "Escolha PC: IMPAR\n",
            "Número PC: 9\n"
          ]
        }
      ],
      "source": [
        "# importando as bibliotecas necessárias\n",
        "from random import randint\n",
        "# definição das variáveis\n",
        "contVit = 0\n",
        "escolhaPCNum = randint(1, 10)\n",
        "escolhaPC = ''\n",
        "escolhaHumano = ''\n",
        "escolhaHumanoNum = 0\n",
        "somaNum = 0\n",
        "contVit = 0\n",
        "\n",
        "\n",
        "# definição de quem pede par e quem pede ímpar\n",
        "\n",
        "while True:\n",
        "    # entrada de dados\n",
        "\n",
        "    while escolhaHumano not in ('PAR', 'IMPAR'):\n",
        "        escolhaHumano = input('Você quer PAR ou IMPAR?'\n",
        "                              '\\nOpção desejada: ').strip().upper()\n",
        "\n",
        "    # definindo se o PC escolherá PAR ou ÍMPAR a depender da escolha do humano\n",
        "    if escolhaHumano == 'PAR':\n",
        "        print('PC: Então eu quero IMPAR!')\n",
        "        escolhaPC = 'IMPAR'\n",
        "    elif escolhaHumano == 'IMPAR':\n",
        "        print('PC: Então eu quero PAR!')\n",
        "        escolhaPC = 'PAR'\n",
        "\n",
        "    escolhaHumanoNum = int(input('Digite um número de 1 a 10: '))\n",
        "\n",
        "    somaNum = escolhaPCNum + escolhaHumanoNum\n",
        "\n",
        "    if somaNum % 2 == 0 and escolhaHumano == 'PAR':\n",
        "        print('Dessa vez você me venceu, humano!')\n",
        "        contVit += 1\n",
        "    else:\n",
        "        print('Eu te venci, humano! Muahahahaha!')\n",
        "        break\n",
        "    if somaNum % 2 == 1 and escolhaHumano == 'IMPAR':\n",
        "        print('Dessa vez você me venceu, humano!')\n",
        "        contVit += 1\n",
        "    else:\n",
        "        print('Eu te venci, humano! Muahahahaha!')\n",
        "        break\n",
        "print(f'Você me venceu {contVit} vez(es).')\n",
        "\n",
        "# saída de dados\n",
        "\n",
        "print(f'Escolha humano: {escolhaHumano}'\n",
        "      f'\\nNúmero humano: {escolhaHumanoNum}'\n",
        "      f'\\nEscolha PC: {escolhaPC}'\n",
        "      f'\\nNúmero PC: {escolhaPCNum}')\n",
        "\n",
        "# erros corrigidos pelo chatGPT:\n",
        "\n",
        "\"\"\"Destaque das Diferenças:\n",
        "\n",
        "ERRO NAS CONDIÇÕES: No seu código original, as duas verificações (if) estavam independentes e podiam ambas ser executadas, o que não era desejado. Na versão corrigida, usei elif para garantir que apenas uma das condições seja avaliada e executada.\n",
        "Além disso, a condição correta foi movida para a segunda verificação, e agora ela verifica se somaNum % 2 == 1 quando escolhaHumano == 'IMPAR'.\n",
        "\n",
        "    # condições corrigidas\n",
        "    if somaNum % 2 == 0 and escolhaHumano == 'PAR':\n",
        "        print('Dessa vez você me venceu, humano!')\n",
        "        contVit += 1\n",
        "    elif somaNum % 2 == 1 and escolhaHumano == 'IMPAR':\n",
        "        print('Dessa vez você me venceu, humano!')\n",
        "        contVit += 1\n",
        "    else:\n",
        "        print('Eu te venci, humano! Muahahahaha!')\n",
        "        break\n",
        "\n",
        "ERRO AO NÃO REINICIAR AS VARIÁVEIS:\n",
        "    # resetando escolhas para a próxima rodada\n",
        "    escolhaHumano = ''\n",
        "    escolhaPCNum = randint(1, 10)\n",
        "\n",
        "NO CÓDIGO ABAIXO CONSTAM AS CORREÇÕES, DEIXEI O CÓDIGO ORIGINALMENTE ERRADO, PARA VERIFICAÇÕES NO FUTURO, AFIM DE EVITAR NOVOS ERROS E TAMBÉM COMO FONTE DE OBSERVAÇÃO DO AVANÇO DE APRENDIZADO...\"\"\""
      ]
    },
    {
      "cell_type": "code",
      "source": [
        "# código feito por mim, porém, com o erro nas condições IF-ELSE corrigido pelo chatGPT\n",
        "\n",
        "from random import randint\n",
        "\n",
        "# definição das variáveis\n",
        "contVit = 0\n",
        "escolhaPCNum = randint(1, 10)\n",
        "escolhaPC = ''\n",
        "escolhaHumano = ''\n",
        "escolhaHumanoNum = 0\n",
        "somaNum = 0\n",
        "\n",
        "while True:\n",
        "    # entrada de dados\n",
        "    while escolhaHumano not in ('PAR', 'IMPAR'):\n",
        "        escolhaHumano = input('Você quer PAR ou IMPAR?\\nOpção desejada: ').strip().upper()\n",
        "\n",
        "    # definindo se o PC escolherá PAR ou ÍMPAR a depender da escolha do humano\n",
        "    if escolhaHumano == 'PAR':\n",
        "        print('PC: Então eu quero IMPAR!')\n",
        "        escolhaPC = 'IMPAR'\n",
        "    elif escolhaHumano == 'IMPAR':\n",
        "        print('PC: Então eu quero PAR!')\n",
        "        escolhaPC = 'PAR'\n",
        "\n",
        "    escolhaHumanoNum = int(input('Digite um número de 1 a 10: '))\n",
        "\n",
        "    somaNum = escolhaPCNum + escolhaHumanoNum\n",
        "\n",
        "    print(f'Número PC: {escolhaPCNum}')\n",
        "    print(f'Número humano: {escolhaHumanoNum}')\n",
        "    print(f'Soma dos números: {somaNum}')\n",
        "\n",
        "    # condições corrigidas\n",
        "    if somaNum % 2 == 0 and escolhaHumano == 'PAR':\n",
        "        print('Dessa vez você me venceu, humano!')\n",
        "        contVit += 1\n",
        "    elif somaNum % 2 == 1 and escolhaHumano == 'IMPAR':\n",
        "        print('Dessa vez você me venceu, humano!')\n",
        "        contVit += 1\n",
        "    else:\n",
        "        print('Eu te venci, humano! Muahahahaha!')\n",
        "        break\n",
        "\n",
        "    # resetando escolhas para a próxima rodada\n",
        "    escolhaHumano = ''\n",
        "    escolhaPCNum = randint(1, 10)\n",
        "\n",
        "print(f'Você me venceu {contVit} vez(es).')\n"
      ],
      "metadata": {
        "colab": {
          "base_uri": "https://localhost:8080/"
        },
        "id": "y1u9kBIxMy4l",
        "outputId": "cd6b46e3-234a-4ed6-f52b-93795b868432"
      },
      "execution_count": null,
      "outputs": [
        {
          "output_type": "stream",
          "name": "stdout",
          "text": [
            "Você quer PAR ou IMPAR?\n",
            "Opção desejada: par\n",
            "PC: Então eu quero IMPAR!\n",
            "Digite um número de 1 a 10: 3\n",
            "Número PC: 2\n",
            "Número humano: 3\n",
            "Soma dos números: 5\n",
            "Eu te venci, humano! Muahahahaha!\n",
            "Você me venceu 0 vez(es).\n"
          ]
        }
      ]
    },
    {
      "cell_type": "markdown",
      "metadata": {
        "id": "5s2vjMUoqVAv"
      },
      "source": [
        "## Exercício Python 69: Crie um programa que leia a idade e o sexo de várias pessoas. A cada pessoa cadastrada, o programa deverá perguntar se o usuário quer ou não continuar. No final, mostre:\n",
        "\n",
        "### A) quantas pessoas tem mais de 18 anos.\n",
        "### B) quantos homens foram cadastrados.\n",
        "### C) quantas mulheres tem menos de 20 anos."
      ]
    },
    {
      "cell_type": "code",
      "execution_count": null,
      "metadata": {
        "id": "CUUSs2yUqcoc",
        "colab": {
          "base_uri": "https://localhost:8080/"
        },
        "outputId": "5c7d40b6-2b8b-4437-932b-799113de883f"
      },
      "outputs": [
        {
          "output_type": "stream",
          "name": "stdout",
          "text": [
            "Digite a idade da pessoa a ser cadastrada: 17\n",
            "Digite o sexo da pessoa a ser cadastrada [M/F]: f\n",
            "\n",
            "Deseja continuar com os cadastros? [S/N]\n",
            "Opção selecionada: s\n",
            "Digite a idade da pessoa a ser cadastrada: 20\n",
            "Digite o sexo da pessoa a ser cadastrada [M/F]: m\n",
            "\n",
            "Deseja continuar com os cadastros? [S/N]\n",
            "Opção selecionada: s\n",
            "Digite a idade da pessoa a ser cadastrada: 23\n",
            "Digite o sexo da pessoa a ser cadastrada [M/F]: f\n",
            "\n",
            "Deseja continuar com os cadastros? [S/N]\n",
            "Opção selecionada: s\n",
            "Digite a idade da pessoa a ser cadastrada: 14\n",
            "Digite o sexo da pessoa a ser cadastrada [M/F]: m\n",
            "\n",
            "Deseja continuar com os cadastros? [S/N]\n",
            "Opção selecionada: n\n",
            "Você cadastrou 2 pessoa(s) menor(es) de 18 anos.\n",
            "Você cadastrou 2 homem(ns).\n",
            "Você cadastrou 1 mulher(es) menor(es) de 20 anos.\n"
          ]
        }
      ],
      "source": [
        "# inicializando as variáveis\n",
        "\n",
        "idade = 0\n",
        "sexo = ''\n",
        "contIdade = 0\n",
        "contHomens = 0\n",
        "mulherMenosDeVinte = 0\n",
        "resp = ''\n",
        "\n",
        "# resolução do problema\n",
        "while True:\n",
        "\n",
        "    # entrada de dados\n",
        "\n",
        "    idade = int(input('Digite a idade da pessoa a ser cadastrada: '))\n",
        "\n",
        "    sexo = (input('Digite o sexo da pessoa a ser cadastrada [M/F]: ')).strip().upper()\n",
        "    while sexo not in 'MF':\n",
        "        sexo = (input('Digite o sexo da pessoa a ser cadastrada [M/F]: ')).strip().upper()\n",
        "\n",
        "    # resolução das condiçoes\n",
        "    if idade < 18:\n",
        "        contIdade += 1\n",
        "\n",
        "    if sexo == 'M':\n",
        "        contHomens += 1\n",
        "\n",
        "    if idade < 20 and sexo == 'F':\n",
        "        mulherMenosDeVinte += 1\n",
        "\n",
        "    resp = input('\\nDeseja continuar com os cadastros? [S/N]'\n",
        "                     '\\nOpção selecionada: ').strip().upper()\n",
        "    while resp not in 'SN':\n",
        "        resp = input('\\nDeseja continuar com os cadastros? [S/N]'\n",
        "                     '\\nOpção selecionada: ').strip().upper()\n",
        "\n",
        "    if resp == 'N':\n",
        "        break\n",
        "\n",
        "# apresentação dos resultados\n",
        "print(f'Você cadastrou {contIdade} pessoa(s) menor(es) de 18 anos.')\n",
        "print(f'Você cadastrou {contHomens} homem(ns).')\n",
        "print(f'Você cadastrou {mulherMenosDeVinte} mulher(es) menor(es) de 20 anos.')"
      ]
    },
    {
      "cell_type": "markdown",
      "metadata": {
        "id": "3SmI9GSuqiew"
      },
      "source": [
        "## Exercício Python 70: Crie um programa que leia o nome e o preço de vários produtos. O programa deverá perguntar se o usuário vai continuar ou não. No final, mostre:\n",
        "\n",
        "### A) qual é o total gasto na compra.\n",
        "### B) quantos produtos custam mais de R$1000.\n",
        "### C) qual é o nome do produto mais barato."
      ]
    },
    {
      "cell_type": "code",
      "execution_count": null,
      "metadata": {
        "id": "FujhrBNhqoGl",
        "colab": {
          "base_uri": "https://localhost:8080/"
        },
        "outputId": "e18cc003-87ed-45a9-ea68-a00acab63ef5"
      },
      "outputs": [
        {
          "output_type": "stream",
          "name": "stdout",
          "text": [
            "Digite o nome do produto: arroz\n",
            "Digite o valor do produto: 10.90\n",
            "\n",
            "Deseja continuar com os cadastros de produtos? [S/N]\n",
            "Opção selecionada: s\n",
            "Digite o nome do produto: feijão\n",
            "Digite o valor do produto: 5.60\n",
            "\n",
            "Deseja continuar com os cadastros de produtos? [S/N]\n",
            "Opção selecionada: s\n",
            "Digite o nome do produto: tv led\n",
            "Digite o valor do produto: 1200\n",
            "\n",
            "Deseja continuar com os cadastros de produtos? [S/N]\n",
            "Opção selecionada: s\n",
            "Digite o nome do produto: ps5\n",
            "Digite o valor do produto: 4799.99\n",
            "\n",
            "Deseja continuar com os cadastros de produtos? [S/N]\n",
            "Opção selecionada: s\n",
            "Digite o nome do produto: rtx 4070 ti\n",
            "Digite o valor do produto: 7499\n",
            "\n",
            "Deseja continuar com os cadastros de produtos? [S/N]\n",
            "Opção selecionada: n\n",
            "O total gasto na compra é de R$ 13515.49.\n",
            "O total de produtos que custam mais de R$ 1.000,00 são: 3 produtos.\n",
            "O produto mais barato é o FEIJÃO no valor de R$ 5.6.\n"
          ]
        }
      ],
      "source": [
        "# inicializando as variáveis\n",
        "resp = ''\n",
        "precoProd = 0\n",
        "nomeProd = ''\n",
        "totGasto = 0\n",
        "contMil = 0\n",
        "contProdutos = 0\n",
        "nomeProdMaisBarato = ''\n",
        "\n",
        "\n",
        "# resolução do problema\n",
        "while True:\n",
        "\n",
        "    # entrada de dados\n",
        "    nomeProd = input('Digite o nome do produto: ').strip().upper()\n",
        "    precoProd = float(input('Digite o valor do produto: '))\n",
        "\n",
        "    totGasto += precoProd\n",
        "    contProdutos += 1\n",
        "\n",
        "    # condições\n",
        "    if precoProd > 1000:\n",
        "        contMil += 1\n",
        "\n",
        "    if contProdutos == 1:\n",
        "        prodMaisBarato = precoProd\n",
        "        nomeProdMaisBarato = nomeProd\n",
        "    elif precoProd < prodMaisBarato:\n",
        "        prodMaisBarato = precoProd\n",
        "        nomeProdMaisBarato = nomeProd\n",
        "\n",
        "    resp = input('\\nDeseja continuar com os cadastros de produtos? [S/N]'\n",
        "                     '\\nOpção selecionada: ').strip().upper()\n",
        "    while resp not in 'SN':\n",
        "        resp = input('\\nDeseja continuar com os cadastros de produtos? [S/N]'\n",
        "                     '\\nOpção selecionada: ').strip().upper()\n",
        "    if resp == 'N':\n",
        "        break\n",
        "\n",
        "\n",
        "print(f'\\nQuantidade de produto(s) comprado(s): {contProdutos}.'\n",
        "      f'O valor total da compra é de R$ {totGasto}.')\n",
        "print(f'\\nO total de produtos que custam mais de R$ 1.000,00 são: {contMil} produtos.')\n",
        "print(f'\\nO produto mais barato é o {nomeProdMaisBarato} no valor de R$ {prodMaisBarato}.')"
      ]
    },
    {
      "cell_type": "markdown",
      "metadata": {
        "id": "0QseSY2Mqoiu"
      },
      "source": [
        "## Exercício Python 071: Crie um programa que simule o funcionamento de um caixa eletrônico. No início, pergunte ao usuário qual será o valor a ser sacado (número inteiro) e o programa vai informar quantas cédulas de cada valor serão entregues. OBS:\n",
        "\n",
        "### considere que o caixa possui cédulas de 50 reais, 20 reais, 10 reais e 1 real."
      ]
    },
    {
      "cell_type": "code",
      "source": [
        "tupla = ('Carro', 2.33, 43)\n",
        "print(tupla[0])"
      ],
      "metadata": {
        "colab": {
          "base_uri": "https://localhost:8080/"
        },
        "id": "5kYAc6oVTWoM",
        "outputId": "83f00be3-2427-4d55-823c-4dd421571ad5"
      },
      "execution_count": null,
      "outputs": [
        {
          "output_type": "stream",
          "name": "stdout",
          "text": [
            "Carro\n"
          ]
        }
      ]
    },
    {
      "cell_type": "code",
      "execution_count": null,
      "metadata": {
        "id": "B8KmKVQMqxlN",
        "colab": {
          "base_uri": "https://localhost:8080/"
        },
        "outputId": "15368c90-82ec-4697-dd8a-7be097addd85"
      },
      "outputs": [
        {
          "name": "stdout",
          "output_type": "stream",
          "text": [
            "Qual o valor do saque (apenas valores inteiros): 50\n",
            "\n",
            "Você sacou R$ 50.\n",
            "Receberá 1 nota(s) de R$ 50,00\n",
            "Receberá 0 nota(s) de R$ 20,00\n",
            "Receberá 0 nota(s) de R$ 10,00\n",
            "Receberá 0 nota(s) de R$ 1,00\n",
            "\n",
            "Deseja sacar mais algum valor? [S/N]\n",
            "Opção selecionada: s\n",
            "Qual o valor do saque (apenas valores inteiros): 40\n",
            "\n",
            "Você sacou R$ 40.\n",
            "Receberá 0 nota(s) de R$ 50,00\n",
            "Receberá 2 nota(s) de R$ 20,00\n",
            "Receberá 0 nota(s) de R$ 10,00\n",
            "Receberá 0 nota(s) de R$ 1,00\n",
            "\n",
            "Deseja sacar mais algum valor? [S/N]\n",
            "Opção selecionada: s\n",
            "Qual o valor do saque (apenas valores inteiros): 65\n",
            "\n",
            "Você sacou R$ 65.\n",
            "Receberá 1 nota(s) de R$ 50,00\n",
            "Receberá 0 nota(s) de R$ 20,00\n",
            "Receberá 1 nota(s) de R$ 10,00\n",
            "Receberá 5 nota(s) de R$ 1,00\n",
            "\n",
            "Deseja sacar mais algum valor? [S/N]\n",
            "Opção selecionada: n\n"
          ]
        }
      ],
      "source": [
        "while True:\n",
        "    valor = int(input('Qual o valor do saque (apenas valores inteiros): '))\n",
        "\n",
        "    # 235\n",
        "    notas50 = valor // 50 # dado o valor, a divisão inteira resultará em uma quantidade de cédulas de 50 reais\n",
        "    resto = valor % 50 # retornará o resto da divisão do valor por 50\n",
        "\n",
        "    notas20 = resto // 20 # dado o valor, a divisão inteira resultará em uma quantidade de cédulas de 20 reais\n",
        "    resto1 = resto % 20 # retornará o resto da divisão do valor por 20\n",
        "\n",
        "    notas10 = resto1 // 10 # dado o valor, a divisão inteira resultará em uma quantidade de cédulas de 10 reais\n",
        "    resto2 = resto1 % 10 # retornará o resto da divisão do valor por 10\n",
        "\n",
        "    notas5 = resto2 // 1 # dado o valor, a divisão inteira resultará em uma quantidade de cédulas de 5 reais\n",
        "\n",
        "    # apresentando o resultados das quantidades de cédulas de 50, 20, 10 e 5 reais\n",
        "\n",
        "    print(f'\\nVocê sacou R$ {valor}.'\n",
        "      f'\\nReceberá {notas50} nota(s) de R$ 50,00'\n",
        "      f'\\nReceberá {notas20} nota(s) de R$ 20,00'\n",
        "      f'\\nReceberá {notas10} nota(s) de R$ 10,00'\n",
        "      f'\\nReceberá {notas5} nota(s) de R$ 1,00')\n",
        "\n",
        "    # perguntando ao usuário se ele deseja continuar com a execução do programa\n",
        "\n",
        "    resp = input('\\nDeseja sacar mais algum valor? [S/N]'\n",
        "                     '\\nOpção selecionada: ').strip().upper()\n",
        "    while resp not in 'SN':\n",
        "        resp = input('\\nDeseja sacar mais algum valor? [S/N]'\n",
        "                     '\\nOpção selecionada: ').strip().upper()\n",
        "    if resp == 'N':\n",
        "        break\n"
      ]
    }
  ],
  "metadata": {
    "colab": {
      "provenance": [],
      "authorship_tag": "ABX9TyPP3eD1qCMABlr9USjORPMU",
      "include_colab_link": true
    },
    "kernelspec": {
      "display_name": "Python 3",
      "name": "python3"
    },
    "language_info": {
      "name": "python"
    }
  },
  "nbformat": 4,
  "nbformat_minor": 0
}