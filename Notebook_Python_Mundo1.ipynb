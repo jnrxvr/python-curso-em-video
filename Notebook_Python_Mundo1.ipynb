{
  "nbformat": 4,
  "nbformat_minor": 0,
  "metadata": {
    "colab": {
      "provenance": [],
      "authorship_tag": "ABX9TyPu/dg4jJXmjgdhS8L0YtUA",
      "include_colab_link": true
    },
    "kernelspec": {
      "name": "python3",
      "display_name": "Python 3"
    },
    "language_info": {
      "name": "python"
    }
  },
  "cells": [
    {
      "cell_type": "markdown",
      "metadata": {
        "id": "view-in-github",
        "colab_type": "text"
      },
      "source": [
        "<a href=\"https://colab.research.google.com/github/jnrxvr/python-curso-em-video/blob/main/Notebook_Python_Mundo1.ipynb\" target=\"_parent\"><img src=\"https://colab.research.google.com/assets/colab-badge.svg\" alt=\"Open In Colab\"/></a>"
      ]
    },
    {
      "cell_type": "markdown",
      "source": [
        "# NOTEBOOK DOS EXERCÍCIOS DO MUNDO 1 DE PYTHON DO CURSO EM VÍDEO"
      ],
      "metadata": {
        "id": "XeLZAThi62ng"
      }
    },
    {
      "cell_type": "markdown",
      "source": [
        "## Exercício Python 2: Faça um programa que leia o nome de uma pessoa e mostre uma mensagem de boas-vindas."
      ],
      "metadata": {
        "id": "xJJm_fIK5RKx"
      }
    },
    {
      "cell_type": "code",
      "source": [
        "nome = input('Digite seu nome completo: ')\n",
        "print('\\n', nome) # '\\n' foi usado apenas para o print do nome ficar mais vísivel "
      ],
      "metadata": {
        "id": "4jxaEBo35cix",
        "colab": {
          "base_uri": "https://localhost:8080/"
        },
        "outputId": "d263f646-ceaf-4dfe-fdf5-dbaaebca3303"
      },
      "execution_count": null,
      "outputs": [
        {
          "output_type": "stream",
          "name": "stdout",
          "text": [
            "Digite seu nome completo: JR X\n",
            "\n",
            " JR X\n"
          ]
        }
      ]
    },
    {
      "cell_type": "markdown",
      "source": [
        "## Exercício Python 3: Crie um programa que leia dois números e mostre a soma entre eles."
      ],
      "metadata": {
        "id": "050vCpdD5hVJ"
      }
    },
    {
      "cell_type": "code",
      "source": [
        "n1 = int(input('Digite o primeiro número: '))\n",
        "n2 = int(input('Digite o segundo número: '))\n",
        "\n",
        "print(f'A soma entre {n1} e {n2} é igual a {n1+n2}.')"
      ],
      "metadata": {
        "id": "YYSeMC7N5oJO",
        "colab": {
          "base_uri": "https://localhost:8080/"
        },
        "outputId": "a437865f-e959-49a7-ef1c-46003f67a025"
      },
      "execution_count": null,
      "outputs": [
        {
          "output_type": "stream",
          "name": "stdout",
          "text": [
            "Digite o primeiro número: 5\n",
            "Digite o segundo número: 15\n",
            "A soma entre 5 e 15 é igual a 20.\n"
          ]
        }
      ]
    },
    {
      "cell_type": "markdown",
      "source": [
        "## Exercício Python 4: Faça um programa que leia algo pelo teclado e mostre na tela o seu tipo primitivo e todas as informações possíveis sobre ele."
      ],
      "metadata": {
        "id": "ISsYubsv5pxe"
      }
    },
    {
      "cell_type": "code",
      "source": [
        "algo = input('Digite qualquer coisa: ')\n",
        "print(algo.isalnum())\n",
        "print(algo.isalpha())\n",
        "print(algo.isascii())\n",
        "print(algo.isnumeric())\n",
        "print(algo.islower())\n",
        "print(algo.isdecimal())\n",
        "print(algo.isdigit())\n",
        "print(algo.isprintable())\n",
        "print(algo.istitle())\n",
        "print(algo.isupper())\n",
        "print(algo.isspace())"
      ],
      "metadata": {
        "id": "vcCl4tnH5uA2",
        "colab": {
          "base_uri": "https://localhost:8080/"
        },
        "outputId": "9345c563-683c-4436-800c-85748ba2baa3"
      },
      "execution_count": null,
      "outputs": [
        {
          "output_type": "stream",
          "name": "stdout",
          "text": [
            "Digite qualquer coisa: Junior\n",
            "True\n",
            "True\n",
            "True\n",
            "False\n",
            "False\n",
            "False\n",
            "False\n",
            "True\n",
            "True\n",
            "False\n",
            "False\n"
          ]
        }
      ]
    },
    {
      "cell_type": "markdown",
      "source": [
        "## Exercício Python 5: Faça um programa que leia um número Inteiro e mostre na tela o seu sucessor e seu antecessor."
      ],
      "metadata": {
        "id": "ySXAG8hN5x49"
      }
    },
    {
      "cell_type": "code",
      "source": [
        "num = int(input('Digite um número: '))\n",
        "print(f'O número digitado foi: {num}'\n",
        "      f'\\nSeu antecessor é: {num - 1}'\n",
        "      f'\\nSeu sucessor é: {num + 1}')"
      ],
      "metadata": {
        "id": "AdkeGpKB57IB",
        "colab": {
          "base_uri": "https://localhost:8080/"
        },
        "outputId": "f75d5511-ce47-4e23-b2b5-fb7eba29ee59"
      },
      "execution_count": null,
      "outputs": [
        {
          "output_type": "stream",
          "name": "stdout",
          "text": [
            "Digite um número: 10\n",
            "O número digitado foi: 10\n",
            "Seu antecessor é: 9\n",
            "Seu sucessor é: 11\n"
          ]
        }
      ]
    },
    {
      "cell_type": "markdown",
      "source": [
        "## Exercício Python 006: Crie um algoritmo que leia um número e mostre o seu dobro, triplo e raiz quadrada."
      ],
      "metadata": {
        "id": "16WXdTkh52cv"
      }
    },
    {
      "cell_type": "code",
      "source": [
        "import math\n",
        "\n",
        "num = int(input('Digite um número: '))\n",
        "print(f'O número digitado foi: {num}'\n",
        "      f'\\nO dobro de {num} antecessor é: {num*2}'\n",
        "      f'\\nO triplo de {num} é: {num*3}'\n",
        "      f'\\nA raiz quadrada de {num} é: {math.sqrt(num)}')"
      ],
      "metadata": {
        "id": "Iva_Hkal5yc2",
        "colab": {
          "base_uri": "https://localhost:8080/"
        },
        "outputId": "cf9e3578-149d-4160-d182-13c845df24bf"
      },
      "execution_count": null,
      "outputs": [
        {
          "output_type": "stream",
          "name": "stdout",
          "text": [
            "Digite um número: 10\n",
            "O número digitado foi: 10\n",
            "O dobro de 10 antecessor é: 20\n",
            "O triplo de 10 é: 30\n",
            "A raiz quadrada de 10 é: 3.1622776601683795\n"
          ]
        }
      ]
    },
    {
      "cell_type": "markdown",
      "source": [
        "## Exercício Python 7: Desenvolva um programa que leia as duas notas de um aluno, calcule e mostre a sua média."
      ],
      "metadata": {
        "id": "94BVpwGG572Z"
      }
    },
    {
      "cell_type": "code",
      "source": [
        "n1 = float(input('Digite a primeira nota do(a) aluno(a): '))\n",
        "n2 = float(input('Digite a segunda nota do(a) aluno(a): '))\n",
        "\n",
        "print(f'A média do(a) aluno(a) é {(n1+n2)/2}.')"
      ],
      "metadata": {
        "id": "9dH6DvIO5_z2",
        "colab": {
          "base_uri": "https://localhost:8080/"
        },
        "outputId": "0735c612-69b4-40a7-b47f-4f797fc9d2ab"
      },
      "execution_count": null,
      "outputs": [
        {
          "output_type": "stream",
          "name": "stdout",
          "text": [
            "Digite a primeira nota do(a) aluno(a): 5.5\n",
            "Digite a segunda nota do(a) aluno(a): 9.6\n",
            "A média do(a) aluno(a) é 7.55.\n"
          ]
        }
      ]
    },
    {
      "cell_type": "markdown",
      "source": [
        "## Exercício Python 8: Escreva um programa que leia um valor em metros e o exiba convertido em centímetros e milímetros."
      ],
      "metadata": {
        "id": "g81qECyY6AhU"
      }
    },
    {
      "cell_type": "code",
      "source": [
        "medida = float(input('Digite a medida em metro(s) para conversão: '))\n",
        "\n",
        "print(f'{medida} metro(s) é igual a {medida*100} centímetros e {medida*1000} milímetros.')"
      ],
      "metadata": {
        "id": "2l1JHC8E6FC-"
      },
      "execution_count": null,
      "outputs": []
    },
    {
      "cell_type": "markdown",
      "source": [
        "## Exercício Python 9: Faça um programa que leia um número Inteiro qualquer e mostre na tela a sua tabuada."
      ],
      "metadata": {
        "id": "I3P3HkeC6Fvu"
      }
    },
    {
      "cell_type": "code",
      "source": [
        "num = int(input('Digite um número para saber sua tabuada: '))\n",
        "print(f'{num} x 0 = {num*0}')\n",
        "print(f'{num} x 1 = {num*1}')\n",
        "print(f'{num} x 2 = {num*2}')\n",
        "print(f'{num} x 3 = {num*3}')\n",
        "print(f'{num} x 4 = {num*4}')\n",
        "print(f'{num} x 5 = {num*5}')\n",
        "print(f'{num} x 6 = {num*6}')\n",
        "print(f'{num} x 7 = {num*7}')\n",
        "print(f'{num} x 8 = {num*8}')\n",
        "print(f'{num} x 9 = {num*9}')\n",
        "print(f'{num} x 10 = {num*10}')\n"
      ],
      "metadata": {
        "id": "N_AyWbEn6Kp-",
        "colab": {
          "base_uri": "https://localhost:8080/"
        },
        "outputId": "7423081a-c673-4d46-acc3-df3fa5332d83"
      },
      "execution_count": null,
      "outputs": [
        {
          "output_type": "stream",
          "name": "stdout",
          "text": [
            "Digite um número para saber sua tabuada: 5\n",
            "5 x 0 = 0\n",
            "5 x 1 = 5\n",
            "5 x 2 = 10\n",
            "5 x 3 = 15\n",
            "5 x 4 = 20\n",
            "5 x 5 = 25\n",
            "5 x 6 = 30\n",
            "5 x 7 = 35\n",
            "5 x 8 = 40\n",
            "5 x 9 = 45\n",
            "5 x 10 = 50\n"
          ]
        }
      ]
    },
    {
      "cell_type": "markdown",
      "source": [
        "## Exercício Python 10: Crie um programa que leia quanto dinheiro uma pessoa tem na carteira e mostre quantos dólares ela pode comprar."
      ],
      "metadata": {
        "id": "LoBJvU8S6LVY"
      }
    },
    {
      "cell_type": "code",
      "source": [
        "# cotação do dólar hoje dia 03/04/23\n",
        "\n",
        "reais= float(input('Digite quantos reais você tem na carteira: '))\n",
        "dolar = reais / 5.06\n",
        "\n",
        "print(f'Você pode comprar {dolar} dólar(es) com o valor de {reais} real(is).')"
      ],
      "metadata": {
        "id": "XM-wYg7-6Q8l",
        "colab": {
          "base_uri": "https://localhost:8080/"
        },
        "outputId": "8aaada00-7f17-446a-f09c-a413aa8e0b67"
      },
      "execution_count": null,
      "outputs": [
        {
          "output_type": "stream",
          "name": "stdout",
          "text": [
            "Digite quantos reais você tem na carteira: 75\n",
            "Você pode comprar 14.82213438735178 dólar(es) com o valor de 75.0 real(is).\n"
          ]
        }
      ]
    },
    {
      "cell_type": "markdown",
      "source": [
        "## Exercício Python 11: Faça um programa que leia a largura e a altura de uma parede em metros, calcule a sua área e a quantidade de tinta necessária para pintá-la, sabendo que cada litro de tinta pinta uma área de 2 metros quadrados."
      ],
      "metadata": {
        "id": "_NOZlB2O6VV6"
      }
    },
    {
      "cell_type": "code",
      "source": [
        "alturaParede = float(input('Digite a altura (em metros) da parede: '))\n",
        "larguraParede = float(input('Digite a largura (em metros) da parede: '))\n",
        "\n",
        "areaParede = alturaParede * larguraParede\n",
        "\n",
        "totalTinta = areaParede / 2\n",
        "\n",
        "print(f'Sua parede de {areaParede} m² pode ser completamente pintada gastando {totalTinta} L de tinta.')"
      ],
      "metadata": {
        "id": "k53WDnIu6WP2",
        "colab": {
          "base_uri": "https://localhost:8080/"
        },
        "outputId": "e4bb4ed5-838c-49d3-d7aa-a82d55641983"
      },
      "execution_count": null,
      "outputs": [
        {
          "output_type": "stream",
          "name": "stdout",
          "text": [
            "Digite a altura (em metros) da parede: 3\n",
            "Digite a largura (em metros) da parede: 5\n",
            "Sua parede de 15.0 m² pode ser completamente pintada gastando 7.5 L de tinta.\n"
          ]
        }
      ]
    },
    {
      "cell_type": "markdown",
      "source": [
        "## Exercício Python 12: Faça um algoritmo que leia o preço de um produto e mostre seu novo preço, com 5% de desconto."
      ],
      "metadata": {
        "id": "7L12sv-46Xre"
      }
    },
    {
      "cell_type": "code",
      "source": [
        "preco = float(input('Digite o preço do produto: '))\n",
        "precoComDesconto = preco - (preco*0.05)\n",
        "\n",
        "print(f'O novo preço do produto já aplicado 5% de desconto será {precoComDesconto} reais.')"
      ],
      "metadata": {
        "id": "Y_KEKf6H6coN",
        "colab": {
          "base_uri": "https://localhost:8080/"
        },
        "outputId": "c3d8ec9f-62d0-4a49-8733-6540ba60e832"
      },
      "execution_count": null,
      "outputs": [
        {
          "output_type": "stream",
          "name": "stdout",
          "text": [
            "Digite o preço do produto: 150\n",
            "O novo preço do produto já aplicado 5% de desconto será 142.5 reais.\n"
          ]
        }
      ]
    },
    {
      "cell_type": "markdown",
      "source": [
        "## Exercício Python 13: Faça um algoritmo que leia o salário de um funcionário e mostre seu novo salário, com 15% de aumento."
      ],
      "metadata": {
        "id": "TtrC726q6iNP"
      }
    },
    {
      "cell_type": "code",
      "source": [
        "salario = float(input('Digite o salário do funcionário: '))\n",
        "novoSalario = salario + (salario*0.15)\n",
        "\n",
        "print(f'O novo salário do funcionário já aplicado 15% de aumento será de {novoSalario} reais. ')"
      ],
      "metadata": {
        "id": "ynA2hvjt6lBV",
        "colab": {
          "base_uri": "https://localhost:8080/"
        },
        "outputId": "5262b5fb-086b-4529-e77a-9854e0f2ef9c"
      },
      "execution_count": null,
      "outputs": [
        {
          "output_type": "stream",
          "name": "stdout",
          "text": [
            "Digite o salário do funcionário: 1500\n",
            "O novo salário do funcionário já aplicado 15% de aumento será de 1725.0 reais. \n"
          ]
        }
      ]
    },
    {
      "cell_type": "markdown",
      "source": [
        "## Exercício Python 14: Escreva um programa que converta uma temperatura digitando em graus Celsius e converta para graus Fahrenheit."
      ],
      "metadata": {
        "id": "8T1SOH0K6l85"
      }
    },
    {
      "cell_type": "code",
      "source": [
        "celsius = float(input('Digite o valor da temperatura em graus celsius: '))\n",
        "\n",
        "fahrenheit = (9/5)*celsius + 32\n",
        "\n",
        "print(f'{celsius}°C equivale a {fahrenheit}°F.')"
      ],
      "metadata": {
        "id": "cG6htcpO6pZV",
        "colab": {
          "base_uri": "https://localhost:8080/"
        },
        "outputId": "95c60d6f-ebf4-4c1c-b52d-cba9e8413a72"
      },
      "execution_count": null,
      "outputs": [
        {
          "output_type": "stream",
          "name": "stdout",
          "text": [
            "Digite o valor da temperatura em graus celsius: 38\n",
            "38.0°C equivale a 100.4°F.\n"
          ]
        }
      ]
    },
    {
      "cell_type": "markdown",
      "source": [
        "## Exercício Python 15: Escreva um programa que pergunte a quantidade de Km percorridos por um carro alugado e a quantidade de dias pelos quais ele foi alugado. Calcule o preço a pagar, sabendo que o carro custa 60 reais por dia e 0,15 centavos por Km rodado."
      ],
      "metadata": {
        "id": "crjDp9rS6s5H"
      }
    },
    {
      "cell_type": "code",
      "source": [
        "qtdKmPercorridos = float(input('Digite a quantidade de Km percorridos: '))\n",
        "qtdDias = int(input('Digite a quantidade de dias em que o carro esteve alugado: '))\n",
        "\n",
        "valorAPagar = (qtdKmPercorridos*0.15) + (qtdDias*60)\n",
        "\n",
        "print(f'Você deverá pagar {valorAPagar} reais.')"
      ],
      "metadata": {
        "id": "aGaKIRwZ6tzF",
        "colab": {
          "base_uri": "https://localhost:8080/"
        },
        "outputId": "64dce563-6bc7-4293-c7fa-5f025dc9c442"
      },
      "execution_count": null,
      "outputs": [
        {
          "output_type": "stream",
          "name": "stdout",
          "text": [
            "Digite a quantidade de Km percorridos: 843\n",
            "Digite a quantidade de dias em que o carro esteve alugado: 7\n",
            "Você deverá pagar 546.45 reais.\n"
          ]
        }
      ]
    },
    {
      "cell_type": "markdown",
      "source": [
        "## Exercício Python 16: Crie um programa que leia um número Real qualquer pelo teclado e mostre na tela a sua porção Inteira."
      ],
      "metadata": {
        "id": "aZJEluB_EP7V"
      }
    },
    {
      "cell_type": "code",
      "source": [
        "real = float(input('Digite um número real para saber sua parte inteira: '))\n",
        "\n",
        "print(f'\\nA parte inteira do número {real} é {int(real)}.')"
      ],
      "metadata": {
        "id": "LkHfPPHkEQ40",
        "colab": {
          "base_uri": "https://localhost:8080/"
        },
        "outputId": "c4c638a5-d21f-4d50-c162-a30efe1ba218"
      },
      "execution_count": null,
      "outputs": [
        {
          "output_type": "stream",
          "name": "stdout",
          "text": [
            "Digite um número real para saber sua parte inteira: 7.4862\n",
            "\n",
            "A parte inteira do número 7.4862 é 7.\n"
          ]
        }
      ]
    },
    {
      "cell_type": "markdown",
      "source": [
        "## Exercício Python 17: Faça um programa que leia o comprimento do cateto oposto e do cateto adjacente de um triângulo retângulo. Calcule e mostre o comprimento da hipotenusa."
      ],
      "metadata": {
        "id": "DSyMyf_tETGL"
      }
    },
    {
      "cell_type": "code",
      "source": [
        "import math\n",
        "\n",
        "catetoOposto = float(input('Digite o valor do cateto oposto: '))\n",
        "catetoAdjacente = float(input('Digite o valor do cateto adjacente: '))\n",
        "\n",
        "hipotenusa = math.sqrt(catetoOposto**2 + catetoAdjacente**2)\n",
        "print(f'\\n Dado o cateto oposto {catetoOposto} e o cateto adjacente {catetoAdjacente}, obtêm-se a hipotenusa {hipotenusa}.')"
      ],
      "metadata": {
        "id": "cq9raps9F6_6",
        "colab": {
          "base_uri": "https://localhost:8080/"
        },
        "outputId": "9186e612-8262-49bb-fbc5-35e3f2d7f042"
      },
      "execution_count": null,
      "outputs": [
        {
          "output_type": "stream",
          "name": "stdout",
          "text": [
            "Digite o valor do cateto oposto: 12.1\n",
            "Digite o valor do cateto adjacente: 6.3\n",
            "\n",
            " Dado o cateto oposto 12.1 e o cateto adjacente 6.3, obtêm-se a hipotenusa 13.641847382227965.\n"
          ]
        }
      ]
    },
    {
      "cell_type": "markdown",
      "source": [
        "## Exercício Python 18: Faça um programa que leia um ângulo qualquer e mostre na tela o valor do seno, cosseno e tangente desse ângulo."
      ],
      "metadata": {
        "id": "kcdeW-NEF7ur"
      }
    },
    {
      "cell_type": "code",
      "source": [
        "import math\n",
        "# o módulo math só calcula ângulos em radianos\n",
        "# é preciso usar o método math.radians para converter o ângulo de graus para radianos\n",
        "# foi passado para radianos para que o programa exiba o valor do seno, cosseno e da tangente do ângulo em graus.\n",
        "\n",
        "\n",
        "angulo = float(input('Digite um ângulo para saber o seno, cosseno e a tangente: '))\n",
        "\n",
        "# foi convertido para que seja calculado e convertido para graus\n",
        "sin = math.sin(math.radians(angulo))\n",
        "cos = math.cos(math.radians(angulo))\n",
        "tan = math.tan(math.radians(angulo))\n",
        "\n",
        "# esses valores de seno, cosseno e tangente são para o angulo em graus\n",
        "print(f'\\nPara o ângulo de {angulo} graus valor do seno em é {sin:.3f}.'\n",
        "      f'\\nPara o ângulo de {angulo} graus valor do cosseno em é {cos:.3f}.'\n",
        "      f'\\nPara o ângulo de {angulo} graus valor da tangente em é {tan:.3f}.')"
      ],
      "metadata": {
        "id": "PUeoH0pgF_yy",
        "colab": {
          "base_uri": "https://localhost:8080/"
        },
        "outputId": "c82697e6-0716-40c5-bc39-70ea16c59ea1"
      },
      "execution_count": null,
      "outputs": [
        {
          "output_type": "stream",
          "name": "stdout",
          "text": [
            "Digite um ângulo para saber o seno, cosseno e a tangente: 30\n",
            "\n",
            "Para o ângulo de 30.0 graus valor do seno em é 0.500.\n",
            "Para o ângulo de 30.0 graus valor do cosseno em é 0.866.\n",
            "Para o ângulo de 30.0 graus valor da tangente em é 0.577.\n"
          ]
        }
      ]
    },
    {
      "cell_type": "markdown",
      "source": [
        "## Exercício Python 19: Um professor quer sortear um dos seus quatro alunos para apagar o quadro. Faça um programa que ajude ele, lendo o nome dos alunos e escrevendo na tela o nome do escolhido."
      ],
      "metadata": {
        "id": "xdUjLm4bGEkW"
      }
    },
    {
      "cell_type": "code",
      "source": [
        "# \"import random\" simplificando:\n",
        "\n",
        "from random import choice # como só o método choice() está sendo utilizado, pode-se importar somente ele.\n",
        "\n",
        "\n",
        "n1 = input('Primeiro(a) aluno(a): ')\n",
        "n2 = input('Segundo(a) aluno(a): ')\n",
        "n3 = input('Terceiro(a) aluno(a): ')\n",
        "n4 = input('Quarto(a) aluno(a): ')\n",
        "\n",
        "alunos = [n1, n2, n3, n4]\n",
        "escolha = random.choice(alunos) # nesse exercício, utiliza-se o choice() ao invés do choices()\n",
        "\n",
        "print(f'O aluno(a) sorteado(a) foi: {escolha}.')"
      ],
      "metadata": {
        "id": "--4n3aP7GFWD",
        "colab": {
          "base_uri": "https://localhost:8080/"
        },
        "outputId": "71bacc49-5108-4036-82b9-f74dbcbf17ad"
      },
      "execution_count": null,
      "outputs": [
        {
          "output_type": "stream",
          "name": "stdout",
          "text": [
            "Primeiro(a) aluno(a): João\n",
            "Segundo(a) aluno(a): Arthur\n",
            "Terceiro(a) aluno(a): Marco\n",
            "Quarto(a) aluno(a): Ana\n",
            "O aluno(a) sorteado(a) foi: João.\n"
          ]
        }
      ]
    },
    {
      "cell_type": "markdown",
      "source": [
        "## Exercício Python 20: O mesmo professor do desafio 19 quer sortear a ordem de apresentação de trabalhos dos alunos. Faça um programa que leia o nome dos quatro alunos e mostre a ordem sorteada."
      ],
      "metadata": {
        "id": "_xvfpd5oGStZ"
      }
    },
    {
      "cell_type": "code",
      "source": [
        "import random\n",
        "# \"import random\" simplificando:\n",
        "\n",
        "from random import choice # como só o método choice() está sendo utilizado, pode-se importar somente ele.\n",
        "\n",
        "\n",
        "n1 = input('Primeiro(a) aluno(a): ')\n",
        "n2 = input('Segundo(a) aluno(a): ')\n",
        "n3 = input('Terceiro(a) aluno(a): ')\n",
        "n4 = input('Quarto(a) aluno(a): ')\n",
        "\n",
        "alunos = [n1, n2, n3, n4]\n",
        "escolha1 = random.choice(alunos) # nesse exercício, utiliza-se o choice() ao invés do choices()\n",
        "alunos.remove(escolha1) # remove o aluno que foi sorteado da lista\n",
        "escolha2 = random.choice(alunos)\n",
        "alunos.remove(escolha2)\n",
        "escolha3 = random.choice(alunos)\n",
        "alunos.remove(escolha3)\n",
        "escolha4 = random.choice(alunos)\n",
        "alunos.remove(escolha4)\n",
        "\n",
        "print(f'O primeiro aluno(a) sorteado(a) foi: {escolha1}.')\n",
        "print(f'O segundo aluno(a) sorteado(a) foi: {escolha2}.')\n",
        "print(f'O terceiro aluno(a) sorteado(a) foi: {escolha3}.')\n",
        "print(f'O quarto aluno(a) sorteado(a) foi: {escolha4}.')\n",
        "\n"
      ],
      "metadata": {
        "id": "JWPwbWthGVHC",
        "colab": {
          "base_uri": "https://localhost:8080/"
        },
        "outputId": "be0aa70c-cd8c-4670-cb9c-8776a39edee1"
      },
      "execution_count": null,
      "outputs": [
        {
          "output_type": "stream",
          "name": "stdout",
          "text": [
            "Primeiro(a) aluno(a): João\n",
            "Segundo(a) aluno(a): Pedro\n",
            "Terceiro(a) aluno(a): Manoel\n",
            "Quarto(a) aluno(a): ANa\n",
            "O primeiro aluno(a) sorteado(a) foi: João.\n",
            "O segundo aluno(a) sorteado(a) foi: Pedro.\n",
            "O terceiro aluno(a) sorteado(a) foi: ANa.\n",
            "O quarto aluno(a) sorteado(a) foi: Manoel.\n"
          ]
        }
      ]
    },
    {
      "cell_type": "markdown",
      "source": [
        "## Exercício Python 21: Faça um programa em Python que abra e reproduza o áudio de um arquivo MP3."
      ],
      "metadata": {
        "id": "vBzsW1D5GbDS"
      }
    },
    {
      "cell_type": "code",
      "source": [],
      "metadata": {
        "id": "ucDqLiw0Gdpf"
      },
      "execution_count": null,
      "outputs": []
    },
    {
      "cell_type": "markdown",
      "source": [
        "## Exercício Python 22: Crie um programa que leia o nome completo de uma pessoa e mostre:\n",
        "###– O nome com todas as letras maiúsculas e minúsculas.\n",
        "### – Quantas letras ao todo (sem considerar espaços).\n",
        "### – Quantas letras tem o primeiro nome."
      ],
      "metadata": {
        "id": "MDEH4Q_IGkf4"
      }
    },
    {
      "cell_type": "code",
      "source": [
        "nome = input('Digite um nome: ').strip('') # removendo os espaços que podem surgir início e fim da string digitada\n",
        "nomeSemEspaco = nome.replace(' ', '') # substituindo os espaços por nenhum caractere\n",
        "primeiroNome = nome.split(' ')[0] # dividir e selecionar apenas o primeiro elemento\n",
        "\n",
        "print(f'Nome em maiúsculo: {nome.upper()}.')\n",
        "print(f'Nome quantidade de letras (sem espaços): {len(nomeSemEspaco)}.')\n",
        "print(f'Quantidade de letras do primeiro nome: {len(primeiroNome)}.')\n",
        "\n"
      ],
      "metadata": {
        "id": "Hbga3LhKGxR7",
        "colab": {
          "base_uri": "https://localhost:8080/"
        },
        "outputId": "64e89740-4ac2-471b-b3e8-0296a7971ced"
      },
      "execution_count": null,
      "outputs": [
        {
          "output_type": "stream",
          "name": "stdout",
          "text": [
            "Digite um nome: Junior do Nascimento Xavier\n",
            "Nome em maiúsculo: JUNIOR DO NASCIMENTO XAVIER.\n",
            "Nome quantidade de letras (sem espaços): 24.\n",
            "Quantidade de letras do primeiro nome: 6.\n"
          ]
        }
      ]
    },
    {
      "cell_type": "markdown",
      "source": [
        "## Exercício Python 23: Faça um programa que leia um número de 0 a 9999 e mostre na tela cada um dos dígitos separados."
      ],
      "metadata": {
        "id": "jP4aiIspG8PY"
      }
    },
    {
      "cell_type": "code",
      "source": [
        "num = input('Digite um número inteiro de 0 a 9999: ')\n",
        "milhar = num[0]\n",
        "centena = num[1]\n",
        "dezena = num[2]\n",
        "unidade = num[3]\n",
        "\n",
        "#centena\n",
        "print(f'Milhar: {milhar}')\n",
        "print(f'Centena: {centena}')\n",
        "print(f'Dezena: {dezena}')\n",
        "print(f'Unidade: {unidade}')\n"
      ],
      "metadata": {
        "id": "e_ozquCiG9L5",
        "colab": {
          "base_uri": "https://localhost:8080/"
        },
        "outputId": "59dc9b75-081e-44cc-c826-769e85cea687"
      },
      "execution_count": null,
      "outputs": [
        {
          "output_type": "stream",
          "name": "stdout",
          "text": [
            "Digite um número inteiro de 0 a 9999: 4567\n",
            "Milhar: 4\n",
            "Centena: 5\n",
            "Dezena: 6\n",
            "Unidade: 7\n"
          ]
        }
      ]
    },
    {
      "cell_type": "markdown",
      "source": [
        "## Exercício Python 24: Crie um programa que leia o nome de uma cidade diga se ela começa ou não com o nome “SANTO”."
      ],
      "metadata": {
        "id": "a_Ae54VbG9_S"
      }
    },
    {
      "cell_type": "code",
      "source": [
        "cidade = input('Digite o nome de uma cidade: ').upper()\n",
        "\n",
        "print('SANTO' in cidade[0:5])\n"
      ],
      "metadata": {
        "id": "_FOVWVJ5HBsJ",
        "colab": {
          "base_uri": "https://localhost:8080/"
        },
        "outputId": "8eb959e3-5c4d-4b8f-e1be-8b486cd4676d"
      },
      "execution_count": null,
      "outputs": [
        {
          "output_type": "stream",
          "name": "stdout",
          "text": [
            "Digite o nome de uma cidade: Santo André\n",
            "True\n"
          ]
        }
      ]
    },
    {
      "cell_type": "markdown",
      "source": [
        "## Exercício Python 25: Crie um programa que leia o nome de uma pessoa e diga se ela tem “SILVA” no nome."
      ],
      "metadata": {
        "id": "i4hww-9NHFNx"
      }
    },
    {
      "cell_type": "code",
      "source": [
        "nome = input('Digite o nome de uma pessoa: ')\n",
        "nomeMaiusculo = nome.upper() # serve apenas para comprar com a string SILVA\n",
        "\n",
        "print(f'{nome} tem SILVA?', 'SILVA' in nomeMaiusculo)"
      ],
      "metadata": {
        "id": "du1upzxGHGZo",
        "colab": {
          "base_uri": "https://localhost:8080/"
        },
        "outputId": "8c96d8a6-9e3d-41c9-ec0f-24c79e4ea9a0"
      },
      "execution_count": null,
      "outputs": [
        {
          "output_type": "stream",
          "name": "stdout",
          "text": [
            "Digite o nome de uma pessoa: otávio dos santos melchiades silva\n",
            "otávio dos santos melchiades silva tem SILVA? True\n"
          ]
        }
      ]
    },
    {
      "cell_type": "markdown",
      "source": [
        "## Exercício Python 26: Faça um programa que leia uma frase pelo teclado e mostre quantas vezes aparece a letra “A”, em que posição ela aparece a primeira vez e em que posição ela aparece a última vez."
      ],
      "metadata": {
        "id": "7dy8NbKvHKAj"
      }
    },
    {
      "cell_type": "code",
      "source": [
        "frase = input('Digite uma frase: ')\n",
        "fraseMaiuscula = frase.upper()\n",
        "posA = fraseMaiuscula.find('A')\n",
        "posUltimoA = fraseMaiuscula.rfind('A') # retorna a última posição do caractere desejado\n",
        "qtdA = fraseMaiuscula.count('A')\n",
        "\n",
        "print(f'A quantidade de \"A\" na frase digitada é {qtdA}.')\n",
        "print(f'O primeiro \"A\" aparece na posição {posA}.')\n",
        "print(f'O último \"A\" aparece na posição {posUltimoA}.')\n",
        "# Joana foi pescar ontem a noite"
      ],
      "metadata": {
        "id": "4D9_tsQyHK53",
        "colab": {
          "base_uri": "https://localhost:8080/"
        },
        "outputId": "25c67b58-bc84-4ef9-9947-1c1db3fa9a2d"
      },
      "execution_count": null,
      "outputs": [
        {
          "output_type": "stream",
          "name": "stdout",
          "text": [
            "Digite uma frase: Joana foi pescar ontem a noite\n",
            "A quantidade de \"A\" na frase digitada é 4.\n",
            "O primeiro \"A\" aparece na posição 2.\n",
            "O último \"A\" aparece na posição 23.\n"
          ]
        }
      ]
    },
    {
      "cell_type": "markdown",
      "source": [
        "## Exercício Python 27: Faça um programa que leia o nome completo de uma pessoa, mostrando em seguida o primeiro e o último nome separadamente."
      ],
      "metadata": {
        "id": "gdwmKCYVHOWc"
      }
    },
    {
      "cell_type": "code",
      "source": [
        "nome = input('Digite um nome: ').strip()\n",
        "print(nome)\n",
        "\n",
        "primeiroNome = nome.split(' ')[0]\n",
        "print(f'Primeiro nome: {primeiroNome}.')\n",
        "ultimoNome = nome.split(' ')[-1]\n",
        "print(f'Último nome: {ultimoNome}.')"
      ],
      "metadata": {
        "id": "ON0cci54HPI4",
        "colab": {
          "base_uri": "https://localhost:8080/"
        },
        "outputId": "962dad65-91eb-4bcb-bc35-e670d788ce9e"
      },
      "execution_count": null,
      "outputs": [
        {
          "output_type": "stream",
          "name": "stdout",
          "text": [
            "Digite um nome: João da Silva Neves Teixeira de Mello Abbot\n",
            "João da Silva Neves Teixeira de Mello Abbot\n",
            "Primeiro nome: João.\n",
            "Último nome: Abbot.\n"
          ]
        }
      ]
    },
    {
      "cell_type": "markdown",
      "source": [
        "## Exercício Python 28: Escreva um programa que faça o computador “pensar” em um número inteiro entre 0 e 5 e peça para o usuário tentar descobrir qual foi o número escolhido pelo computador. O programa deverá escrever na tela se o usuário venceu ou perdeu."
      ],
      "metadata": {
        "id": "WCX2dI7FHaAd"
      }
    },
    {
      "cell_type": "code",
      "source": [
        "import random\n",
        "\n",
        "numeros = [0, 1, 2, 3, 4, 5]\n",
        "\n",
        "escolhaPC = random.choice(numeros)\n",
        "escolhaHumano = int(input('Digite um número de 0 a 5 para tentar vencer o Computador: '))\n",
        "\n",
        "if escolhaPC == escolhaHumano:\n",
        "  print(f'Escolha PC: {escolhaPC}')\n",
        "  print(f'Escolha humano: {escolhaHumano}')\n",
        "  print('PARABÉNS! VOCÊ ME VENCEU, HUMANO!')\n",
        "else:\n",
        "  print(f'Escolha PC: {escolhaPC}')\n",
        "  print(f'Escolha humano: {escolhaHumano}')\n",
        "  print('HAHAHAHA SUCUMBA À REBELIÃO DAS MÁQUINAS, PERDEDOR!')\n"
      ],
      "metadata": {
        "id": "djnRO0w7Hbz3",
        "colab": {
          "base_uri": "https://localhost:8080/"
        },
        "outputId": "8cb0acc9-6162-4603-9e7e-d23f43bf104d"
      },
      "execution_count": null,
      "outputs": [
        {
          "output_type": "stream",
          "name": "stdout",
          "text": [
            "Digite um número de 0 a 5 para tentar vencer o Computador: 0\n",
            "Escolha PC: 0\n",
            "Escolha humano: 0\n",
            "PARABÉNS! VOCÊ ME VENCEU, HUMANO!\n"
          ]
        }
      ]
    },
    {
      "cell_type": "markdown",
      "source": [
        "## Exercício Python 29: Escreva um programa que leia a velocidade de um carro. Se ele ultrapassar 80Km/h, mostre uma mensagem dizendo que ele foi multado. A multa vai custar R$7,00 por cada Km acima do limite."
      ],
      "metadata": {
        "id": "g_09Oj_zHfS7"
      }
    },
    {
      "cell_type": "code",
      "source": [
        "vel = int(input('Digite a velocidade do carro: '))\n",
        "diff = vel - 80\n",
        "if (vel > 80) & (diff > 0):\n",
        "  print(f'Você estava acima do limite de velocidade permitido e foi multado em {diff * 7} reais.')\n",
        "else:\n",
        "  print('O carro está dentro do limite de velocidade permitido.')"
      ],
      "metadata": {
        "id": "WimagszeHf_n",
        "colab": {
          "base_uri": "https://localhost:8080/"
        },
        "outputId": "8935b163-15d6-47bc-8394-cb99218425cf"
      },
      "execution_count": null,
      "outputs": [
        {
          "output_type": "stream",
          "name": "stdout",
          "text": [
            "Digite a velocidade do carro: 93\n",
            "Você estava acima do limite de velocidade permitido e foi multado em 91 reais.\n"
          ]
        }
      ]
    },
    {
      "cell_type": "markdown",
      "source": [
        "## Exercício Python 30: Crie um programa que leia um número inteiro e mostre na tela se ele é PAR ou ÍMPAR."
      ],
      "metadata": {
        "id": "q19rGEj6Hj7h"
      }
    },
    {
      "cell_type": "code",
      "source": [
        "num = int(input('Digite um número para descobrir se ele é PAR ou ÍMPAR: '))\n",
        "\n",
        "if num % 2 == 0:\n",
        "  print(f'{num} É PAR!')\n",
        "else:\n",
        "  print(f'{num} É ÍMPAR!')"
      ],
      "metadata": {
        "id": "CKzNzV1mHkuv",
        "colab": {
          "base_uri": "https://localhost:8080/"
        },
        "outputId": "d15d8d63-1bef-4828-a3b2-79d32ec5ed63"
      },
      "execution_count": null,
      "outputs": [
        {
          "output_type": "stream",
          "name": "stdout",
          "text": [
            "Digite um número para descobrir se ele é PAR ou ÍMPAR: 12\n",
            "12 É PAR!\n"
          ]
        }
      ]
    },
    {
      "cell_type": "markdown",
      "source": [
        "## Exercício Python 31: Desenvolva um programa que pergunte a distância de uma viagem em Km. Calcule o preço da passagem, cobrando 0,50 centavos por Km para viagens de até 200Km e 0,45 centavos para viagens mais longas."
      ],
      "metadata": {
        "id": "NF4NRFm1HpLj"
      }
    },
    {
      "cell_type": "code",
      "source": [
        "distancia = float(input('Digite a distância da viagem em Km: '))\n",
        "preco = 0\n",
        "\n",
        "if distancia <= 200:\n",
        "  preco = distancia * 0.5\n",
        "else:\n",
        "  preco = distancia * 0.45\n",
        "\n",
        "print(f'A sua viagem de {distancia} Km sairá por {preco} reais.')"
      ],
      "metadata": {
        "id": "Yq-DXcUuHqK2",
        "colab": {
          "base_uri": "https://localhost:8080/"
        },
        "outputId": "271e69cd-9501-461b-832f-39b34a7e5ac9"
      },
      "execution_count": null,
      "outputs": [
        {
          "output_type": "stream",
          "name": "stdout",
          "text": [
            "Digite a distância da viagem em Km: 195\n",
            "A sua viagem de 195.0 Km sairá por 97.5 reais.\n"
          ]
        }
      ]
    },
    {
      "cell_type": "markdown",
      "source": [
        "## Exercício Python 32: Faça um programa que leia um ano qualquer e mostre se ele é bissexto."
      ],
      "metadata": {
        "id": "1R80tI8lH0FJ"
      }
    },
    {
      "cell_type": "code",
      "source": [
        "ano = int(input('Digite o ano para saber se ele é bissexto: '))\n",
        "\n",
        "if (ano % 4 == 0 and ano % 100 != 0) or (ano % 400 == 0):\n",
        "  print(f'{ano} é bissexto!')\n",
        "else:\n",
        "  print(f'{ano} não é bissexto!')"
      ],
      "metadata": {
        "id": "OvSx3O_AH0-H",
        "colab": {
          "base_uri": "https://localhost:8080/"
        },
        "outputId": "65b02bb2-a98c-405a-9360-effab05e72de"
      },
      "execution_count": null,
      "outputs": [
        {
          "output_type": "stream",
          "name": "stdout",
          "text": [
            "Digite o ano para saber se ele é bissexto: 2000\n",
            "2000 é bissexto!\n"
          ]
        }
      ]
    },
    {
      "cell_type": "markdown",
      "source": [
        "## Exercício Python 33: Faça um programa que leia três números e mostre qual é o maior e qual é o menor."
      ],
      "metadata": {
        "id": "etFA2cTJH4WM"
      }
    },
    {
      "cell_type": "code",
      "source": [
        "n1 = float(input('Digite o primeiro número: '))\n",
        "n2 = float(input('Digite o segundo número: '))\n",
        "n3 = float(input('Digite o terceiro número: '))\n",
        "maior = 0\n",
        "menor = 0\n",
        "\n",
        "if (n1 > n2) & (n1 > n3):\n",
        "  maior = n1\n",
        "  if n2 > n3:\n",
        "    menor = n3\n",
        "  else:\n",
        "    menor = n2\n",
        "elif (n2 > n1) & (n2 > n3):\n",
        "  maior = n2\n",
        "  if n1 > n3:\n",
        "    menor = n3\n",
        "  else:\n",
        "    menor = n1\n",
        "else:\n",
        "  maior = n3\n",
        "  if n2 > n1:\n",
        "    menor = n1\n",
        "  else:\n",
        "    menor = n2\n",
        "\n",
        "print(f'O maior número é {maior}.')\n",
        "print(f'O menor número é {menor}.')\n",
        "\n"
      ],
      "metadata": {
        "id": "dc8W4JI6H5PX",
        "colab": {
          "base_uri": "https://localhost:8080/"
        },
        "outputId": "46d4bf6f-2645-4d6b-afc9-b61e8b8f34b3"
      },
      "execution_count": null,
      "outputs": [
        {
          "output_type": "stream",
          "name": "stdout",
          "text": [
            "Digite o primeiro número: 0\n",
            "Digite o segundo número: 3\n",
            "Digite o terceiro número: 1\n",
            "O maior número é 3.0.\n",
            "O menor número é 0.0.\n"
          ]
        }
      ]
    },
    {
      "cell_type": "markdown",
      "source": [
        "## Exercício Python 34: Escreva um programa que pergunte o salário de um funcionário e calcule o valor do seu aumento. Para salários superiores a R$1250,00, calcule um aumento de 10%. Para os inferiores ou iguais, o aumento é de 15%."
      ],
      "metadata": {
        "id": "uaXlDXqvKxs3"
      }
    },
    {
      "cell_type": "code",
      "source": [
        "salario = float(input('Digite o salário do(a) funcionário(a): '))\n",
        "novoSalario = 0\n",
        "if salario > 1250:\n",
        "  novoSalario = salario + (salario * 0.1)\n",
        "else:\n",
        "  novoSalario = salario + (salario * 0.15)\n",
        "\n",
        "print(f'O novo salário do(a) funcionário(a) será de {novoSalario} reais.')"
      ],
      "metadata": {
        "id": "e0sz2ZxNKzKx",
        "colab": {
          "base_uri": "https://localhost:8080/"
        },
        "outputId": "d7df5124-812d-4595-b388-31661b23f873"
      },
      "execution_count": null,
      "outputs": [
        {
          "output_type": "stream",
          "name": "stdout",
          "text": [
            "Digite o salário do(a) funcionário(a): 1150\n",
            "O novo salário do(a) funcionário(a) será de 1322.5 reais.\n"
          ]
        }
      ]
    },
    {
      "cell_type": "markdown",
      "source": [
        "## Exercício Python 35: Desenvolva um programa que leia o comprimento de três retas e diga ao usuário se elas podem ou não formar um triângulo."
      ],
      "metadata": {
        "id": "qrVRAsuMK3W5"
      }
    },
    {
      "cell_type": "code",
      "source": [
        "r1 = float(input('Digite o comprimento da primeira reta: '))\n",
        "r2 = float(input('Digite o comprimento da segunda reta: '))\n",
        "r3 = float(input('Digite o comprimento da terceira reta: '))\n",
        "\n",
        "if ((r1 + r2) > r3) and ((r2 + r3) > r1) and ((r1 + r3) > r2):\n",
        "  print('Essas retas podem formar um triângulo!')\n",
        "else:\n",
        "  print('Essas retas NÃO podem formar um triângulo!')"
      ],
      "metadata": {
        "id": "3bVr4OXrK4gi",
        "colab": {
          "base_uri": "https://localhost:8080/"
        },
        "outputId": "b1bfdbfa-eaaf-49d4-c10b-a1a1533ae8a0"
      },
      "execution_count": null,
      "outputs": [
        {
          "output_type": "stream",
          "name": "stdout",
          "text": [
            "Digite o comprimento da primeira reta: 9\n",
            "Digite o comprimento da segunda reta: 7\n",
            "Digite o comprimento da terceira reta: 8\n",
            "Essas retas podem formar um triângulo!\n"
          ]
        }
      ]
    }
  ]
}